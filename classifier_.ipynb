{
  "nbformat": 4,
  "nbformat_minor": 0,
  "metadata": {
    "colab": {
      "name": "classifier .ipynb",
      "provenance": [],
      "collapsed_sections": [],
      "mount_file_id": "1i5fxsYKrhJsryhkRYtsbglqpYcGjicQl",
      "authorship_tag": "ABX9TyPa9/PFm2a9Askdynd971I2",
      "include_colab_link": true
    },
    "kernelspec": {
      "name": "python3",
      "display_name": "Python 3"
    },
    "language_info": {
      "name": "python"
    }
  },
  "cells": [
    {
      "cell_type": "markdown",
      "metadata": {
        "id": "view-in-github",
        "colab_type": "text"
      },
      "source": [
        "<a href=\"https://colab.research.google.com/github/PIYALI-bhunia/DEEP_LEARNING/blob/main/classifier_.ipynb\" target=\"_parent\"><img src=\"https://colab.research.google.com/assets/colab-badge.svg\" alt=\"Open In Colab\"/></a>"
      ]
    },
    {
      "cell_type": "code",
      "metadata": {
        "id": "nRp4bqx4hny7"
      },
      "source": [
        "import numpy as np\n",
        "import matplotlib.pyplot as plt\n",
        "import pandas as pd"
      ],
      "execution_count": 1,
      "outputs": []
    },
    {
      "cell_type": "code",
      "metadata": {
        "colab": {
          "base_uri": "https://localhost:8080/"
        },
        "id": "KxD_3X3pqhpj",
        "outputId": "92420d30-7f89-40cd-a8bc-d0a2505d2437"
      },
      "source": [
        "dataset=pd.read_csv(\"/content/drive/MyDrive/ML DATASET/diabetes.csv\")\n",
        "dataset.shape"
      ],
      "execution_count": 2,
      "outputs": [
        {
          "output_type": "execute_result",
          "data": {
            "text/plain": [
              "(768, 9)"
            ]
          },
          "metadata": {},
          "execution_count": 2
        }
      ]
    },
    {
      "cell_type": "code",
      "metadata": {
        "id": "-nA_HP4euUej"
      },
      "source": [
        "X=dataset.iloc[:, :-1]\n",
        "y=dataset.iloc[:, -1]"
      ],
      "execution_count": 3,
      "outputs": []
    },
    {
      "cell_type": "code",
      "metadata": {
        "colab": {
          "base_uri": "https://localhost:8080/"
        },
        "id": "g2tIhuoqu3Sx",
        "outputId": "8bbcb494-ca96-4d44-eeea-f85418c0b734"
      },
      "source": [
        "from sklearn.model_selection import train_test_split\n",
        "X_train, X_test, y_train, y_test = train_test_split(X, y, test_size = 0.2, random_state = 0)\n",
        "\n",
        "# Feature Scaling\n",
        "from sklearn.preprocessing import StandardScaler\n",
        "sc = StandardScaler()\n",
        "X_train = sc.fit_transform(X_train)\n",
        "X_test = sc.transform(X_test)\n",
        "X_train.shape"
      ],
      "execution_count": 4,
      "outputs": [
        {
          "output_type": "execute_result",
          "data": {
            "text/plain": [
              "(614, 8)"
            ]
          },
          "metadata": {},
          "execution_count": 4
        }
      ]
    },
    {
      "cell_type": "code",
      "metadata": {
        "colab": {
          "base_uri": "https://localhost:8080/"
        },
        "id": "Zv9DVj1kMpZl",
        "outputId": "16b07210-c7f4-4610-ee04-27eb050d41f3"
      },
      "source": [
        "!pip install keras-tuner"
      ],
      "execution_count": 5,
      "outputs": [
        {
          "output_type": "stream",
          "name": "stdout",
          "text": [
            "Collecting keras-tuner\n",
            "  Downloading keras_tuner-1.1.0-py3-none-any.whl (98 kB)\n",
            "\u001b[?25l\r\u001b[K     |███▍                            | 10 kB 28.0 MB/s eta 0:00:01\r\u001b[K     |██████▊                         | 20 kB 36.0 MB/s eta 0:00:01\r\u001b[K     |██████████                      | 30 kB 26.3 MB/s eta 0:00:01\r\u001b[K     |█████████████▍                  | 40 kB 20.4 MB/s eta 0:00:01\r\u001b[K     |████████████████▊               | 51 kB 15.7 MB/s eta 0:00:01\r\u001b[K     |████████████████████            | 61 kB 11.7 MB/s eta 0:00:01\r\u001b[K     |███████████████████████▍        | 71 kB 13.1 MB/s eta 0:00:01\r\u001b[K     |██████████████████████████▊     | 81 kB 14.6 MB/s eta 0:00:01\r\u001b[K     |██████████████████████████████  | 92 kB 13.3 MB/s eta 0:00:01\r\u001b[K     |████████████████████████████████| 98 kB 4.7 MB/s \n",
            "\u001b[?25hCollecting kt-legacy\n",
            "  Downloading kt_legacy-1.0.4-py3-none-any.whl (9.6 kB)\n",
            "Requirement already satisfied: tensorboard in /usr/local/lib/python3.7/dist-packages (from keras-tuner) (2.7.0)\n",
            "Requirement already satisfied: packaging in /usr/local/lib/python3.7/dist-packages (from keras-tuner) (21.3)\n",
            "Requirement already satisfied: ipython in /usr/local/lib/python3.7/dist-packages (from keras-tuner) (5.5.0)\n",
            "Requirement already satisfied: requests in /usr/local/lib/python3.7/dist-packages (from keras-tuner) (2.23.0)\n",
            "Requirement already satisfied: scipy in /usr/local/lib/python3.7/dist-packages (from keras-tuner) (1.4.1)\n",
            "Requirement already satisfied: numpy in /usr/local/lib/python3.7/dist-packages (from keras-tuner) (1.19.5)\n",
            "Requirement already satisfied: traitlets>=4.2 in /usr/local/lib/python3.7/dist-packages (from ipython->keras-tuner) (5.1.1)\n",
            "Requirement already satisfied: simplegeneric>0.8 in /usr/local/lib/python3.7/dist-packages (from ipython->keras-tuner) (0.8.1)\n",
            "Requirement already satisfied: pexpect in /usr/local/lib/python3.7/dist-packages (from ipython->keras-tuner) (4.8.0)\n",
            "Requirement already satisfied: prompt-toolkit<2.0.0,>=1.0.4 in /usr/local/lib/python3.7/dist-packages (from ipython->keras-tuner) (1.0.18)\n",
            "Requirement already satisfied: setuptools>=18.5 in /usr/local/lib/python3.7/dist-packages (from ipython->keras-tuner) (57.4.0)\n",
            "Requirement already satisfied: decorator in /usr/local/lib/python3.7/dist-packages (from ipython->keras-tuner) (4.4.2)\n",
            "Requirement already satisfied: pygments in /usr/local/lib/python3.7/dist-packages (from ipython->keras-tuner) (2.6.1)\n",
            "Requirement already satisfied: pickleshare in /usr/local/lib/python3.7/dist-packages (from ipython->keras-tuner) (0.7.5)\n",
            "Requirement already satisfied: six>=1.9.0 in /usr/local/lib/python3.7/dist-packages (from prompt-toolkit<2.0.0,>=1.0.4->ipython->keras-tuner) (1.15.0)\n",
            "Requirement already satisfied: wcwidth in /usr/local/lib/python3.7/dist-packages (from prompt-toolkit<2.0.0,>=1.0.4->ipython->keras-tuner) (0.2.5)\n",
            "Requirement already satisfied: pyparsing!=3.0.5,>=2.0.2 in /usr/local/lib/python3.7/dist-packages (from packaging->keras-tuner) (3.0.6)\n",
            "Requirement already satisfied: ptyprocess>=0.5 in /usr/local/lib/python3.7/dist-packages (from pexpect->ipython->keras-tuner) (0.7.0)\n",
            "Requirement already satisfied: chardet<4,>=3.0.2 in /usr/local/lib/python3.7/dist-packages (from requests->keras-tuner) (3.0.4)\n",
            "Requirement already satisfied: idna<3,>=2.5 in /usr/local/lib/python3.7/dist-packages (from requests->keras-tuner) (2.10)\n",
            "Requirement already satisfied: certifi>=2017.4.17 in /usr/local/lib/python3.7/dist-packages (from requests->keras-tuner) (2021.10.8)\n",
            "Requirement already satisfied: urllib3!=1.25.0,!=1.25.1,<1.26,>=1.21.1 in /usr/local/lib/python3.7/dist-packages (from requests->keras-tuner) (1.24.3)\n",
            "Requirement already satisfied: absl-py>=0.4 in /usr/local/lib/python3.7/dist-packages (from tensorboard->keras-tuner) (0.12.0)\n",
            "Requirement already satisfied: google-auth<3,>=1.6.3 in /usr/local/lib/python3.7/dist-packages (from tensorboard->keras-tuner) (1.35.0)\n",
            "Requirement already satisfied: tensorboard-data-server<0.7.0,>=0.6.0 in /usr/local/lib/python3.7/dist-packages (from tensorboard->keras-tuner) (0.6.1)\n",
            "Requirement already satisfied: protobuf>=3.6.0 in /usr/local/lib/python3.7/dist-packages (from tensorboard->keras-tuner) (3.17.3)\n",
            "Requirement already satisfied: markdown>=2.6.8 in /usr/local/lib/python3.7/dist-packages (from tensorboard->keras-tuner) (3.3.6)\n",
            "Requirement already satisfied: tensorboard-plugin-wit>=1.6.0 in /usr/local/lib/python3.7/dist-packages (from tensorboard->keras-tuner) (1.8.0)\n",
            "Requirement already satisfied: wheel>=0.26 in /usr/local/lib/python3.7/dist-packages (from tensorboard->keras-tuner) (0.37.0)\n",
            "Requirement already satisfied: grpcio>=1.24.3 in /usr/local/lib/python3.7/dist-packages (from tensorboard->keras-tuner) (1.42.0)\n",
            "Requirement already satisfied: werkzeug>=0.11.15 in /usr/local/lib/python3.7/dist-packages (from tensorboard->keras-tuner) (1.0.1)\n",
            "Requirement already satisfied: google-auth-oauthlib<0.5,>=0.4.1 in /usr/local/lib/python3.7/dist-packages (from tensorboard->keras-tuner) (0.4.6)\n",
            "Requirement already satisfied: cachetools<5.0,>=2.0.0 in /usr/local/lib/python3.7/dist-packages (from google-auth<3,>=1.6.3->tensorboard->keras-tuner) (4.2.4)\n",
            "Requirement already satisfied: rsa<5,>=3.1.4 in /usr/local/lib/python3.7/dist-packages (from google-auth<3,>=1.6.3->tensorboard->keras-tuner) (4.7.2)\n",
            "Requirement already satisfied: pyasn1-modules>=0.2.1 in /usr/local/lib/python3.7/dist-packages (from google-auth<3,>=1.6.3->tensorboard->keras-tuner) (0.2.8)\n",
            "Requirement already satisfied: requests-oauthlib>=0.7.0 in /usr/local/lib/python3.7/dist-packages (from google-auth-oauthlib<0.5,>=0.4.1->tensorboard->keras-tuner) (1.3.0)\n",
            "Requirement already satisfied: importlib-metadata>=4.4 in /usr/local/lib/python3.7/dist-packages (from markdown>=2.6.8->tensorboard->keras-tuner) (4.8.2)\n",
            "Requirement already satisfied: zipp>=0.5 in /usr/local/lib/python3.7/dist-packages (from importlib-metadata>=4.4->markdown>=2.6.8->tensorboard->keras-tuner) (3.6.0)\n",
            "Requirement already satisfied: typing-extensions>=3.6.4 in /usr/local/lib/python3.7/dist-packages (from importlib-metadata>=4.4->markdown>=2.6.8->tensorboard->keras-tuner) (3.10.0.2)\n",
            "Requirement already satisfied: pyasn1<0.5.0,>=0.4.6 in /usr/local/lib/python3.7/dist-packages (from pyasn1-modules>=0.2.1->google-auth<3,>=1.6.3->tensorboard->keras-tuner) (0.4.8)\n",
            "Requirement already satisfied: oauthlib>=3.0.0 in /usr/local/lib/python3.7/dist-packages (from requests-oauthlib>=0.7.0->google-auth-oauthlib<0.5,>=0.4.1->tensorboard->keras-tuner) (3.1.1)\n",
            "Installing collected packages: kt-legacy, keras-tuner\n",
            "Successfully installed keras-tuner-1.1.0 kt-legacy-1.0.4\n"
          ]
        }
      ]
    },
    {
      "cell_type": "code",
      "metadata": {
        "id": "XE0vuHT_wdWO"
      },
      "source": [
        "import keras\n",
        "from keras.models import Sequential\n",
        "from keras.layers import Dense\n",
        "from keras.layers import LeakyReLU,PReLU,ELU\n",
        "from keras.layers import *\n",
        "import keras_tuner as kt\n",
        "import tensorflow as tf\n",
        "from tensorflow.keras.optimizers import Adam"
      ],
      "execution_count": 17,
      "outputs": []
    },
    {
      "cell_type": "code",
      "metadata": {
        "id": "oxbRgofbCQ32"
      },
      "source": [
        "def build_model(hp):\n",
        "    model = keras.Sequential()\n",
        "    model.add(keras.layers.Flatten(input_shape=(8,)))\n",
        "    for i in range(hp.Int('num_layers', 2, 20)):\n",
        "        model.add(Dense(units=hp.Int('units_' + str(i),\n",
        "                                            min_value=32,\n",
        "                                            max_value=512,\n",
        "                                            step=32),\n",
        "                               activation='relu'))\n",
        "    model.add(Dense(1, activation='sigmoid'))\n",
        "\n",
        "    model.compile(\n",
        "        optimizer=tf.keras.optimizers.Adam(\n",
        "            hp.Choice('learning_rate', [1e-2, 1e-3, 1e-4])),\n",
        "        loss='binary_crossentropy',\n",
        "        metrics=['accuracy'])\n",
        "    return model"
      ],
      "execution_count": 7,
      "outputs": []
    },
    {
      "cell_type": "code",
      "metadata": {
        "id": "7MUV5jBXCZEX"
      },
      "source": [
        "tuner = kt.RandomSearch(\n",
        "    build_model,\n",
        "    objective='val_accuracy',\n",
        "    max_trials=5,\n",
        "    executions_per_trial=3,\n",
        "    directory='project',\n",
        "    project_name='diabetes')\n"
      ],
      "execution_count": 8,
      "outputs": []
    },
    {
      "cell_type": "code",
      "metadata": {
        "colab": {
          "base_uri": "https://localhost:8080/"
        },
        "id": "GF3gHtxXCZH3",
        "outputId": "a37db031-c924-4958-db93-df7aed646cf9"
      },
      "source": [
        "tuner.search_space_summary()"
      ],
      "execution_count": 9,
      "outputs": [
        {
          "output_type": "stream",
          "name": "stdout",
          "text": [
            "Search space summary\n",
            "Default search space size: 4\n",
            "num_layers (Int)\n",
            "{'default': None, 'conditions': [], 'min_value': 2, 'max_value': 20, 'step': 1, 'sampling': None}\n",
            "units_0 (Int)\n",
            "{'default': None, 'conditions': [], 'min_value': 32, 'max_value': 512, 'step': 32, 'sampling': None}\n",
            "units_1 (Int)\n",
            "{'default': None, 'conditions': [], 'min_value': 32, 'max_value': 512, 'step': 32, 'sampling': None}\n",
            "learning_rate (Choice)\n",
            "{'default': 0.01, 'conditions': [], 'values': [0.01, 0.001, 0.0001], 'ordered': True}\n"
          ]
        }
      ]
    },
    {
      "cell_type": "code",
      "metadata": {
        "id": "iimJU6urCZNT"
      },
      "source": [
        "from sklearn.model_selection import train_test_split\n",
        "X_train, X_test, y_train, y_test = train_test_split(X, y, test_size=0.3, random_state=0)\n",
        "from sklearn.preprocessing import MinMaxScaler\n"
      ],
      "execution_count": 10,
      "outputs": []
    },
    {
      "cell_type": "code",
      "metadata": {
        "id": "Jn9yYoxkPUY2"
      },
      "source": [
        "scaler = MinMaxScaler()\n",
        "X_train_scaled = scaler.fit_transform(X_train)\n",
        "X_test_scaled = scaler.transform(X_test)\n"
      ],
      "execution_count": 11,
      "outputs": []
    },
    {
      "cell_type": "code",
      "metadata": {
        "colab": {
          "base_uri": "https://localhost:8080/"
        },
        "id": "DANdtw6NCO50",
        "outputId": "42f63309-c458-4730-a00a-7691e51d750b"
      },
      "source": [
        "tuner.search(X_train_scaled, y_train,\n",
        "             epochs=100,\n",
        "             validation_data=(X_test_scaled, y_test))"
      ],
      "execution_count": 12,
      "outputs": [
        {
          "output_type": "stream",
          "name": "stdout",
          "text": [
            "Trial 5 Complete [00h 00m 32s]\n",
            "val_accuracy: 0.7965368032455444\n",
            "\n",
            "Best val_accuracy So Far: 0.7965368032455444\n",
            "Total elapsed time: 00h 05m 49s\n",
            "INFO:tensorflow:Oracle triggered exit\n"
          ]
        }
      ]
    },
    {
      "cell_type": "code",
      "metadata": {
        "colab": {
          "base_uri": "https://localhost:8080/"
        },
        "id": "GazSdvHfO9HF",
        "outputId": "a315b15a-b2ab-4519-920f-c37da7fac526"
      },
      "source": [
        "tuner.results_summary()"
      ],
      "execution_count": null,
      "outputs": [
        {
          "output_type": "stream",
          "name": "stdout",
          "text": [
            "Results summary\n",
            "Results in project/diabetes\n",
            "Showing 10 best trials\n",
            "Objective(name='val_accuracy', direction='max')\n",
            "Trial summary\n",
            "Hyperparameters:\n",
            "num_layers: 9\n",
            "units_0: 96\n",
            "units_1: 288\n",
            "learning_rate: 0.01\n",
            "units_2: 32\n",
            "units_3: 32\n",
            "units_4: 32\n",
            "units_5: 32\n",
            "units_6: 32\n",
            "units_7: 32\n",
            "units_8: 32\n",
            "Score: 0.7936507860819498\n",
            "Trial summary\n",
            "Hyperparameters:\n",
            "num_layers: 17\n",
            "units_0: 480\n",
            "units_1: 192\n",
            "learning_rate: 0.0001\n",
            "units_2: 384\n",
            "units_3: 160\n",
            "units_4: 416\n",
            "units_5: 192\n",
            "units_6: 64\n",
            "units_7: 384\n",
            "units_8: 256\n",
            "units_9: 32\n",
            "units_10: 32\n",
            "units_11: 32\n",
            "units_12: 32\n",
            "units_13: 32\n",
            "units_14: 32\n",
            "units_15: 32\n",
            "units_16: 32\n",
            "Score: 0.7922078172365824\n",
            "Trial summary\n",
            "Hyperparameters:\n",
            "num_layers: 9\n",
            "units_0: 480\n",
            "units_1: 288\n",
            "learning_rate: 0.0001\n",
            "units_2: 448\n",
            "units_3: 160\n",
            "units_4: 352\n",
            "units_5: 192\n",
            "units_6: 192\n",
            "units_7: 352\n",
            "units_8: 320\n",
            "units_9: 416\n",
            "units_10: 96\n",
            "units_11: 448\n",
            "units_12: 352\n",
            "units_13: 192\n",
            "units_14: 512\n",
            "units_15: 480\n",
            "units_16: 96\n",
            "Score: 0.7893218000729879\n",
            "Trial summary\n",
            "Hyperparameters:\n",
            "num_layers: 19\n",
            "units_0: 256\n",
            "units_1: 448\n",
            "learning_rate: 0.001\n",
            "units_2: 224\n",
            "units_3: 256\n",
            "units_4: 416\n",
            "units_5: 288\n",
            "units_6: 224\n",
            "units_7: 64\n",
            "units_8: 256\n",
            "units_9: 192\n",
            "units_10: 352\n",
            "units_11: 64\n",
            "units_12: 128\n",
            "units_13: 256\n",
            "units_14: 192\n",
            "units_15: 384\n",
            "units_16: 320\n",
            "units_17: 32\n",
            "units_18: 32\n",
            "Score: 0.7893218000729879\n",
            "Trial summary\n",
            "Hyperparameters:\n",
            "num_layers: 17\n",
            "units_0: 480\n",
            "units_1: 128\n",
            "learning_rate: 0.0001\n",
            "units_2: 64\n",
            "units_3: 448\n",
            "units_4: 256\n",
            "units_5: 512\n",
            "units_6: 128\n",
            "units_7: 96\n",
            "units_8: 384\n",
            "units_9: 224\n",
            "units_10: 480\n",
            "units_11: 480\n",
            "units_12: 224\n",
            "units_13: 192\n",
            "units_14: 32\n",
            "units_15: 352\n",
            "units_16: 384\n",
            "units_17: 32\n",
            "units_18: 320\n",
            "Score: 0.7878787914911906\n"
          ]
        }
      ]
    },
    {
      "cell_type": "code",
      "metadata": {
        "colab": {
          "base_uri": "https://localhost:8080/"
        },
        "id": "QtfumLpfwyaD",
        "outputId": "de4a14ca-8017-4a81-b445-7bc8a2d9a939"
      },
      "source": [
        "# Initialising the ANN\n",
        "classifier = Sequential()\n",
        "\n",
        "# Adding the input layer and the first hidden layer\n",
        "classifier.add(Dense(units= 96, kernel_initializer='he_uniform',activation='relu',input_shape= (8,)))\n",
        "\n",
        "# Adding the second hidden layer\n",
        "classifier.add(Dense(units= 288, kernel_initializer='he_uniform',activation='relu'))\n",
        "classifier.add(Dense(units= 32, kernel_initializer='he_uniform',activation='relu'))\n",
        "classifier.add(Dense(units= 32, kernel_initializer='he_uniform',activation='relu'))\n",
        "classifier.add(Dense(units= 32, kernel_initializer='he_uniform',activation='relu'))\n",
        "classifier.add(Dense(units= 32, kernel_initializer='he_uniform',activation='relu'))\n",
        "classifier.add(Dense(units= 32, kernel_initializer='he_uniform',activation='relu'))\n",
        "classifier.add(Dense(units= 32, kernel_initializer='he_uniform',activation='relu'))\n",
        "classifier.add(Dense(units= 32, kernel_initializer='he_uniform',activation='relu'))\n",
        "\n",
        "# Adding the output layer\n",
        "classifier.add(Dense(units= 1, kernel_initializer='glorot_uniform', activation = 'sigmoid'))\n",
        "\n",
        "# Compiling the ANN\n",
        "optimizer = tf.keras.optimizers.Adam()\n",
        "\n",
        "classifier.compile(optimizer = Adam(learning_rate=0.01), loss = 'binary_crossentropy', metrics = ['accuracy'])\n",
        "\n",
        "# Fitting the ANN to the Training set\n",
        "model_history=classifier.fit(X_train, y_train,validation_split=0.33, batch_size = 10, epochs = 100)"
      ],
      "execution_count": 18,
      "outputs": [
        {
          "output_type": "stream",
          "name": "stdout",
          "text": [
            "Epoch 1/100\n",
            "36/36 [==============================] - 1s 8ms/step - loss: 13.6043 - accuracy: 0.4568 - val_loss: 0.7809 - val_accuracy: 0.6180\n",
            "Epoch 2/100\n",
            "36/36 [==============================] - 0s 3ms/step - loss: 0.9182 - accuracy: 0.5682 - val_loss: 0.8174 - val_accuracy: 0.5674\n",
            "Epoch 3/100\n",
            "36/36 [==============================] - 0s 3ms/step - loss: 1.8557 - accuracy: 0.5850 - val_loss: 1.7072 - val_accuracy: 0.6629\n",
            "Epoch 4/100\n",
            "36/36 [==============================] - 0s 3ms/step - loss: 0.9490 - accuracy: 0.5738 - val_loss: 0.6637 - val_accuracy: 0.6742\n",
            "Epoch 5/100\n",
            "36/36 [==============================] - 0s 4ms/step - loss: 0.6847 - accuracy: 0.6490 - val_loss: 0.6215 - val_accuracy: 0.6854\n",
            "Epoch 6/100\n",
            "36/36 [==============================] - 0s 3ms/step - loss: 0.6386 - accuracy: 0.6518 - val_loss: 0.6475 - val_accuracy: 0.6742\n",
            "Epoch 7/100\n",
            "36/36 [==============================] - 0s 3ms/step - loss: 0.6138 - accuracy: 0.6657 - val_loss: 0.6314 - val_accuracy: 0.6910\n",
            "Epoch 8/100\n",
            "36/36 [==============================] - 0s 3ms/step - loss: 0.6593 - accuracy: 0.6574 - val_loss: 0.6163 - val_accuracy: 0.6685\n",
            "Epoch 9/100\n",
            "36/36 [==============================] - 0s 3ms/step - loss: 0.7546 - accuracy: 0.6072 - val_loss: 0.6127 - val_accuracy: 0.6742\n",
            "Epoch 10/100\n",
            "36/36 [==============================] - 0s 3ms/step - loss: 0.6066 - accuracy: 0.6769 - val_loss: 0.6209 - val_accuracy: 0.7247\n",
            "Epoch 11/100\n",
            "36/36 [==============================] - 0s 3ms/step - loss: 0.6204 - accuracy: 0.6797 - val_loss: 0.6595 - val_accuracy: 0.6742\n",
            "Epoch 12/100\n",
            "36/36 [==============================] - 0s 3ms/step - loss: 0.6156 - accuracy: 0.6741 - val_loss: 0.5774 - val_accuracy: 0.6966\n",
            "Epoch 13/100\n",
            "36/36 [==============================] - 0s 3ms/step - loss: 0.5732 - accuracy: 0.7047 - val_loss: 0.5753 - val_accuracy: 0.7191\n",
            "Epoch 14/100\n",
            "36/36 [==============================] - 0s 4ms/step - loss: 0.5436 - accuracy: 0.7242 - val_loss: 0.5790 - val_accuracy: 0.7472\n",
            "Epoch 15/100\n",
            "36/36 [==============================] - 0s 5ms/step - loss: 0.5460 - accuracy: 0.7465 - val_loss: 0.6361 - val_accuracy: 0.6292\n",
            "Epoch 16/100\n",
            "36/36 [==============================] - 0s 3ms/step - loss: 0.6008 - accuracy: 0.6825 - val_loss: 0.5639 - val_accuracy: 0.7360\n",
            "Epoch 17/100\n",
            "36/36 [==============================] - 0s 3ms/step - loss: 0.5315 - accuracy: 0.7632 - val_loss: 0.5955 - val_accuracy: 0.7135\n",
            "Epoch 18/100\n",
            "36/36 [==============================] - 0s 3ms/step - loss: 0.5404 - accuracy: 0.6964 - val_loss: 0.5904 - val_accuracy: 0.7584\n",
            "Epoch 19/100\n",
            "36/36 [==============================] - 0s 3ms/step - loss: 0.5092 - accuracy: 0.7354 - val_loss: 0.6731 - val_accuracy: 0.6910\n",
            "Epoch 20/100\n",
            "36/36 [==============================] - 0s 3ms/step - loss: 0.8865 - accuracy: 0.5766 - val_loss: 0.6456 - val_accuracy: 0.6854\n",
            "Epoch 21/100\n",
            "36/36 [==============================] - 0s 3ms/step - loss: 0.6550 - accuracy: 0.6880 - val_loss: 0.6073 - val_accuracy: 0.6798\n",
            "Epoch 22/100\n",
            "36/36 [==============================] - 0s 4ms/step - loss: 0.6407 - accuracy: 0.6462 - val_loss: 0.5901 - val_accuracy: 0.6685\n",
            "Epoch 23/100\n",
            "36/36 [==============================] - 0s 3ms/step - loss: 0.5975 - accuracy: 0.6546 - val_loss: 0.7031 - val_accuracy: 0.6236\n",
            "Epoch 24/100\n",
            "36/36 [==============================] - 0s 3ms/step - loss: 0.5996 - accuracy: 0.6630 - val_loss: 0.6994 - val_accuracy: 0.6067\n",
            "Epoch 25/100\n",
            "36/36 [==============================] - 0s 4ms/step - loss: 0.5897 - accuracy: 0.6574 - val_loss: 0.5699 - val_accuracy: 0.7472\n",
            "Epoch 26/100\n",
            "36/36 [==============================] - 0s 3ms/step - loss: 0.5644 - accuracy: 0.6936 - val_loss: 0.6004 - val_accuracy: 0.6854\n",
            "Epoch 27/100\n",
            "36/36 [==============================] - 0s 3ms/step - loss: 0.5919 - accuracy: 0.6964 - val_loss: 0.5651 - val_accuracy: 0.7303\n",
            "Epoch 28/100\n",
            "36/36 [==============================] - 0s 4ms/step - loss: 0.5435 - accuracy: 0.7075 - val_loss: 0.6567 - val_accuracy: 0.6517\n",
            "Epoch 29/100\n",
            "36/36 [==============================] - 0s 4ms/step - loss: 0.5005 - accuracy: 0.7354 - val_loss: 0.5898 - val_accuracy: 0.7360\n",
            "Epoch 30/100\n",
            "36/36 [==============================] - 0s 3ms/step - loss: 0.7066 - accuracy: 0.7075 - val_loss: 0.7137 - val_accuracy: 0.6629\n",
            "Epoch 31/100\n",
            "36/36 [==============================] - 0s 3ms/step - loss: 0.6392 - accuracy: 0.6741 - val_loss: 0.6562 - val_accuracy: 0.6573\n",
            "Epoch 32/100\n",
            "36/36 [==============================] - 0s 3ms/step - loss: 0.6108 - accuracy: 0.6992 - val_loss: 0.6617 - val_accuracy: 0.6517\n",
            "Epoch 33/100\n",
            "36/36 [==============================] - 0s 3ms/step - loss: 0.5955 - accuracy: 0.7131 - val_loss: 0.6138 - val_accuracy: 0.6742\n",
            "Epoch 34/100\n",
            "36/36 [==============================] - 0s 3ms/step - loss: 0.5755 - accuracy: 0.7159 - val_loss: 0.5758 - val_accuracy: 0.7079\n",
            "Epoch 35/100\n",
            "36/36 [==============================] - 0s 3ms/step - loss: 0.5113 - accuracy: 0.7326 - val_loss: 0.5873 - val_accuracy: 0.7191\n",
            "Epoch 36/100\n",
            "36/36 [==============================] - 0s 3ms/step - loss: 0.4843 - accuracy: 0.7744 - val_loss: 0.8753 - val_accuracy: 0.7135\n",
            "Epoch 37/100\n",
            "36/36 [==============================] - 0s 3ms/step - loss: 0.5413 - accuracy: 0.7604 - val_loss: 0.6640 - val_accuracy: 0.7135\n",
            "Epoch 38/100\n",
            "36/36 [==============================] - 0s 3ms/step - loss: 0.5857 - accuracy: 0.6964 - val_loss: 0.6365 - val_accuracy: 0.6629\n",
            "Epoch 39/100\n",
            "36/36 [==============================] - 0s 4ms/step - loss: 0.5287 - accuracy: 0.7382 - val_loss: 0.5712 - val_accuracy: 0.6966\n",
            "Epoch 40/100\n",
            "36/36 [==============================] - 0s 3ms/step - loss: 0.4990 - accuracy: 0.7604 - val_loss: 0.7265 - val_accuracy: 0.6461\n",
            "Epoch 41/100\n",
            "36/36 [==============================] - 0s 3ms/step - loss: 0.5180 - accuracy: 0.7660 - val_loss: 0.5973 - val_accuracy: 0.6910\n",
            "Epoch 42/100\n",
            "36/36 [==============================] - 0s 3ms/step - loss: 0.4938 - accuracy: 0.7577 - val_loss: 0.6591 - val_accuracy: 0.6685\n",
            "Epoch 43/100\n",
            "36/36 [==============================] - 0s 3ms/step - loss: 0.4915 - accuracy: 0.7577 - val_loss: 0.6625 - val_accuracy: 0.6966\n",
            "Epoch 44/100\n",
            "36/36 [==============================] - 0s 3ms/step - loss: 0.5321 - accuracy: 0.7549 - val_loss: 0.5638 - val_accuracy: 0.7191\n",
            "Epoch 45/100\n",
            "36/36 [==============================] - 0s 3ms/step - loss: 0.4857 - accuracy: 0.7604 - val_loss: 0.6033 - val_accuracy: 0.7022\n",
            "Epoch 46/100\n",
            "36/36 [==============================] - 0s 3ms/step - loss: 0.4835 - accuracy: 0.7855 - val_loss: 0.5498 - val_accuracy: 0.7135\n",
            "Epoch 47/100\n",
            "36/36 [==============================] - 0s 3ms/step - loss: 0.4627 - accuracy: 0.7772 - val_loss: 0.6226 - val_accuracy: 0.7303\n",
            "Epoch 48/100\n",
            "36/36 [==============================] - 0s 3ms/step - loss: 0.4968 - accuracy: 0.7493 - val_loss: 0.6174 - val_accuracy: 0.6742\n",
            "Epoch 49/100\n",
            "36/36 [==============================] - 0s 3ms/step - loss: 0.4686 - accuracy: 0.7604 - val_loss: 0.5914 - val_accuracy: 0.6910\n",
            "Epoch 50/100\n",
            "36/36 [==============================] - 0s 3ms/step - loss: 0.4738 - accuracy: 0.7632 - val_loss: 0.6620 - val_accuracy: 0.7079\n",
            "Epoch 51/100\n",
            "36/36 [==============================] - 0s 3ms/step - loss: 0.5275 - accuracy: 0.7577 - val_loss: 0.6528 - val_accuracy: 0.6798\n",
            "Epoch 52/100\n",
            "36/36 [==============================] - 0s 3ms/step - loss: 0.5079 - accuracy: 0.7577 - val_loss: 0.5499 - val_accuracy: 0.7191\n",
            "Epoch 53/100\n",
            "36/36 [==============================] - 0s 3ms/step - loss: 0.4654 - accuracy: 0.7939 - val_loss: 0.5996 - val_accuracy: 0.7022\n",
            "Epoch 54/100\n",
            "36/36 [==============================] - 0s 3ms/step - loss: 0.4675 - accuracy: 0.7660 - val_loss: 0.5929 - val_accuracy: 0.7079\n",
            "Epoch 55/100\n",
            "36/36 [==============================] - 0s 3ms/step - loss: 0.4467 - accuracy: 0.7939 - val_loss: 0.6044 - val_accuracy: 0.7022\n",
            "Epoch 56/100\n",
            "36/36 [==============================] - 0s 3ms/step - loss: 0.4929 - accuracy: 0.7465 - val_loss: 0.6511 - val_accuracy: 0.7079\n",
            "Epoch 57/100\n",
            "36/36 [==============================] - 0s 3ms/step - loss: 0.4814 - accuracy: 0.7772 - val_loss: 0.6270 - val_accuracy: 0.7135\n",
            "Epoch 58/100\n",
            "36/36 [==============================] - 0s 3ms/step - loss: 0.4730 - accuracy: 0.7744 - val_loss: 0.5780 - val_accuracy: 0.7247\n",
            "Epoch 59/100\n",
            "36/36 [==============================] - 0s 3ms/step - loss: 0.4571 - accuracy: 0.7744 - val_loss: 0.5838 - val_accuracy: 0.7135\n",
            "Epoch 60/100\n",
            "36/36 [==============================] - 0s 3ms/step - loss: 0.4457 - accuracy: 0.7939 - val_loss: 0.7764 - val_accuracy: 0.6180\n",
            "Epoch 61/100\n",
            "36/36 [==============================] - 0s 3ms/step - loss: 0.5651 - accuracy: 0.7214 - val_loss: 0.5818 - val_accuracy: 0.7191\n",
            "Epoch 62/100\n",
            "36/36 [==============================] - 0s 3ms/step - loss: 0.4801 - accuracy: 0.7688 - val_loss: 0.6605 - val_accuracy: 0.6685\n",
            "Epoch 63/100\n",
            "36/36 [==============================] - 0s 3ms/step - loss: 0.4780 - accuracy: 0.7660 - val_loss: 0.5792 - val_accuracy: 0.7022\n",
            "Epoch 64/100\n",
            "36/36 [==============================] - 0s 4ms/step - loss: 0.4634 - accuracy: 0.7827 - val_loss: 0.6391 - val_accuracy: 0.6798\n",
            "Epoch 65/100\n",
            "36/36 [==============================] - 0s 3ms/step - loss: 0.4284 - accuracy: 0.8189 - val_loss: 0.6779 - val_accuracy: 0.6966\n",
            "Epoch 66/100\n",
            "36/36 [==============================] - 0s 3ms/step - loss: 0.4709 - accuracy: 0.7799 - val_loss: 0.6031 - val_accuracy: 0.7360\n",
            "Epoch 67/100\n",
            "36/36 [==============================] - 0s 3ms/step - loss: 0.4689 - accuracy: 0.7688 - val_loss: 0.5830 - val_accuracy: 0.7247\n",
            "Epoch 68/100\n",
            "36/36 [==============================] - 0s 3ms/step - loss: 0.4352 - accuracy: 0.8050 - val_loss: 0.6444 - val_accuracy: 0.7472\n",
            "Epoch 69/100\n",
            "36/36 [==============================] - 0s 3ms/step - loss: 0.4666 - accuracy: 0.7772 - val_loss: 0.6123 - val_accuracy: 0.7079\n",
            "Epoch 70/100\n",
            "36/36 [==============================] - 0s 3ms/step - loss: 0.4395 - accuracy: 0.7799 - val_loss: 0.6146 - val_accuracy: 0.7191\n",
            "Epoch 71/100\n",
            "36/36 [==============================] - 0s 3ms/step - loss: 0.4818 - accuracy: 0.7744 - val_loss: 0.6436 - val_accuracy: 0.7022\n",
            "Epoch 72/100\n",
            "36/36 [==============================] - 0s 4ms/step - loss: 0.5439 - accuracy: 0.7214 - val_loss: 0.6358 - val_accuracy: 0.6910\n",
            "Epoch 73/100\n",
            "36/36 [==============================] - 0s 3ms/step - loss: 0.4651 - accuracy: 0.7827 - val_loss: 0.6101 - val_accuracy: 0.7135\n",
            "Epoch 74/100\n",
            "36/36 [==============================] - 0s 3ms/step - loss: 0.4494 - accuracy: 0.7604 - val_loss: 0.5557 - val_accuracy: 0.7303\n",
            "Epoch 75/100\n",
            "36/36 [==============================] - 0s 3ms/step - loss: 0.4432 - accuracy: 0.7967 - val_loss: 0.5897 - val_accuracy: 0.7191\n",
            "Epoch 76/100\n",
            "36/36 [==============================] - 0s 4ms/step - loss: 0.4522 - accuracy: 0.7967 - val_loss: 0.5699 - val_accuracy: 0.7079\n",
            "Epoch 77/100\n",
            "36/36 [==============================] - 0s 3ms/step - loss: 0.4579 - accuracy: 0.7688 - val_loss: 0.6143 - val_accuracy: 0.7191\n",
            "Epoch 78/100\n",
            "36/36 [==============================] - 0s 3ms/step - loss: 0.4596 - accuracy: 0.7688 - val_loss: 0.6997 - val_accuracy: 0.6629\n",
            "Epoch 79/100\n",
            "36/36 [==============================] - 0s 4ms/step - loss: 0.4710 - accuracy: 0.7632 - val_loss: 0.8582 - val_accuracy: 0.6461\n",
            "Epoch 80/100\n",
            "36/36 [==============================] - 0s 3ms/step - loss: 0.5564 - accuracy: 0.7187 - val_loss: 0.7110 - val_accuracy: 0.6236\n",
            "Epoch 81/100\n",
            "36/36 [==============================] - 0s 3ms/step - loss: 0.4466 - accuracy: 0.7939 - val_loss: 0.7054 - val_accuracy: 0.6629\n",
            "Epoch 82/100\n",
            "36/36 [==============================] - 0s 3ms/step - loss: 0.4533 - accuracy: 0.7827 - val_loss: 0.6135 - val_accuracy: 0.7079\n",
            "Epoch 83/100\n",
            "36/36 [==============================] - 0s 3ms/step - loss: 0.4232 - accuracy: 0.8078 - val_loss: 0.6316 - val_accuracy: 0.7022\n",
            "Epoch 84/100\n",
            "36/36 [==============================] - 0s 3ms/step - loss: 0.4080 - accuracy: 0.8078 - val_loss: 0.7655 - val_accuracy: 0.7079\n",
            "Epoch 85/100\n",
            "36/36 [==============================] - 0s 3ms/step - loss: 0.4242 - accuracy: 0.8022 - val_loss: 0.6400 - val_accuracy: 0.6910\n",
            "Epoch 86/100\n",
            "36/36 [==============================] - 0s 3ms/step - loss: 0.4956 - accuracy: 0.7521 - val_loss: 0.6033 - val_accuracy: 0.7247\n",
            "Epoch 87/100\n",
            "36/36 [==============================] - 0s 4ms/step - loss: 0.4880 - accuracy: 0.7382 - val_loss: 0.6126 - val_accuracy: 0.6910\n",
            "Epoch 88/100\n",
            "36/36 [==============================] - 0s 3ms/step - loss: 0.4583 - accuracy: 0.7716 - val_loss: 0.5984 - val_accuracy: 0.7191\n",
            "Epoch 89/100\n",
            "36/36 [==============================] - 0s 3ms/step - loss: 0.4762 - accuracy: 0.7660 - val_loss: 0.5735 - val_accuracy: 0.7191\n",
            "Epoch 90/100\n",
            "36/36 [==============================] - 0s 3ms/step - loss: 0.4385 - accuracy: 0.8134 - val_loss: 0.6384 - val_accuracy: 0.6798\n",
            "Epoch 91/100\n",
            "36/36 [==============================] - 0s 3ms/step - loss: 0.4605 - accuracy: 0.7716 - val_loss: 0.6557 - val_accuracy: 0.6910\n",
            "Epoch 92/100\n",
            "36/36 [==============================] - 0s 3ms/step - loss: 0.4623 - accuracy: 0.7827 - val_loss: 0.7397 - val_accuracy: 0.7079\n",
            "Epoch 93/100\n",
            "36/36 [==============================] - 0s 3ms/step - loss: 0.4338 - accuracy: 0.7967 - val_loss: 0.5976 - val_accuracy: 0.6854\n",
            "Epoch 94/100\n",
            "36/36 [==============================] - 0s 3ms/step - loss: 0.4335 - accuracy: 0.7827 - val_loss: 0.6904 - val_accuracy: 0.7022\n",
            "Epoch 95/100\n",
            "36/36 [==============================] - 0s 3ms/step - loss: 0.4427 - accuracy: 0.8050 - val_loss: 0.7012 - val_accuracy: 0.6742\n",
            "Epoch 96/100\n",
            "36/36 [==============================] - 0s 4ms/step - loss: 0.4805 - accuracy: 0.7577 - val_loss: 0.7549 - val_accuracy: 0.6236\n",
            "Epoch 97/100\n",
            "36/36 [==============================] - 0s 3ms/step - loss: 0.4352 - accuracy: 0.7632 - val_loss: 0.6840 - val_accuracy: 0.7022\n",
            "Epoch 98/100\n",
            "36/36 [==============================] - 0s 3ms/step - loss: 0.4465 - accuracy: 0.8050 - val_loss: 0.6413 - val_accuracy: 0.6910\n",
            "Epoch 99/100\n",
            "36/36 [==============================] - 0s 3ms/step - loss: 0.4345 - accuracy: 0.7827 - val_loss: 0.6775 - val_accuracy: 0.7079\n",
            "Epoch 100/100\n",
            "36/36 [==============================] - 0s 3ms/step - loss: 0.4671 - accuracy: 0.7799 - val_loss: 0.7602 - val_accuracy: 0.7022\n"
          ]
        }
      ]
    },
    {
      "cell_type": "code",
      "metadata": {
        "colab": {
          "base_uri": "https://localhost:8080/"
        },
        "id": "xpafkVm304Xd",
        "outputId": "8966fa81-5845-48d7-8704-67c4cc983e44"
      },
      "source": [
        "classifier.summary()"
      ],
      "execution_count": 14,
      "outputs": [
        {
          "output_type": "stream",
          "name": "stdout",
          "text": [
            "Model: \"sequential_1\"\n",
            "_________________________________________________________________\n",
            " Layer (type)                Output Shape              Param #   \n",
            "=================================================================\n",
            " dense_6 (Dense)             (None, 96)                864       \n",
            "                                                                 \n",
            " dense_7 (Dense)             (None, 288)               27936     \n",
            "                                                                 \n",
            " dense_8 (Dense)             (None, 32)                9248      \n",
            "                                                                 \n",
            " dense_9 (Dense)             (None, 32)                1056      \n",
            "                                                                 \n",
            " dense_10 (Dense)            (None, 32)                1056      \n",
            "                                                                 \n",
            " dense_11 (Dense)            (None, 32)                1056      \n",
            "                                                                 \n",
            " dense_12 (Dense)            (None, 32)                1056      \n",
            "                                                                 \n",
            " dense_13 (Dense)            (None, 32)                1056      \n",
            "                                                                 \n",
            " dense_14 (Dense)            (None, 32)                1056      \n",
            "                                                                 \n",
            " dense_15 (Dense)            (None, 1)                 33        \n",
            "                                                                 \n",
            "=================================================================\n",
            "Total params: 44,417\n",
            "Trainable params: 44,417\n",
            "Non-trainable params: 0\n",
            "_________________________________________________________________\n"
          ]
        }
      ]
    },
    {
      "cell_type": "code",
      "metadata": {
        "colab": {
          "base_uri": "https://localhost:8080/"
        },
        "id": "rpHmVJRd0chf",
        "outputId": "ec123439-c8d2-4bfe-874f-fce6772176d1"
      },
      "source": [
        "y_pred = classifier.predict(X_test_scaled)\n",
        "y_pred = (y_pred > 0.5)\n",
        "\n",
        "# Making the Confusion Matrix\n",
        "from sklearn.metrics import confusion_matrix\n",
        "cm = confusion_matrix(y_test, y_pred)\n",
        "\n",
        "# Calculate the Accuracy\n",
        "from sklearn.metrics import accuracy_score\n",
        "score=accuracy_score(y_pred,y_test)\n",
        "\n",
        "print(cm)\n",
        "print(score)"
      ],
      "execution_count": 19,
      "outputs": [
        {
          "output_type": "stream",
          "name": "stdout",
          "text": [
            "[[157   0]\n",
            " [ 74   0]]\n",
            "0.6796536796536796\n"
          ]
        }
      ]
    }
  ]
}