{
  "nbformat": 4,
  "nbformat_minor": 0,
  "metadata": {
    "colab": {
      "name": "hyperparameterregressor.ipynb",
      "provenance": [],
      "collapsed_sections": [],
      "mount_file_id": "1l1m7aaec7gbh5DduNAEjRJ-q3Z3m0SsY",
      "authorship_tag": "ABX9TyOHE3jpRwO1YCuIFcFQ/qoQ",
      "include_colab_link": true
    },
    "kernelspec": {
      "name": "python3",
      "display_name": "Python 3"
    },
    "language_info": {
      "name": "python"
    }
  },
  "cells": [
    {
      "cell_type": "markdown",
      "metadata": {
        "id": "view-in-github",
        "colab_type": "text"
      },
      "source": [
        "<a href=\"https://colab.research.google.com/github/PIYALI-bhunia/DEEP_LEARNING/blob/main/hyperparameterregressor.ipynb\" target=\"_parent\"><img src=\"https://colab.research.google.com/assets/colab-badge.svg\" alt=\"Open In Colab\"/></a>"
      ]
    },
    {
      "cell_type": "code",
      "metadata": {
        "id": "oKLCjFa0H5QN",
        "colab": {
          "base_uri": "https://localhost:8080/"
        },
        "outputId": "5f323ace-d033-477d-b5d1-86527e73e9e6"
      },
      "source": [
        "import pandas as pd\n",
        "from tensorflow import keras\n",
        "from tensorflow.keras import layers\n",
        "from kerastuner.tuners import RandomSearch"
      ],
      "execution_count": 3,
      "outputs": [
        {
          "output_type": "stream",
          "name": "stderr",
          "text": [
            "/usr/local/lib/python3.7/dist-packages/ipykernel_launcher.py:4: DeprecationWarning: `import kerastuner` is deprecated, please use `import keras_tuner`.\n",
            "  after removing the cwd from sys.path.\n"
          ]
        }
      ]
    },
    {
      "cell_type": "code",
      "metadata": {
        "colab": {
          "base_uri": "https://localhost:8080/"
        },
        "id": "WXBM8D_JIFN3",
        "outputId": "6ac8da4c-66a9-43b4-953c-a283d6ed433c"
      },
      "source": [
        "!pip install keras-tuner"
      ],
      "execution_count": 2,
      "outputs": [
        {
          "output_type": "stream",
          "name": "stdout",
          "text": [
            "Collecting keras-tuner\n",
            "  Downloading keras_tuner-1.1.0-py3-none-any.whl (98 kB)\n",
            "\u001b[?25l\r\u001b[K     |███▍                            | 10 kB 30.0 MB/s eta 0:00:01\r\u001b[K     |██████▊                         | 20 kB 9.2 MB/s eta 0:00:01\r\u001b[K     |██████████                      | 30 kB 8.0 MB/s eta 0:00:01\r\u001b[K     |█████████████▍                  | 40 kB 7.5 MB/s eta 0:00:01\r\u001b[K     |████████████████▊               | 51 kB 4.1 MB/s eta 0:00:01\r\u001b[K     |████████████████████            | 61 kB 4.3 MB/s eta 0:00:01\r\u001b[K     |███████████████████████▍        | 71 kB 4.3 MB/s eta 0:00:01\r\u001b[K     |██████████████████████████▊     | 81 kB 4.9 MB/s eta 0:00:01\r\u001b[K     |██████████████████████████████  | 92 kB 5.1 MB/s eta 0:00:01\r\u001b[K     |████████████████████████████████| 98 kB 3.5 MB/s \n",
            "\u001b[?25hRequirement already satisfied: scipy in /usr/local/lib/python3.7/dist-packages (from keras-tuner) (1.4.1)\n",
            "Requirement already satisfied: tensorboard in /usr/local/lib/python3.7/dist-packages (from keras-tuner) (2.7.0)\n",
            "Requirement already satisfied: ipython in /usr/local/lib/python3.7/dist-packages (from keras-tuner) (5.5.0)\n",
            "Collecting kt-legacy\n",
            "  Downloading kt_legacy-1.0.4-py3-none-any.whl (9.6 kB)\n",
            "Requirement already satisfied: packaging in /usr/local/lib/python3.7/dist-packages (from keras-tuner) (21.3)\n",
            "Requirement already satisfied: numpy in /usr/local/lib/python3.7/dist-packages (from keras-tuner) (1.19.5)\n",
            "Requirement already satisfied: requests in /usr/local/lib/python3.7/dist-packages (from keras-tuner) (2.23.0)\n",
            "Requirement already satisfied: prompt-toolkit<2.0.0,>=1.0.4 in /usr/local/lib/python3.7/dist-packages (from ipython->keras-tuner) (1.0.18)\n",
            "Requirement already satisfied: pexpect in /usr/local/lib/python3.7/dist-packages (from ipython->keras-tuner) (4.8.0)\n",
            "Requirement already satisfied: simplegeneric>0.8 in /usr/local/lib/python3.7/dist-packages (from ipython->keras-tuner) (0.8.1)\n",
            "Requirement already satisfied: pickleshare in /usr/local/lib/python3.7/dist-packages (from ipython->keras-tuner) (0.7.5)\n",
            "Requirement already satisfied: setuptools>=18.5 in /usr/local/lib/python3.7/dist-packages (from ipython->keras-tuner) (57.4.0)\n",
            "Requirement already satisfied: pygments in /usr/local/lib/python3.7/dist-packages (from ipython->keras-tuner) (2.6.1)\n",
            "Requirement already satisfied: traitlets>=4.2 in /usr/local/lib/python3.7/dist-packages (from ipython->keras-tuner) (5.1.1)\n",
            "Requirement already satisfied: decorator in /usr/local/lib/python3.7/dist-packages (from ipython->keras-tuner) (4.4.2)\n",
            "Requirement already satisfied: wcwidth in /usr/local/lib/python3.7/dist-packages (from prompt-toolkit<2.0.0,>=1.0.4->ipython->keras-tuner) (0.2.5)\n",
            "Requirement already satisfied: six>=1.9.0 in /usr/local/lib/python3.7/dist-packages (from prompt-toolkit<2.0.0,>=1.0.4->ipython->keras-tuner) (1.15.0)\n",
            "Requirement already satisfied: pyparsing!=3.0.5,>=2.0.2 in /usr/local/lib/python3.7/dist-packages (from packaging->keras-tuner) (3.0.6)\n",
            "Requirement already satisfied: ptyprocess>=0.5 in /usr/local/lib/python3.7/dist-packages (from pexpect->ipython->keras-tuner) (0.7.0)\n",
            "Requirement already satisfied: chardet<4,>=3.0.2 in /usr/local/lib/python3.7/dist-packages (from requests->keras-tuner) (3.0.4)\n",
            "Requirement already satisfied: idna<3,>=2.5 in /usr/local/lib/python3.7/dist-packages (from requests->keras-tuner) (2.10)\n",
            "Requirement already satisfied: certifi>=2017.4.17 in /usr/local/lib/python3.7/dist-packages (from requests->keras-tuner) (2021.10.8)\n",
            "Requirement already satisfied: urllib3!=1.25.0,!=1.25.1,<1.26,>=1.21.1 in /usr/local/lib/python3.7/dist-packages (from requests->keras-tuner) (1.24.3)\n",
            "Requirement already satisfied: absl-py>=0.4 in /usr/local/lib/python3.7/dist-packages (from tensorboard->keras-tuner) (0.12.0)\n",
            "Requirement already satisfied: tensorboard-plugin-wit>=1.6.0 in /usr/local/lib/python3.7/dist-packages (from tensorboard->keras-tuner) (1.8.0)\n",
            "Requirement already satisfied: tensorboard-data-server<0.7.0,>=0.6.0 in /usr/local/lib/python3.7/dist-packages (from tensorboard->keras-tuner) (0.6.1)\n",
            "Requirement already satisfied: google-auth-oauthlib<0.5,>=0.4.1 in /usr/local/lib/python3.7/dist-packages (from tensorboard->keras-tuner) (0.4.6)\n",
            "Requirement already satisfied: protobuf>=3.6.0 in /usr/local/lib/python3.7/dist-packages (from tensorboard->keras-tuner) (3.17.3)\n",
            "Requirement already satisfied: werkzeug>=0.11.15 in /usr/local/lib/python3.7/dist-packages (from tensorboard->keras-tuner) (1.0.1)\n",
            "Requirement already satisfied: google-auth<3,>=1.6.3 in /usr/local/lib/python3.7/dist-packages (from tensorboard->keras-tuner) (1.35.0)\n",
            "Requirement already satisfied: grpcio>=1.24.3 in /usr/local/lib/python3.7/dist-packages (from tensorboard->keras-tuner) (1.42.0)\n",
            "Requirement already satisfied: markdown>=2.6.8 in /usr/local/lib/python3.7/dist-packages (from tensorboard->keras-tuner) (3.3.6)\n",
            "Requirement already satisfied: wheel>=0.26 in /usr/local/lib/python3.7/dist-packages (from tensorboard->keras-tuner) (0.37.0)\n",
            "Requirement already satisfied: pyasn1-modules>=0.2.1 in /usr/local/lib/python3.7/dist-packages (from google-auth<3,>=1.6.3->tensorboard->keras-tuner) (0.2.8)\n",
            "Requirement already satisfied: rsa<5,>=3.1.4 in /usr/local/lib/python3.7/dist-packages (from google-auth<3,>=1.6.3->tensorboard->keras-tuner) (4.7.2)\n",
            "Requirement already satisfied: cachetools<5.0,>=2.0.0 in /usr/local/lib/python3.7/dist-packages (from google-auth<3,>=1.6.3->tensorboard->keras-tuner) (4.2.4)\n",
            "Requirement already satisfied: requests-oauthlib>=0.7.0 in /usr/local/lib/python3.7/dist-packages (from google-auth-oauthlib<0.5,>=0.4.1->tensorboard->keras-tuner) (1.3.0)\n",
            "Requirement already satisfied: importlib-metadata>=4.4 in /usr/local/lib/python3.7/dist-packages (from markdown>=2.6.8->tensorboard->keras-tuner) (4.8.2)\n",
            "Requirement already satisfied: typing-extensions>=3.6.4 in /usr/local/lib/python3.7/dist-packages (from importlib-metadata>=4.4->markdown>=2.6.8->tensorboard->keras-tuner) (3.10.0.2)\n",
            "Requirement already satisfied: zipp>=0.5 in /usr/local/lib/python3.7/dist-packages (from importlib-metadata>=4.4->markdown>=2.6.8->tensorboard->keras-tuner) (3.6.0)\n",
            "Requirement already satisfied: pyasn1<0.5.0,>=0.4.6 in /usr/local/lib/python3.7/dist-packages (from pyasn1-modules>=0.2.1->google-auth<3,>=1.6.3->tensorboard->keras-tuner) (0.4.8)\n",
            "Requirement already satisfied: oauthlib>=3.0.0 in /usr/local/lib/python3.7/dist-packages (from requests-oauthlib>=0.7.0->google-auth-oauthlib<0.5,>=0.4.1->tensorboard->keras-tuner) (3.1.1)\n",
            "Installing collected packages: kt-legacy, keras-tuner\n",
            "Successfully installed keras-tuner-1.1.0 kt-legacy-1.0.4\n"
          ]
        }
      ]
    },
    {
      "cell_type": "code",
      "metadata": {
        "colab": {
          "base_uri": "https://localhost:8080/"
        },
        "id": "4RMfGr_jIWUO",
        "outputId": "4db325df-b941-475f-dc87-d2828e049871"
      },
      "source": [
        "dataset=pd.read_csv(\"/content/drive/MyDrive/ML DATASET/concrete_data.csv\")\n",
        "dataset.shape"
      ],
      "execution_count": 4,
      "outputs": [
        {
          "output_type": "execute_result",
          "data": {
            "text/plain": [
              "(1030, 9)"
            ]
          },
          "metadata": {},
          "execution_count": 4
        }
      ]
    },
    {
      "cell_type": "code",
      "metadata": {
        "colab": {
          "base_uri": "https://localhost:8080/",
          "height": 206
        },
        "id": "alti5PTOIgWG",
        "outputId": "2f76ac24-2889-41c4-c185-ceaec8f02690"
      },
      "source": [
        "dataset.head()"
      ],
      "execution_count": 5,
      "outputs": [
        {
          "output_type": "execute_result",
          "data": {
            "text/html": [
              "<div>\n",
              "<style scoped>\n",
              "    .dataframe tbody tr th:only-of-type {\n",
              "        vertical-align: middle;\n",
              "    }\n",
              "\n",
              "    .dataframe tbody tr th {\n",
              "        vertical-align: top;\n",
              "    }\n",
              "\n",
              "    .dataframe thead th {\n",
              "        text-align: right;\n",
              "    }\n",
              "</style>\n",
              "<table border=\"1\" class=\"dataframe\">\n",
              "  <thead>\n",
              "    <tr style=\"text-align: right;\">\n",
              "      <th></th>\n",
              "      <th>Cement</th>\n",
              "      <th>Blast Furnace Slag</th>\n",
              "      <th>Fly Ash</th>\n",
              "      <th>Water</th>\n",
              "      <th>Superplasticizer</th>\n",
              "      <th>Coarse Aggregate</th>\n",
              "      <th>Fine Aggregate</th>\n",
              "      <th>Age</th>\n",
              "      <th>Strength</th>\n",
              "    </tr>\n",
              "  </thead>\n",
              "  <tbody>\n",
              "    <tr>\n",
              "      <th>0</th>\n",
              "      <td>540.0</td>\n",
              "      <td>0.0</td>\n",
              "      <td>0.0</td>\n",
              "      <td>162.0</td>\n",
              "      <td>2.5</td>\n",
              "      <td>1040.0</td>\n",
              "      <td>676.0</td>\n",
              "      <td>28</td>\n",
              "      <td>79.99</td>\n",
              "    </tr>\n",
              "    <tr>\n",
              "      <th>1</th>\n",
              "      <td>540.0</td>\n",
              "      <td>0.0</td>\n",
              "      <td>0.0</td>\n",
              "      <td>162.0</td>\n",
              "      <td>2.5</td>\n",
              "      <td>1055.0</td>\n",
              "      <td>676.0</td>\n",
              "      <td>28</td>\n",
              "      <td>61.89</td>\n",
              "    </tr>\n",
              "    <tr>\n",
              "      <th>2</th>\n",
              "      <td>332.5</td>\n",
              "      <td>142.5</td>\n",
              "      <td>0.0</td>\n",
              "      <td>228.0</td>\n",
              "      <td>0.0</td>\n",
              "      <td>932.0</td>\n",
              "      <td>594.0</td>\n",
              "      <td>270</td>\n",
              "      <td>40.27</td>\n",
              "    </tr>\n",
              "    <tr>\n",
              "      <th>3</th>\n",
              "      <td>332.5</td>\n",
              "      <td>142.5</td>\n",
              "      <td>0.0</td>\n",
              "      <td>228.0</td>\n",
              "      <td>0.0</td>\n",
              "      <td>932.0</td>\n",
              "      <td>594.0</td>\n",
              "      <td>365</td>\n",
              "      <td>41.05</td>\n",
              "    </tr>\n",
              "    <tr>\n",
              "      <th>4</th>\n",
              "      <td>198.6</td>\n",
              "      <td>132.4</td>\n",
              "      <td>0.0</td>\n",
              "      <td>192.0</td>\n",
              "      <td>0.0</td>\n",
              "      <td>978.4</td>\n",
              "      <td>825.5</td>\n",
              "      <td>360</td>\n",
              "      <td>44.30</td>\n",
              "    </tr>\n",
              "  </tbody>\n",
              "</table>\n",
              "</div>"
            ],
            "text/plain": [
              "   Cement  Blast Furnace Slag  Fly Ash  ...  Fine Aggregate  Age  Strength\n",
              "0   540.0                 0.0      0.0  ...           676.0   28     79.99\n",
              "1   540.0                 0.0      0.0  ...           676.0   28     61.89\n",
              "2   332.5               142.5      0.0  ...           594.0  270     40.27\n",
              "3   332.5               142.5      0.0  ...           594.0  365     41.05\n",
              "4   198.6               132.4      0.0  ...           825.5  360     44.30\n",
              "\n",
              "[5 rows x 9 columns]"
            ]
          },
          "metadata": {},
          "execution_count": 5
        }
      ]
    },
    {
      "cell_type": "code",
      "metadata": {
        "id": "oveAaZvqIo7u"
      },
      "source": [
        "X=dataset.iloc[:,:-1] ## independent features\n",
        "y=dataset.iloc[:,-1] ## dependent features"
      ],
      "execution_count": 6,
      "outputs": []
    },
    {
      "cell_type": "code",
      "metadata": {
        "id": "bWqP_lgeUBkD"
      },
      "source": [
        "from sklearn.model_selection import train_test_split\n",
        "X_train, X_test, y_train, y_test = train_test_split(X, y, test_size = 0.2, random_state = 0)\n",
        "\n",
        "from sklearn.preprocessing import StandardScaler\n",
        "scaler = StandardScaler()\n",
        "X_train_scaled = scaler.fit_transform(X_train)\n",
        "X_test_scaled = scaler.transform(X_test)\n",
        "\n"
      ],
      "execution_count": 27,
      "outputs": []
    },
    {
      "cell_type": "code",
      "metadata": {
        "id": "i_YaVlxNJ6rp"
      },
      "source": [
        "def build_model(hp):\n",
        "    model = keras.Sequential()\n",
        "    for i in range(hp.Int('num_layers', 2, 20)):\n",
        "        model.add(layers.Dense(units=hp.Int('units_' + str(i),\n",
        "                                            min_value=32,\n",
        "                                            max_value=512,\n",
        "                                            step=32),\n",
        "                               activation='relu'))\n",
        "    model.add(layers.Dense(1, activation='linear'))\n",
        "    model.compile(\n",
        "        optimizer=keras.optimizers.Adam(\n",
        "            hp.Choice('learning_rate', [1e-2, 1e-3, 1e-4])),\n",
        "        loss='mean_absolute_error',\n",
        "        metrics=['mean_absolute_error'])\n",
        "    return model"
      ],
      "execution_count": 8,
      "outputs": []
    },
    {
      "cell_type": "code",
      "metadata": {
        "id": "RhCOQE-AMETB"
      },
      "source": [
        "tuner = RandomSearch(\n",
        "    build_model,\n",
        "    objective='val_mean_absolute_error',\n",
        "    max_trials=5,\n",
        "    executions_per_trial=3,\n",
        "    directory='project',\n",
        "    project_name='concrete')"
      ],
      "execution_count": 10,
      "outputs": []
    },
    {
      "cell_type": "code",
      "metadata": {
        "colab": {
          "base_uri": "https://localhost:8080/"
        },
        "id": "Kqi3D-qXMsFF",
        "outputId": "02c4b562-96e2-42bf-899d-fa9572e0ff74"
      },
      "source": [
        "tuner.search_space_summary()"
      ],
      "execution_count": 11,
      "outputs": [
        {
          "output_type": "stream",
          "name": "stdout",
          "text": [
            "Search space summary\n",
            "Default search space size: 4\n",
            "num_layers (Int)\n",
            "{'default': None, 'conditions': [], 'min_value': 2, 'max_value': 20, 'step': 1, 'sampling': None}\n",
            "units_0 (Int)\n",
            "{'default': None, 'conditions': [], 'min_value': 32, 'max_value': 512, 'step': 32, 'sampling': None}\n",
            "units_1 (Int)\n",
            "{'default': None, 'conditions': [], 'min_value': 32, 'max_value': 512, 'step': 32, 'sampling': None}\n",
            "learning_rate (Choice)\n",
            "{'default': 0.01, 'conditions': [], 'values': [0.01, 0.001, 0.0001], 'ordered': True}\n"
          ]
        }
      ]
    },
    {
      "cell_type": "code",
      "metadata": {
        "colab": {
          "base_uri": "https://localhost:8080/"
        },
        "id": "qPbx_POlNHfX",
        "outputId": "46cd0376-d6bb-4d93-8d50-2277ba329175"
      },
      "source": [
        "tuner.search(X_train, y_train,\n",
        "             epochs=100,\n",
        "             validation_data=(X_test, y_test))"
      ],
      "execution_count": 13,
      "outputs": [
        {
          "output_type": "stream",
          "name": "stdout",
          "text": [
            "Trial 5 Complete [00h 01m 03s]\n",
            "val_mean_absolute_error: 4.850387732187907\n",
            "\n",
            "Best val_mean_absolute_error So Far: 4.433990478515625\n",
            "Total elapsed time: 00h 06m 46s\n",
            "INFO:tensorflow:Oracle triggered exit\n"
          ]
        }
      ]
    },
    {
      "cell_type": "code",
      "metadata": {
        "colab": {
          "base_uri": "https://localhost:8080/"
        },
        "id": "L3A9UHn-ONqH",
        "outputId": "5e65553e-ab30-4ee3-c094-cef5b6d7a8f2"
      },
      "source": [
        "tuner.results_summary()"
      ],
      "execution_count": 14,
      "outputs": [
        {
          "output_type": "stream",
          "name": "stdout",
          "text": [
            "Results summary\n",
            "Results in project/concrete\n",
            "Showing 10 best trials\n",
            "Objective(name='val_mean_absolute_error', direction='min')\n",
            "Trial summary\n",
            "Hyperparameters:\n",
            "num_layers: 13\n",
            "units_0: 64\n",
            "units_1: 384\n",
            "learning_rate: 0.001\n",
            "units_2: 288\n",
            "units_3: 96\n",
            "units_4: 416\n",
            "units_5: 320\n",
            "units_6: 288\n",
            "units_7: 96\n",
            "units_8: 352\n",
            "units_9: 416\n",
            "units_10: 384\n",
            "units_11: 256\n",
            "units_12: 32\n",
            "Score: 4.433990478515625\n",
            "Trial summary\n",
            "Hyperparameters:\n",
            "num_layers: 12\n",
            "units_0: 224\n",
            "units_1: 320\n",
            "learning_rate: 0.001\n",
            "units_2: 480\n",
            "units_3: 480\n",
            "units_4: 288\n",
            "units_5: 96\n",
            "units_6: 32\n",
            "units_7: 64\n",
            "units_8: 352\n",
            "units_9: 32\n",
            "units_10: 32\n",
            "units_11: 32\n",
            "Score: 4.47404940923055\n",
            "Trial summary\n",
            "Hyperparameters:\n",
            "num_layers: 9\n",
            "units_0: 256\n",
            "units_1: 320\n",
            "learning_rate: 0.01\n",
            "units_2: 96\n",
            "units_3: 32\n",
            "units_4: 32\n",
            "units_5: 32\n",
            "units_6: 32\n",
            "units_7: 32\n",
            "units_8: 32\n",
            "Score: 4.805967966715495\n",
            "Trial summary\n",
            "Hyperparameters:\n",
            "num_layers: 9\n",
            "units_0: 288\n",
            "units_1: 288\n",
            "learning_rate: 0.01\n",
            "units_2: 224\n",
            "units_3: 64\n",
            "units_4: 64\n",
            "units_5: 128\n",
            "units_6: 480\n",
            "units_7: 96\n",
            "units_8: 32\n",
            "units_9: 512\n",
            "units_10: 64\n",
            "units_11: 64\n",
            "units_12: 384\n",
            "Score: 4.850387732187907\n",
            "Trial summary\n",
            "Hyperparameters:\n",
            "num_layers: 3\n",
            "units_0: 320\n",
            "units_1: 480\n",
            "learning_rate: 0.01\n",
            "units_2: 32\n",
            "Score: 4.956695556640625\n"
          ]
        }
      ]
    },
    {
      "cell_type": "code",
      "metadata": {
        "id": "Uspwo4V3UU4w"
      },
      "source": [
        "import keras\n",
        "from keras.models import Sequential\n",
        "from keras.layers import Dense\n",
        "from keras.layers import LeakyReLU,PReLU,ELU\n",
        "from keras.layers import *\n",
        "import keras_tuner as kt\n",
        "import tensorflow as tf"
      ],
      "execution_count": 15,
      "outputs": []
    },
    {
      "cell_type": "code",
      "metadata": {
        "id": "QtfumLpfwyaD"
      },
      "source": [
        "# Initialising the ANN\n",
        "regressor = Sequential()\n",
        "\n",
        "# Adding the input layer and the first hidden layer\n",
        "regressor.add(Dense(units= 64,activation='relu',input_shape= (8,)))\n",
        "\n",
        "# Adding the second hidden layer\n",
        "regressor.add(Dense(units= 384,activation='relu'))\n",
        "regressor.add(Dense(units= 288,activation='relu'))\n",
        "regressor.add(Dense(units= 96, activation='relu'))\n",
        "regressor.add(Dense(units= 416,activation='relu'))\n",
        "regressor.add(Dense(units= 320,activation='relu'))\n",
        "regressor.add(Dense(units= 288, activation='relu'))\n",
        "regressor.add(Dense(units= 96, activation='relu'))\n",
        "regressor.add(Dense(units= 352, activation='relu'))\n",
        "regressor.add(Dense(units= 416,activation='relu'))\n",
        "regressor.add(Dense(units= 384, activation='relu'))\n",
        "regressor.add(Dense(units= 256,activation='relu'))\n",
        "regressor.add(Dense(units= 32,activation='relu'))\n",
        "\n",
        "# Adding the output layer\n",
        "regressor.add(Dense(units= 1, activation = 'linear'))\n",
        "\n"
      ],
      "execution_count": 36,
      "outputs": []
    },
    {
      "cell_type": "code",
      "metadata": {
        "colab": {
          "base_uri": "https://localhost:8080/"
        },
        "id": "h7JseFOaZZPg",
        "outputId": "00f35beb-4b52-4b84-d94b-ac5f3ef4d400"
      },
      "source": [
        "regressor.compile(optimizer='adam',loss='mean_squared_error', metrics=['mae'])\n",
        "regressor.summary()\n",
        "  "
      ],
      "execution_count": 37,
      "outputs": [
        {
          "output_type": "stream",
          "name": "stdout",
          "text": [
            "Model: \"sequential_8\"\n",
            "_________________________________________________________________\n",
            " Layer (type)                Output Shape              Param #   \n",
            "=================================================================\n",
            " dense_99 (Dense)            (None, 64)                576       \n",
            "                                                                 \n",
            " dense_100 (Dense)           (None, 384)               24960     \n",
            "                                                                 \n",
            " dense_101 (Dense)           (None, 288)               110880    \n",
            "                                                                 \n",
            " dense_102 (Dense)           (None, 96)                27744     \n",
            "                                                                 \n",
            " dense_103 (Dense)           (None, 416)               40352     \n",
            "                                                                 \n",
            " dense_104 (Dense)           (None, 320)               133440    \n",
            "                                                                 \n",
            " dense_105 (Dense)           (None, 288)               92448     \n",
            "                                                                 \n",
            " dense_106 (Dense)           (None, 96)                27744     \n",
            "                                                                 \n",
            " dense_107 (Dense)           (None, 352)               34144     \n",
            "                                                                 \n",
            " dense_108 (Dense)           (None, 416)               146848    \n",
            "                                                                 \n",
            " dense_109 (Dense)           (None, 384)               160128    \n",
            "                                                                 \n",
            " dense_110 (Dense)           (None, 256)               98560     \n",
            "                                                                 \n",
            " dense_111 (Dense)           (None, 32)                8224      \n",
            "                                                                 \n",
            " dense_112 (Dense)           (None, 1)                 33        \n",
            "                                                                 \n",
            "=================================================================\n",
            "Total params: 906,081\n",
            "Trainable params: 906,081\n",
            "Non-trainable params: 0\n",
            "_________________________________________________________________\n"
          ]
        }
      ]
    },
    {
      "cell_type": "code",
      "metadata": {
        "colab": {
          "base_uri": "https://localhost:8080/"
        },
        "id": "GmD1tVHAaMZG",
        "outputId": "bad7ecc8-4d12-41c4-8b5a-9372ff324100"
      },
      "source": [
        "history=regressor.fit(X_train_scaled, y_train ,validation_split=0.2, epochs = 100)"
      ],
      "execution_count": 38,
      "outputs": [
        {
          "output_type": "stream",
          "name": "stdout",
          "text": [
            "Epoch 1/100\n",
            "21/21 [==============================] - 1s 23ms/step - loss: 675.7362 - mae: 20.4205 - val_loss: 244.5511 - val_mae: 12.4642\n",
            "Epoch 2/100\n",
            "21/21 [==============================] - 0s 15ms/step - loss: 202.7151 - mae: 11.2743 - val_loss: 170.2834 - val_mae: 10.6539\n",
            "Epoch 3/100\n",
            "21/21 [==============================] - 0s 16ms/step - loss: 165.0513 - mae: 10.2992 - val_loss: 212.1195 - val_mae: 11.3160\n",
            "Epoch 4/100\n",
            "21/21 [==============================] - 0s 15ms/step - loss: 125.6479 - mae: 8.8829 - val_loss: 111.3117 - val_mae: 8.2551\n",
            "Epoch 5/100\n",
            "21/21 [==============================] - 0s 15ms/step - loss: 79.0978 - mae: 6.9661 - val_loss: 102.5590 - val_mae: 8.1826\n",
            "Epoch 6/100\n",
            "21/21 [==============================] - 0s 15ms/step - loss: 65.8521 - mae: 6.3557 - val_loss: 75.4778 - val_mae: 6.6614\n",
            "Epoch 7/100\n",
            "21/21 [==============================] - 0s 14ms/step - loss: 45.8524 - mae: 5.3694 - val_loss: 66.9942 - val_mae: 6.2766\n",
            "Epoch 8/100\n",
            "21/21 [==============================] - 0s 15ms/step - loss: 51.5060 - mae: 5.4772 - val_loss: 59.2045 - val_mae: 5.7751\n",
            "Epoch 9/100\n",
            "21/21 [==============================] - 0s 15ms/step - loss: 42.0396 - mae: 4.9694 - val_loss: 69.0771 - val_mae: 6.1467\n",
            "Epoch 10/100\n",
            "21/21 [==============================] - 0s 16ms/step - loss: 32.7092 - mae: 4.4147 - val_loss: 69.4497 - val_mae: 6.0768\n",
            "Epoch 11/100\n",
            "21/21 [==============================] - 0s 15ms/step - loss: 30.7718 - mae: 4.2279 - val_loss: 71.7198 - val_mae: 6.1369\n",
            "Epoch 12/100\n",
            "21/21 [==============================] - 0s 14ms/step - loss: 28.5647 - mae: 4.1051 - val_loss: 58.2396 - val_mae: 5.4674\n",
            "Epoch 13/100\n",
            "21/21 [==============================] - 0s 15ms/step - loss: 28.2320 - mae: 4.1020 - val_loss: 60.5293 - val_mae: 5.5086\n",
            "Epoch 14/100\n",
            "21/21 [==============================] - 0s 15ms/step - loss: 21.7209 - mae: 3.6508 - val_loss: 57.5619 - val_mae: 5.3090\n",
            "Epoch 15/100\n",
            "21/21 [==============================] - 0s 15ms/step - loss: 20.6124 - mae: 3.4097 - val_loss: 55.0397 - val_mae: 4.9135\n",
            "Epoch 16/100\n",
            "21/21 [==============================] - 0s 15ms/step - loss: 16.8063 - mae: 3.1173 - val_loss: 44.8903 - val_mae: 4.7816\n",
            "Epoch 17/100\n",
            "21/21 [==============================] - 0s 15ms/step - loss: 18.6890 - mae: 3.3036 - val_loss: 47.2569 - val_mae: 4.7189\n",
            "Epoch 18/100\n",
            "21/21 [==============================] - 0s 16ms/step - loss: 17.5172 - mae: 3.1794 - val_loss: 41.2672 - val_mae: 4.3149\n",
            "Epoch 19/100\n",
            "21/21 [==============================] - 0s 16ms/step - loss: 21.7457 - mae: 3.5969 - val_loss: 59.9970 - val_mae: 5.1540\n",
            "Epoch 20/100\n",
            "21/21 [==============================] - 0s 15ms/step - loss: 20.2423 - mae: 3.4436 - val_loss: 63.0076 - val_mae: 6.0402\n",
            "Epoch 21/100\n",
            "21/21 [==============================] - 0s 15ms/step - loss: 23.1813 - mae: 3.6854 - val_loss: 51.7552 - val_mae: 5.1835\n",
            "Epoch 22/100\n",
            "21/21 [==============================] - 0s 15ms/step - loss: 20.2623 - mae: 3.4213 - val_loss: 60.1906 - val_mae: 5.8254\n",
            "Epoch 23/100\n",
            "21/21 [==============================] - 0s 15ms/step - loss: 48.1865 - mae: 5.3505 - val_loss: 51.1673 - val_mae: 5.0664\n",
            "Epoch 24/100\n",
            "21/21 [==============================] - 0s 15ms/step - loss: 28.1106 - mae: 3.9765 - val_loss: 48.9367 - val_mae: 4.9022\n",
            "Epoch 25/100\n",
            "21/21 [==============================] - 0s 15ms/step - loss: 16.4275 - mae: 3.0607 - val_loss: 48.9895 - val_mae: 4.3491\n",
            "Epoch 26/100\n",
            "21/21 [==============================] - 0s 15ms/step - loss: 15.6209 - mae: 3.0207 - val_loss: 43.7505 - val_mae: 4.4251\n",
            "Epoch 27/100\n",
            "21/21 [==============================] - 0s 16ms/step - loss: 13.2498 - mae: 2.6613 - val_loss: 44.2166 - val_mae: 4.4357\n",
            "Epoch 28/100\n",
            "21/21 [==============================] - 0s 16ms/step - loss: 13.5474 - mae: 2.7363 - val_loss: 41.5830 - val_mae: 4.2751\n",
            "Epoch 29/100\n",
            "21/21 [==============================] - 0s 14ms/step - loss: 11.9867 - mae: 2.5564 - val_loss: 42.1590 - val_mae: 4.1768\n",
            "Epoch 30/100\n",
            "21/21 [==============================] - 0s 15ms/step - loss: 15.7264 - mae: 2.9558 - val_loss: 52.7698 - val_mae: 4.5959\n",
            "Epoch 31/100\n",
            "21/21 [==============================] - 0s 17ms/step - loss: 16.9265 - mae: 3.0540 - val_loss: 39.1696 - val_mae: 4.0930\n",
            "Epoch 32/100\n",
            "21/21 [==============================] - 0s 15ms/step - loss: 18.9596 - mae: 3.2154 - val_loss: 45.8958 - val_mae: 4.8833\n",
            "Epoch 33/100\n",
            "21/21 [==============================] - 0s 15ms/step - loss: 16.7717 - mae: 3.2144 - val_loss: 42.6551 - val_mae: 4.3972\n",
            "Epoch 34/100\n",
            "21/21 [==============================] - 0s 14ms/step - loss: 14.2836 - mae: 2.8579 - val_loss: 61.0868 - val_mae: 4.9927\n",
            "Epoch 35/100\n",
            "21/21 [==============================] - 0s 15ms/step - loss: 14.7447 - mae: 2.7856 - val_loss: 45.6130 - val_mae: 4.8158\n",
            "Epoch 36/100\n",
            "21/21 [==============================] - 0s 14ms/step - loss: 21.0315 - mae: 3.3892 - val_loss: 66.6437 - val_mae: 5.5243\n",
            "Epoch 37/100\n",
            "21/21 [==============================] - 0s 15ms/step - loss: 18.3085 - mae: 3.1506 - val_loss: 82.1192 - val_mae: 6.1551\n",
            "Epoch 38/100\n",
            "21/21 [==============================] - 0s 15ms/step - loss: 11.6469 - mae: 2.5137 - val_loss: 40.3594 - val_mae: 4.0323\n",
            "Epoch 39/100\n",
            "21/21 [==============================] - 0s 15ms/step - loss: 9.9817 - mae: 2.2308 - val_loss: 50.2347 - val_mae: 4.4279\n",
            "Epoch 40/100\n",
            "21/21 [==============================] - 0s 15ms/step - loss: 10.4615 - mae: 2.3053 - val_loss: 43.4832 - val_mae: 4.4250\n",
            "Epoch 41/100\n",
            "21/21 [==============================] - 0s 15ms/step - loss: 10.2627 - mae: 2.2976 - val_loss: 41.6603 - val_mae: 4.1509\n",
            "Epoch 42/100\n",
            "21/21 [==============================] - 0s 15ms/step - loss: 8.5866 - mae: 2.0415 - val_loss: 56.5849 - val_mae: 4.8259\n",
            "Epoch 43/100\n",
            "21/21 [==============================] - 0s 15ms/step - loss: 15.8142 - mae: 3.0021 - val_loss: 48.7505 - val_mae: 4.3676\n",
            "Epoch 44/100\n",
            "21/21 [==============================] - 0s 15ms/step - loss: 18.4511 - mae: 3.2448 - val_loss: 45.6737 - val_mae: 4.8131\n",
            "Epoch 45/100\n",
            "21/21 [==============================] - 0s 15ms/step - loss: 15.3467 - mae: 2.9913 - val_loss: 39.7938 - val_mae: 4.0221\n",
            "Epoch 46/100\n",
            "21/21 [==============================] - 0s 15ms/step - loss: 9.9137 - mae: 2.2918 - val_loss: 41.2444 - val_mae: 4.1420\n",
            "Epoch 47/100\n",
            "21/21 [==============================] - 0s 16ms/step - loss: 9.3919 - mae: 2.1876 - val_loss: 46.7140 - val_mae: 5.0100\n",
            "Epoch 48/100\n",
            "21/21 [==============================] - 0s 15ms/step - loss: 11.2453 - mae: 2.4323 - val_loss: 40.2815 - val_mae: 3.9607\n",
            "Epoch 49/100\n",
            "21/21 [==============================] - 0s 15ms/step - loss: 7.9234 - mae: 1.9182 - val_loss: 39.9603 - val_mae: 4.1314\n",
            "Epoch 50/100\n",
            "21/21 [==============================] - 0s 16ms/step - loss: 8.4815 - mae: 2.0278 - val_loss: 48.1796 - val_mae: 4.3670\n",
            "Epoch 51/100\n",
            "21/21 [==============================] - 0s 14ms/step - loss: 9.6585 - mae: 2.1622 - val_loss: 55.4275 - val_mae: 4.7963\n",
            "Epoch 52/100\n",
            "21/21 [==============================] - 0s 16ms/step - loss: 13.9982 - mae: 2.7259 - val_loss: 49.1408 - val_mae: 5.0461\n",
            "Epoch 53/100\n",
            "21/21 [==============================] - 0s 16ms/step - loss: 11.9862 - mae: 2.4230 - val_loss: 42.3027 - val_mae: 4.3812\n",
            "Epoch 54/100\n",
            "21/21 [==============================] - 0s 15ms/step - loss: 8.1525 - mae: 2.0474 - val_loss: 50.2574 - val_mae: 4.3003\n",
            "Epoch 55/100\n",
            "21/21 [==============================] - 0s 16ms/step - loss: 14.1289 - mae: 2.6864 - val_loss: 40.9583 - val_mae: 4.3344\n",
            "Epoch 56/100\n",
            "21/21 [==============================] - 0s 16ms/step - loss: 8.9118 - mae: 2.0907 - val_loss: 39.1214 - val_mae: 4.1924\n",
            "Epoch 57/100\n",
            "21/21 [==============================] - 0s 15ms/step - loss: 9.2111 - mae: 2.1040 - val_loss: 36.4397 - val_mae: 3.8816\n",
            "Epoch 58/100\n",
            "21/21 [==============================] - 0s 15ms/step - loss: 6.9704 - mae: 1.7315 - val_loss: 43.3154 - val_mae: 4.1844\n",
            "Epoch 59/100\n",
            "21/21 [==============================] - 0s 14ms/step - loss: 9.1652 - mae: 2.0764 - val_loss: 44.5500 - val_mae: 4.7551\n",
            "Epoch 60/100\n",
            "21/21 [==============================] - 0s 16ms/step - loss: 12.7163 - mae: 2.6427 - val_loss: 39.3308 - val_mae: 4.2028\n",
            "Epoch 61/100\n",
            "21/21 [==============================] - 0s 16ms/step - loss: 11.6609 - mae: 2.4044 - val_loss: 45.7964 - val_mae: 4.9854\n",
            "Epoch 62/100\n",
            "21/21 [==============================] - 0s 15ms/step - loss: 10.9843 - mae: 2.3707 - val_loss: 36.0519 - val_mae: 3.8917\n",
            "Epoch 63/100\n",
            "21/21 [==============================] - 0s 15ms/step - loss: 7.4822 - mae: 1.8732 - val_loss: 38.4804 - val_mae: 3.8358\n",
            "Epoch 64/100\n",
            "21/21 [==============================] - 0s 15ms/step - loss: 8.1594 - mae: 1.9426 - val_loss: 40.0243 - val_mae: 4.0749\n",
            "Epoch 65/100\n",
            "21/21 [==============================] - 0s 15ms/step - loss: 7.5497 - mae: 1.8433 - val_loss: 41.4695 - val_mae: 4.1331\n",
            "Epoch 66/100\n",
            "21/21 [==============================] - 0s 16ms/step - loss: 9.6631 - mae: 2.1871 - val_loss: 38.6758 - val_mae: 4.0679\n",
            "Epoch 67/100\n",
            "21/21 [==============================] - 0s 15ms/step - loss: 9.6438 - mae: 2.1960 - val_loss: 42.0604 - val_mae: 4.5920\n",
            "Epoch 68/100\n",
            "21/21 [==============================] - 0s 15ms/step - loss: 14.3051 - mae: 2.7839 - val_loss: 41.4595 - val_mae: 4.0511\n",
            "Epoch 69/100\n",
            "21/21 [==============================] - 0s 16ms/step - loss: 8.8362 - mae: 2.1706 - val_loss: 41.5546 - val_mae: 4.2681\n",
            "Epoch 70/100\n",
            "21/21 [==============================] - 0s 14ms/step - loss: 6.9877 - mae: 1.8754 - val_loss: 41.5041 - val_mae: 4.1654\n",
            "Epoch 71/100\n",
            "21/21 [==============================] - 0s 14ms/step - loss: 6.2213 - mae: 1.6240 - val_loss: 41.4370 - val_mae: 4.0441\n",
            "Epoch 72/100\n",
            "21/21 [==============================] - 0s 16ms/step - loss: 7.7512 - mae: 1.8257 - val_loss: 40.5863 - val_mae: 4.0936\n",
            "Epoch 73/100\n",
            "21/21 [==============================] - 0s 15ms/step - loss: 7.6760 - mae: 1.8167 - val_loss: 41.8946 - val_mae: 4.1188\n",
            "Epoch 74/100\n",
            "21/21 [==============================] - 0s 15ms/step - loss: 7.1954 - mae: 1.7949 - val_loss: 48.1483 - val_mae: 4.2401\n",
            "Epoch 75/100\n",
            "21/21 [==============================] - 0s 15ms/step - loss: 7.3005 - mae: 1.7957 - val_loss: 38.5678 - val_mae: 4.1034\n",
            "Epoch 76/100\n",
            "21/21 [==============================] - 0s 16ms/step - loss: 10.6921 - mae: 2.3331 - val_loss: 59.7758 - val_mae: 5.1243\n",
            "Epoch 77/100\n",
            "21/21 [==============================] - 0s 14ms/step - loss: 11.2756 - mae: 2.3978 - val_loss: 44.1948 - val_mae: 4.2284\n",
            "Epoch 78/100\n",
            "21/21 [==============================] - 0s 15ms/step - loss: 13.7338 - mae: 2.7152 - val_loss: 37.1781 - val_mae: 3.8455\n",
            "Epoch 79/100\n",
            "21/21 [==============================] - 0s 15ms/step - loss: 8.0778 - mae: 2.0179 - val_loss: 39.7251 - val_mae: 4.1653\n",
            "Epoch 80/100\n",
            "21/21 [==============================] - 0s 16ms/step - loss: 8.1857 - mae: 1.8979 - val_loss: 44.1004 - val_mae: 4.0904\n",
            "Epoch 81/100\n",
            "21/21 [==============================] - 0s 15ms/step - loss: 6.8852 - mae: 1.7230 - val_loss: 40.0602 - val_mae: 4.0682\n",
            "Epoch 82/100\n",
            "21/21 [==============================] - 0s 16ms/step - loss: 6.4256 - mae: 1.6700 - val_loss: 37.6049 - val_mae: 3.8024\n",
            "Epoch 83/100\n",
            "21/21 [==============================] - 0s 15ms/step - loss: 6.1110 - mae: 1.6428 - val_loss: 39.2333 - val_mae: 3.9786\n",
            "Epoch 84/100\n",
            "21/21 [==============================] - 0s 15ms/step - loss: 6.6223 - mae: 1.6823 - val_loss: 47.0196 - val_mae: 4.2434\n",
            "Epoch 85/100\n",
            "21/21 [==============================] - 0s 16ms/step - loss: 8.7978 - mae: 2.0898 - val_loss: 41.0793 - val_mae: 4.1978\n",
            "Epoch 86/100\n",
            "21/21 [==============================] - 0s 16ms/step - loss: 12.3345 - mae: 2.4069 - val_loss: 41.4729 - val_mae: 4.2436\n",
            "Epoch 87/100\n",
            "21/21 [==============================] - 0s 15ms/step - loss: 24.0255 - mae: 3.5832 - val_loss: 40.2044 - val_mae: 4.4207\n",
            "Epoch 88/100\n",
            "21/21 [==============================] - 0s 16ms/step - loss: 23.5104 - mae: 3.7394 - val_loss: 40.6468 - val_mae: 4.1264\n",
            "Epoch 89/100\n",
            "21/21 [==============================] - 0s 16ms/step - loss: 13.8394 - mae: 2.7480 - val_loss: 37.5749 - val_mae: 3.9660\n",
            "Epoch 90/100\n",
            "21/21 [==============================] - 0s 14ms/step - loss: 7.4182 - mae: 1.8913 - val_loss: 37.7661 - val_mae: 3.8871\n",
            "Epoch 91/100\n",
            "21/21 [==============================] - 0s 16ms/step - loss: 6.8371 - mae: 1.6974 - val_loss: 36.3943 - val_mae: 3.7350\n",
            "Epoch 92/100\n",
            "21/21 [==============================] - 0s 15ms/step - loss: 6.3229 - mae: 1.6598 - val_loss: 38.1371 - val_mae: 3.8702\n",
            "Epoch 93/100\n",
            "21/21 [==============================] - 0s 15ms/step - loss: 6.6153 - mae: 1.7053 - val_loss: 46.2400 - val_mae: 4.2832\n",
            "Epoch 94/100\n",
            "21/21 [==============================] - 0s 16ms/step - loss: 6.7826 - mae: 1.7047 - val_loss: 37.8957 - val_mae: 3.6939\n",
            "Epoch 95/100\n",
            "21/21 [==============================] - 0s 14ms/step - loss: 7.4360 - mae: 1.6967 - val_loss: 41.2376 - val_mae: 4.0695\n",
            "Epoch 96/100\n",
            "21/21 [==============================] - 0s 14ms/step - loss: 7.0262 - mae: 1.7419 - val_loss: 44.6869 - val_mae: 4.8256\n",
            "Epoch 97/100\n",
            "21/21 [==============================] - 0s 16ms/step - loss: 12.0219 - mae: 2.5255 - val_loss: 42.6225 - val_mae: 4.0349\n",
            "Epoch 98/100\n",
            "21/21 [==============================] - 0s 15ms/step - loss: 6.7397 - mae: 1.7426 - val_loss: 43.7609 - val_mae: 4.1062\n",
            "Epoch 99/100\n",
            "21/21 [==============================] - 0s 15ms/step - loss: 5.7086 - mae: 1.4989 - val_loss: 42.8546 - val_mae: 4.0085\n",
            "Epoch 100/100\n",
            "21/21 [==============================] - 0s 16ms/step - loss: 5.4842 - mae: 1.4091 - val_loss: 36.1406 - val_mae: 3.6247\n"
          ]
        }
      ]
    },
    {
      "cell_type": "code",
      "metadata": {
        "id": "0eZxnqPwcs7f"
      },
      "source": [
        "from matplotlib import pyplot as plt"
      ],
      "execution_count": 39,
      "outputs": []
    },
    {
      "cell_type": "code",
      "metadata": {
        "colab": {
          "base_uri": "https://localhost:8080/",
          "height": 295
        },
        "id": "8OEtH2PZfaPA",
        "outputId": "6973465f-61c6-42e2-e4de-c4708497501c"
      },
      "source": [
        "loss=history.history['loss']\n",
        "val_loss=history.history['val_loss']\n",
        "epochs=range(1,len(loss) +1)\n",
        "plt.plot(epochs, loss, 'y', label='Training loss')\n",
        "plt.plot(epochs, val_loss, 'r', label='validation loss')\n",
        "plt.title('Training and validation loss')\n",
        "plt.xlabel('Epochs')\n",
        "plt.ylabel('Loss')\n",
        "plt.legend()\n",
        "plt.show()\n"
      ],
      "execution_count": 40,
      "outputs": [
        {
          "output_type": "display_data",
          "data": {
            "image/png": "[encoded data removed]",
            "text/plain": [
              "<Figure size 432x288 with 1 Axes>"
            ]
          },
          "metadata": {
            "needs_background": "light"
          }
        }
      ]
    },
    {
      "cell_type": "code",
      "metadata": {
        "colab": {
          "base_uri": "https://localhost:8080/",
          "height": 295
        },
        "id": "mvLq_dpPfmpG",
        "outputId": "1e0274c0-e47d-40f6-c9a8-4ac06648a523"
      },
      "source": [
        "acc=history.history['mae']\n",
        "val_acc=history.history['val_mae']\n",
        "plt.plot(epochs, acc, 'y', label='Training mae')\n",
        "plt.plot(epochs, val_acc, 'r', label='validation mae')\n",
        "plt.title('Training and validation mae')\n",
        "plt.xlabel('Epochs')\n",
        "plt.ylabel('Accuracy')\n",
        "plt.legend()\n",
        "plt.show()\n"
      ],
      "execution_count": 41,
      "outputs": [
        {
          "output_type": "display_data",
          "data": {
            "image/png": "[encoded data removed]",
            "text/plain": [
              "<Figure size 432x288 with 1 Axes>"
            ]
          },
          "metadata": {
            "needs_background": "light"
          }
        }
      ]
    },
    {
      "cell_type": "code",
      "metadata": {
        "colab": {
          "base_uri": "https://localhost:8080/"
        },
        "id": "V3aez9Ckf8qt",
        "outputId": "66c7ac11-913b-473f-c90d-8c6f5cb01bbc"
      },
      "source": [
        "predictions=regressor.predict(X_test_scaled[:5])\n",
        "print(\"predicted value are:\",predictions)\n",
        "print(\"real value are:\",y_test[:5])"
      ],
      "execution_count": 42,
      "outputs": [
        {
          "output_type": "stream",
          "name": "stdout",
          "text": [
            "predicted value are: [[17.716528]\n",
            " [ 5.694119]\n",
            " [76.882416]\n",
            " [58.94607 ]\n",
            " [11.121167]]\n",
            "real value are: 747    26.06\n",
            "718    10.35\n",
            "175    79.30\n",
            "828    74.99\n",
            "713     9.69\n",
            "Name: Strength, dtype: float64\n"
          ]
        }
      ]
    },
    {
      "cell_type": "code",
      "metadata": {
        "colab": {
          "base_uri": "https://localhost:8080/"
        },
        "id": "k1UsCDl9gJ2A",
        "outputId": "7fe6839d-1bb7-4995-8405-ac73f3750111"
      },
      "source": [
        "mse_neural, mae_neural=regressor.evaluate(X_test_scaled,y_test)\n",
        "print('Mean squared error from neural network:',mse_neural)\n",
        "print('Mean absolute error from neural network :', mae_neural)\n"
      ],
      "execution_count": 44,
      "outputs": [
        {
          "output_type": "stream",
          "name": "stdout",
          "text": [
            "7/7 [==============================] - 0s 4ms/step - loss: 31.0676 - mae: 3.5171\n",
            "Mean squared error from neural network: 31.067628860473633\n",
            "Mean absolute error from neural network : 3.517061710357666\n"
          ]
        }
      ]
    },
    {
      "cell_type": "code",
      "metadata": {
        "id": "mLlaP4njgQkX"
      },
      "source": [
        "from sklearn import linear_model\n",
        "from sklearn.tree import DecisionTreeRegressor\n",
        "from sklearn.metrics import mean_squared_error, mean_absolute_error"
      ],
      "execution_count": 45,
      "outputs": []
    },
    {
      "cell_type": "code",
      "metadata": {
        "colab": {
          "base_uri": "https://localhost:8080/"
        },
        "id": "7y-C7OPSgZRl",
        "outputId": "6066ac6b-6c63-4f09-cb07-e14327040fc4"
      },
      "source": [
        "lr_model=linear_model.LinearRegression()\n",
        "lr_model.fit(X_train_scaled,y_train)\n",
        "y_pred_lr=lr_model.predict(X_test_scaled)\n",
        "mse_lr=mean_squared_error(y_test,y_pred_lr)\n",
        "mae_lr=mean_absolute_error(y_test, y_pred_lr)\n",
        "print('Mean squared error from linear regression:', mse_lr)\n",
        "print('Mean absolute error from linear regression:', mae_lr)\n"
      ],
      "execution_count": 47,
      "outputs": [
        {
          "output_type": "stream",
          "name": "stdout",
          "text": [
            "Mean squared error from linear regression: 95.61717380589968\n",
            "Mean absolute error from linear regression: 7.864641991336005\n"
          ]
        }
      ]
    }
  ]
}