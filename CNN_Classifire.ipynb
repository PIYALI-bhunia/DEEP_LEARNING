{
  "nbformat": 4,
  "nbformat_minor": 0,
  "metadata": {
    "colab": {
      "name": "CNN_Classifire.ipynb",
      "provenance": [],
      "mount_file_id": "1K6I2auFqG_lbnC7sTsGpb3Xw3Vrm_r1E",
      "authorship_tag": "ABX9TyO1gAZqFtuDJSPaVhZvrcrq",
      "include_colab_link": true
    },
    "kernelspec": {
      "name": "python3",
      "display_name": "Python 3"
    },
    "language_info": {
      "name": "python"
    },
    "accelerator": "GPU"
  },
  "cells": [
    {
      "cell_type": "markdown",
      "metadata": {
        "id": "view-in-github",
        "colab_type": "text"
      },
      "source": [
        "<a href=\"https://colab.research.google.com/github/PIYALI-bhunia/DEEP_LEARNING/blob/main/CNN_Classifire.ipynb\" target=\"_parent\"><img src=\"https://colab.research.google.com/assets/colab-badge.svg\" alt=\"Open In Colab\"/></a>"
      ]
    },
    {
      "cell_type": "code",
      "execution_count": 1,
      "metadata": {
        "id": "fTqxK06APVC8"
      },
      "outputs": [],
      "source": [
        "import tensorflow as tf\n",
        "from tensorflow.keras import datasets, layers, models\n",
        "import numpy as np\n",
        "import pandas as pd\n",
        "import matplotlib.pyplot as plt"
      ]
    },
    {
      "cell_type": "code",
      "source": [
        "(X_train , y_train), (X_test, y_test) = datasets.cifar10.load_data()"
      ],
      "metadata": {
        "colab": {
          "base_uri": "https://localhost:8080/"
        },
        "id": "xHAtzTvJP_FR",
        "outputId": "256d5368-f9b5-455e-a601-a4e0f05c6f7f"
      },
      "execution_count": 2,
      "outputs": [
        {
          "output_type": "stream",
          "name": "stdout",
          "text": [
            "Downloading data from https://www.cs.toronto.edu/~kriz/cifar-10-python.tar.gz\n",
            "170500096/170498071 [==============================] - 2s 0us/step\n",
            "170508288/170498071 [==============================] - 2s 0us/step\n"
          ]
        }
      ]
    },
    {
      "cell_type": "code",
      "source": [
        "X_train = X_train / 255\n",
        "X_test = X_test / 255"
      ],
      "metadata": {
        "id": "lSUq3HQCQH4-"
      },
      "execution_count": 3,
      "outputs": []
    },
    {
      "cell_type": "code",
      "source": [
        "cnn = models.Sequential([\n",
        "    layers.Conv2D(filters = 32, activation='relu', kernel_size=(3,3) , input_shape = (32,32,3)),\n",
        "    layers.MaxPooling2D((2,2)),\n",
        "\n",
        "    layers.Conv2D(filters = 64, activation='relu', kernel_size=(3,3)),\n",
        "    layers.MaxPooling2D((2,2)),\n",
        "\n",
        "    layers.Flatten(),\n",
        "    layers.Dense(units = 64, activation = 'relu'),\n",
        "    layers.Dense(units = 10, activation = 'softmax')\n",
        "])"
      ],
      "metadata": {
        "id": "yR0Ut_PMQVDy"
      },
      "execution_count": 4,
      "outputs": []
    },
    {
      "cell_type": "code",
      "source": [
        "cnn.compile(optimizer = 'adam', loss = 'sparse_categorical_crossentropy' , metrics = ['accuracy'])"
      ],
      "metadata": {
        "id": "OJxxBfORQfAK"
      },
      "execution_count": 5,
      "outputs": []
    },
    {
      "cell_type": "code",
      "source": [
        "cnn.fit(X_train, y_train, batch_size = 32, epochs = 50)"
      ],
      "metadata": {
        "colab": {
          "base_uri": "https://localhost:8080/"
        },
        "id": "9QPBKYi6QjSi",
        "outputId": "29d0dd6c-cf3f-44ef-bf8e-9becff21c3bb"
      },
      "execution_count": null,
      "outputs": [
        {
          "output_type": "stream",
          "name": "stdout",
          "text": [
            "Epoch 1/50\n",
            "1563/1563 [==============================] - 97s 62ms/step - loss: 1.1702 - accuracy: 0.5890\n",
            "Epoch 2/50\n",
            "1563/1563 [==============================] - 68s 43ms/step - loss: 1.0023 - accuracy: 0.6496\n",
            "Epoch 3/50\n",
            "1563/1563 [==============================] - 66s 42ms/step - loss: 0.8881 - accuracy: 0.6905\n",
            "Epoch 4/50\n",
            "1563/1563 [==============================] - 66s 42ms/step - loss: 0.8093 - accuracy: 0.7192\n",
            "Epoch 5/50\n",
            "1563/1563 [==============================] - 65s 42ms/step - loss: 0.7439 - accuracy: 0.7422\n",
            "Epoch 6/50\n",
            "1563/1563 [==============================] - 66s 42ms/step - loss: 0.6863 - accuracy: 0.7611\n",
            "Epoch 7/50\n",
            "1563/1563 [==============================] - 65s 42ms/step - loss: 0.6388 - accuracy: 0.7763\n",
            "Epoch 8/50\n",
            "1563/1563 [==============================] - 66s 42ms/step - loss: 0.5900 - accuracy: 0.7942\n",
            "Epoch 9/50\n",
            "1451/1563 [==========================>...] - ETA: 5s - loss: 0.5515 - accuracy: 0.8077"
          ]
        }
      ]
    },
    {
      "cell_type": "code",
      "source": [
        "cnn.evaluate(X_test, y_test)"
      ],
      "metadata": {
        "id": "nStFVnbrTGF0"
      },
      "execution_count": null,
      "outputs": []
    }
  ]
}