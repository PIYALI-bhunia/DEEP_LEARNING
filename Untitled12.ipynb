{
  "nbformat": 4,
  "nbformat_minor": 0,
  "metadata": {
    "colab": {
      "name": "Untitled12.ipynb",
      "provenance": [],
      "mount_file_id": "1urUqRhsMdzR2BYIqWiQHef3j-Ll1cHAO",
      "authorship_tag": "ABX9TyNPvFLG3rY75LwlmgoxM1Oi",
      "include_colab_link": true
    },
    "kernelspec": {
      "name": "python3",
      "display_name": "Python 3"
    },
    "language_info": {
      "name": "python"
    }
  },
  "cells": [
    {
      "cell_type": "markdown",
      "metadata": {
        "id": "view-in-github",
        "colab_type": "text"
      },
      "source": [
        "<a href=\"https://colab.research.google.com/github/PIYALI-bhunia/DEEP_LEARNING/blob/main/Untitled12.ipynb\" target=\"_parent\"><img src=\"https://colab.research.google.com/assets/colab-badge.svg\" alt=\"Open In Colab\"/></a>"
      ]
    },
    {
      "cell_type": "code",
      "source": [
        "!pip3 install tensorflow_text"
      ],
      "metadata": {
        "colab": {
          "base_uri": "https://localhost:8080/",
          "height": 1000
        },
        "id": "xQ8M-z1t27Qc",
        "outputId": "09d69300-d718-4e5c-f8f6-bd76a2f340b3"
      },
      "execution_count": 2,
      "outputs": [
        {
          "output_type": "stream",
          "name": "stdout",
          "text": [
            "Collecting tensorflow_text\n",
            "  Downloading tensorflow_text-2.8.1-cp37-cp37m-manylinux_2_12_x86_64.manylinux2010_x86_64.whl (4.9 MB)\n",
            "\u001b[K     |████████████████████████████████| 4.9 MB 5.2 MB/s \n",
            "\u001b[?25hRequirement already satisfied: tensorflow<2.9,>=2.8.0 in /usr/local/lib/python3.7/dist-packages (from tensorflow_text) (2.8.0)\n",
            "Requirement already satisfied: tensorflow-hub>=0.8.0 in /usr/local/lib/python3.7/dist-packages (from tensorflow_text) (0.12.0)\n",
            "Requirement already satisfied: typing-extensions>=3.6.6 in /usr/local/lib/python3.7/dist-packages (from tensorflow<2.9,>=2.8.0->tensorflow_text) (3.10.0.2)\n",
            "Requirement already satisfied: grpcio<2.0,>=1.24.3 in /usr/local/lib/python3.7/dist-packages (from tensorflow<2.9,>=2.8.0->tensorflow_text) (1.44.0)\n",
            "Requirement already satisfied: six>=1.12.0 in /usr/local/lib/python3.7/dist-packages (from tensorflow<2.9,>=2.8.0->tensorflow_text) (1.15.0)\n",
            "Requirement already satisfied: gast>=0.2.1 in /usr/local/lib/python3.7/dist-packages (from tensorflow<2.9,>=2.8.0->tensorflow_text) (0.5.3)\n",
            "Requirement already satisfied: absl-py>=0.4.0 in /usr/local/lib/python3.7/dist-packages (from tensorflow<2.9,>=2.8.0->tensorflow_text) (1.0.0)\n",
            "Requirement already satisfied: termcolor>=1.1.0 in /usr/local/lib/python3.7/dist-packages (from tensorflow<2.9,>=2.8.0->tensorflow_text) (1.1.0)\n",
            "Requirement already satisfied: protobuf>=3.9.2 in /usr/local/lib/python3.7/dist-packages (from tensorflow<2.9,>=2.8.0->tensorflow_text) (3.17.3)\n",
            "Requirement already satisfied: flatbuffers>=1.12 in /usr/local/lib/python3.7/dist-packages (from tensorflow<2.9,>=2.8.0->tensorflow_text) (2.0)\n",
            "Requirement already satisfied: astunparse>=1.6.0 in /usr/local/lib/python3.7/dist-packages (from tensorflow<2.9,>=2.8.0->tensorflow_text) (1.6.3)\n",
            "Collecting tf-estimator-nightly==2.8.0.dev2021122109\n",
            "  Downloading tf_estimator_nightly-2.8.0.dev2021122109-py2.py3-none-any.whl (462 kB)\n",
            "\u001b[K     |████████████████████████████████| 462 kB 52.6 MB/s \n",
            "\u001b[?25hRequirement already satisfied: tensorflow-io-gcs-filesystem>=0.23.1 in /usr/local/lib/python3.7/dist-packages (from tensorflow<2.9,>=2.8.0->tensorflow_text) (0.24.0)\n",
            "Requirement already satisfied: setuptools in /usr/local/lib/python3.7/dist-packages (from tensorflow<2.9,>=2.8.0->tensorflow_text) (57.4.0)\n",
            "Requirement already satisfied: wrapt>=1.11.0 in /usr/local/lib/python3.7/dist-packages (from tensorflow<2.9,>=2.8.0->tensorflow_text) (1.14.0)\n",
            "Requirement already satisfied: keras-preprocessing>=1.1.1 in /usr/local/lib/python3.7/dist-packages (from tensorflow<2.9,>=2.8.0->tensorflow_text) (1.1.2)\n",
            "Requirement already satisfied: tensorboard<2.9,>=2.8 in /usr/local/lib/python3.7/dist-packages (from tensorflow<2.9,>=2.8.0->tensorflow_text) (2.8.0)\n",
            "Requirement already satisfied: libclang>=9.0.1 in /usr/local/lib/python3.7/dist-packages (from tensorflow<2.9,>=2.8.0->tensorflow_text) (13.0.0)\n",
            "Requirement already satisfied: opt-einsum>=2.3.2 in /usr/local/lib/python3.7/dist-packages (from tensorflow<2.9,>=2.8.0->tensorflow_text) (3.3.0)\n",
            "Requirement already satisfied: google-pasta>=0.1.1 in /usr/local/lib/python3.7/dist-packages (from tensorflow<2.9,>=2.8.0->tensorflow_text) (0.2.0)\n",
            "Requirement already satisfied: h5py>=2.9.0 in /usr/local/lib/python3.7/dist-packages (from tensorflow<2.9,>=2.8.0->tensorflow_text) (3.1.0)\n",
            "Requirement already satisfied: keras<2.9,>=2.8.0rc0 in /usr/local/lib/python3.7/dist-packages (from tensorflow<2.9,>=2.8.0->tensorflow_text) (2.8.0)\n",
            "Requirement already satisfied: numpy>=1.20 in /usr/local/lib/python3.7/dist-packages (from tensorflow<2.9,>=2.8.0->tensorflow_text) (1.21.5)\n",
            "Requirement already satisfied: wheel<1.0,>=0.23.0 in /usr/local/lib/python3.7/dist-packages (from astunparse>=1.6.0->tensorflow<2.9,>=2.8.0->tensorflow_text) (0.37.1)\n",
            "Requirement already satisfied: cached-property in /usr/local/lib/python3.7/dist-packages (from h5py>=2.9.0->tensorflow<2.9,>=2.8.0->tensorflow_text) (1.5.2)\n",
            "Requirement already satisfied: markdown>=2.6.8 in /usr/local/lib/python3.7/dist-packages (from tensorboard<2.9,>=2.8->tensorflow<2.9,>=2.8.0->tensorflow_text) (3.3.6)\n",
            "Requirement already satisfied: google-auth<3,>=1.6.3 in /usr/local/lib/python3.7/dist-packages (from tensorboard<2.9,>=2.8->tensorflow<2.9,>=2.8.0->tensorflow_text) (1.35.0)\n",
            "Requirement already satisfied: tensorboard-plugin-wit>=1.6.0 in /usr/local/lib/python3.7/dist-packages (from tensorboard<2.9,>=2.8->tensorflow<2.9,>=2.8.0->tensorflow_text) (1.8.1)\n",
            "Requirement already satisfied: requests<3,>=2.21.0 in /usr/local/lib/python3.7/dist-packages (from tensorboard<2.9,>=2.8->tensorflow<2.9,>=2.8.0->tensorflow_text) (2.23.0)\n",
            "Requirement already satisfied: tensorboard-data-server<0.7.0,>=0.6.0 in /usr/local/lib/python3.7/dist-packages (from tensorboard<2.9,>=2.8->tensorflow<2.9,>=2.8.0->tensorflow_text) (0.6.1)\n",
            "Requirement already satisfied: werkzeug>=0.11.15 in /usr/local/lib/python3.7/dist-packages (from tensorboard<2.9,>=2.8->tensorflow<2.9,>=2.8.0->tensorflow_text) (1.0.1)\n",
            "Requirement already satisfied: google-auth-oauthlib<0.5,>=0.4.1 in /usr/local/lib/python3.7/dist-packages (from tensorboard<2.9,>=2.8->tensorflow<2.9,>=2.8.0->tensorflow_text) (0.4.6)\n",
            "Requirement already satisfied: pyasn1-modules>=0.2.1 in /usr/local/lib/python3.7/dist-packages (from google-auth<3,>=1.6.3->tensorboard<2.9,>=2.8->tensorflow<2.9,>=2.8.0->tensorflow_text) (0.2.8)\n",
            "Requirement already satisfied: cachetools<5.0,>=2.0.0 in /usr/local/lib/python3.7/dist-packages (from google-auth<3,>=1.6.3->tensorboard<2.9,>=2.8->tensorflow<2.9,>=2.8.0->tensorflow_text) (4.2.4)\n",
            "Requirement already satisfied: rsa<5,>=3.1.4 in /usr/local/lib/python3.7/dist-packages (from google-auth<3,>=1.6.3->tensorboard<2.9,>=2.8->tensorflow<2.9,>=2.8.0->tensorflow_text) (4.8)\n",
            "Requirement already satisfied: requests-oauthlib>=0.7.0 in /usr/local/lib/python3.7/dist-packages (from google-auth-oauthlib<0.5,>=0.4.1->tensorboard<2.9,>=2.8->tensorflow<2.9,>=2.8.0->tensorflow_text) (1.3.1)\n",
            "Requirement already satisfied: importlib-metadata>=4.4 in /usr/local/lib/python3.7/dist-packages (from markdown>=2.6.8->tensorboard<2.9,>=2.8->tensorflow<2.9,>=2.8.0->tensorflow_text) (4.11.3)\n",
            "Requirement already satisfied: zipp>=0.5 in /usr/local/lib/python3.7/dist-packages (from importlib-metadata>=4.4->markdown>=2.6.8->tensorboard<2.9,>=2.8->tensorflow<2.9,>=2.8.0->tensorflow_text) (3.7.0)\n",
            "Requirement already satisfied: pyasn1<0.5.0,>=0.4.6 in /usr/local/lib/python3.7/dist-packages (from pyasn1-modules>=0.2.1->google-auth<3,>=1.6.3->tensorboard<2.9,>=2.8->tensorflow<2.9,>=2.8.0->tensorflow_text) (0.4.8)\n",
            "Requirement already satisfied: certifi>=2017.4.17 in /usr/local/lib/python3.7/dist-packages (from requests<3,>=2.21.0->tensorboard<2.9,>=2.8->tensorflow<2.9,>=2.8.0->tensorflow_text) (2021.10.8)\n",
            "Requirement already satisfied: idna<3,>=2.5 in /usr/local/lib/python3.7/dist-packages (from requests<3,>=2.21.0->tensorboard<2.9,>=2.8->tensorflow<2.9,>=2.8.0->tensorflow_text) (2.10)\n",
            "Requirement already satisfied: chardet<4,>=3.0.2 in /usr/local/lib/python3.7/dist-packages (from requests<3,>=2.21.0->tensorboard<2.9,>=2.8->tensorflow<2.9,>=2.8.0->tensorflow_text) (3.0.4)\n",
            "Requirement already satisfied: urllib3!=1.25.0,!=1.25.1,<1.26,>=1.21.1 in /usr/local/lib/python3.7/dist-packages (from requests<3,>=2.21.0->tensorboard<2.9,>=2.8->tensorflow<2.9,>=2.8.0->tensorflow_text) (1.24.3)\n",
            "Requirement already satisfied: oauthlib>=3.0.0 in /usr/local/lib/python3.7/dist-packages (from requests-oauthlib>=0.7.0->google-auth-oauthlib<0.5,>=0.4.1->tensorboard<2.9,>=2.8->tensorflow<2.9,>=2.8.0->tensorflow_text) (3.2.0)\n",
            "Installing collected packages: tf-estimator-nightly, tensorflow-text\n",
            "Successfully installed tensorflow-text-2.8.1 tf-estimator-nightly-2.8.0.dev2021122109\n"
          ]
        },
        {
          "output_type": "display_data",
          "data": {
            "application/vnd.colab-display-data+json": {
              "pip_warning": {
                "packages": [
                  "tensorflow_estimator"
                ]
              }
            }
          },
          "metadata": {}
        }
      ]
    },
    {
      "cell_type": "code",
      "execution_count": 45,
      "metadata": {
        "id": "UmE_FG772WgI"
      },
      "outputs": [],
      "source": [
        "import tensorflow_hub as hub\n",
        "import tensorflow_text as text"
      ]
    },
    {
      "cell_type": "code",
      "source": [
        "preprocess_url = \"https://tfhub.dev/tensorflow/bert_en_uncased_preprocess/3\"\n",
        "encoder_url = \"https://tfhub.dev/tensorflow/bert_en_uncased_L-12_H-768_A-12/4\""
      ],
      "metadata": {
        "id": "3DrBhNu227H4"
      },
      "execution_count": 46,
      "outputs": []
    },
    {
      "cell_type": "code",
      "source": [
        "bert_preprocess_model = hub.KerasLayer(preprocess_url)"
      ],
      "metadata": {
        "id": "WyqrL_Ot27J8"
      },
      "execution_count": 47,
      "outputs": []
    },
    {
      "cell_type": "code",
      "source": [
        "text_test = ['nice movie indeed','I love python programming']\n",
        "text_test1=[text_test[0]]\n",
        "text_test2=[text_test[1]]\n",
        "text_test1"
      ],
      "metadata": {
        "colab": {
          "base_uri": "https://localhost:8080/"
        },
        "id": "S1wIUIbh27Nm",
        "outputId": "178a2c15-cc6f-48a0-8eeb-b99ae1cc064e"
      },
      "execution_count": 48,
      "outputs": [
        {
          "output_type": "execute_result",
          "data": {
            "text/plain": [
              "['nice movie indeed']"
            ]
          },
          "metadata": {},
          "execution_count": 48
        }
      ]
    },
    {
      "cell_type": "code",
      "source": [
        "text_preprocessed = bert_preprocess_model(text_test1)\n",
        "text_preprocessed.keys()"
      ],
      "metadata": {
        "colab": {
          "base_uri": "https://localhost:8080/"
        },
        "id": "H__-175EEo1k",
        "outputId": "62c9db4e-ef85-44df-a67d-db541b7078e6"
      },
      "execution_count": 49,
      "outputs": [
        {
          "output_type": "execute_result",
          "data": {
            "text/plain": [
              "dict_keys(['input_word_ids', 'input_mask', 'input_type_ids'])"
            ]
          },
          "metadata": {},
          "execution_count": 49
        }
      ]
    },
    {
      "cell_type": "code",
      "source": [
        "bert_model = hub.KerasLayer(encoder_url)"
      ],
      "metadata": {
        "id": "fIoTXhsTEo3o"
      },
      "execution_count": 50,
      "outputs": []
    },
    {
      "cell_type": "code",
      "source": [
        "bert_results = bert_model(text_preprocessed)"
      ],
      "metadata": {
        "id": "RhYe4eQHEo6v"
      },
      "execution_count": 51,
      "outputs": []
    },
    {
      "cell_type": "code",
      "source": [
        "bert_results.keys()"
      ],
      "metadata": {
        "colab": {
          "base_uri": "https://localhost:8080/"
        },
        "id": "SjaEfxoXEo9G",
        "outputId": "a61cf156-1f39-49e2-9008-b0cc60f4709d"
      },
      "execution_count": 52,
      "outputs": [
        {
          "output_type": "execute_result",
          "data": {
            "text/plain": [
              "dict_keys(['encoder_outputs', 'sequence_output', 'default', 'pooled_output'])"
            ]
          },
          "metadata": {},
          "execution_count": 52
        }
      ]
    },
    {
      "cell_type": "code",
      "source": [
        "output1=bert_results['pooled_output']\n",
        "output1"
      ],
      "metadata": {
        "colab": {
          "base_uri": "https://localhost:8080/"
        },
        "id": "ZfpbD4kAGIoi",
        "outputId": "e9a9713e-f165-4521-f1d7-7d0b951ba2fc"
      },
      "execution_count": 53,
      "outputs": [
        {
          "output_type": "execute_result",
          "data": {
            "text/plain": [
              "<tf.Tensor: shape=(1, 768), dtype=float32, numpy=\n",
              "array([[-7.91773856e-01, -2.14119077e-01,  4.97695595e-01,\n",
              "         4.73431855e-01, -1.80652604e-01, -8.33085328e-02,\n",
              "         8.14969480e-01,  1.44600794e-01,  2.04916850e-01,\n",
              "        -9.99239922e-01,  1.36825800e-01,  8.29992257e-03,\n",
              "         9.51741636e-01, -3.63365024e-01,  8.72413754e-01,\n",
              "        -4.07976508e-01, -3.00642606e-02, -4.13878888e-01,\n",
              "         2.43135676e-01, -6.50724053e-01,  4.46718216e-01,\n",
              "         7.56984234e-01,  5.95490754e-01,  1.58233672e-01,\n",
              "         2.40729600e-01,  1.85460433e-01, -5.00944316e-01,\n",
              "         8.72952342e-01,  9.05975044e-01,  5.36843657e-01,\n",
              "        -5.62124133e-01,  9.55324247e-02, -9.55684185e-01,\n",
              "        -8.73648971e-02,  5.06408036e-01, -9.52129483e-01,\n",
              "         6.01504557e-02, -6.85674369e-01,  6.50393963e-02,\n",
              "         2.19804868e-02, -8.37849021e-01,  1.31664723e-01,\n",
              "         9.86527085e-01, -3.81034732e-01, -1.99163467e-01,\n",
              "        -2.51670986e-01, -9.98163998e-01,  1.07079983e-01,\n",
              "        -7.86918521e-01, -3.92053932e-01, -2.68120587e-01,\n",
              "        -5.12088954e-01,  6.53307363e-02,  2.76707053e-01,\n",
              "         2.41417721e-01,  4.82246876e-01, -1.84257239e-01,\n",
              "         4.68178727e-02, -9.91877262e-03, -4.41179603e-01,\n",
              "        -5.07516086e-01,  1.02841288e-01,  1.62792489e-01,\n",
              "        -8.47222328e-01, -3.39589715e-01, -5.59102237e-01,\n",
              "        -2.83391289e-02, -1.42712012e-01,  1.49695724e-02,\n",
              "        -2.84497254e-02,  7.38820195e-01,  1.03922173e-01,\n",
              "         3.35900754e-01, -7.16029108e-01, -4.88623232e-01,\n",
              "         8.83271173e-02, -3.07956725e-01,  9.99954462e-01,\n",
              "        -2.31576174e-01, -9.41488445e-01, -3.41893017e-01,\n",
              "        -3.37110400e-01,  2.20049977e-01,  5.78710437e-01,\n",
              "        -5.52775025e-01, -9.99730170e-01,  2.54279017e-01,\n",
              "         1.05413739e-02, -9.72616136e-01,  1.20836951e-01,\n",
              "         2.95918971e-01, -1.20467767e-01, -5.45695722e-01,\n",
              "         2.10033596e-01, -9.94436294e-02,  3.56071466e-03,\n",
              "        -1.32602617e-01,  3.40034395e-01, -2.59194002e-02,\n",
              "         1.29423678e-01, -1.11821599e-01, -1.12267822e-01,\n",
              "         1.03173167e-01, -1.74657807e-01,  3.85762565e-02,\n",
              "        -2.45006636e-01, -2.99907714e-01,  2.50575304e-01,\n",
              "        -2.96539158e-01,  4.77084935e-01,  2.06439286e-01,\n",
              "        -1.62503704e-01,  1.80190951e-01, -9.17238593e-01,\n",
              "         5.03255785e-01, -1.13711350e-01, -9.48558033e-01,\n",
              "        -2.93137521e-01, -9.65898037e-01,  5.34106016e-01,\n",
              "         1.15475826e-01, -8.80904049e-02,  9.13192391e-01,\n",
              "         6.06826127e-01,  1.57537803e-01,  7.97774196e-02,\n",
              "         4.32729155e-01, -9.99979913e-01, -2.08415106e-01,\n",
              "         8.68638046e-03,  2.37645119e-01,  1.09877856e-02,\n",
              "        -9.34372127e-01, -8.98838937e-01,  4.07036245e-01,\n",
              "         9.15152133e-01, -1.30110113e-02,  9.81194317e-01,\n",
              "        -1.13565169e-01,  8.55104566e-01,  1.80822045e-01,\n",
              "        -4.81309509e-03, -2.84859508e-01, -2.79501170e-01,\n",
              "         1.19626887e-01,  2.14574322e-01, -5.36996841e-01,\n",
              "         1.36196718e-01,  2.09289849e-01, -1.83881089e-01,\n",
              "         1.13874473e-01, -1.21151663e-01,  3.47136378e-01,\n",
              "        -8.84506583e-01, -3.06717068e-01,  8.86797667e-01,\n",
              "         2.39825606e-01,  4.77077901e-01,  6.17826223e-01,\n",
              "        -9.92898121e-02, -1.93388030e-01,  7.09312439e-01,\n",
              "         1.31837338e-01,  2.20941380e-01,  6.98425248e-02,\n",
              "         2.26201192e-01, -2.52427220e-01,  2.92800158e-01,\n",
              "        -6.77988052e-01,  2.59352803e-01,  2.63723463e-01,\n",
              "        -8.87747779e-02,  4.29656237e-01, -9.41664994e-01,\n",
              "        -1.54309109e-01,  3.28170061e-01,  9.61236298e-01,\n",
              "         6.09754205e-01,  7.18221664e-02, -8.97162184e-02,\n",
              "        -9.26781148e-02,  1.00710571e-01, -8.82935584e-01,\n",
              "         9.35062408e-01, -8.31905976e-02,  1.64564341e-01,\n",
              "         4.57009733e-01, -2.10077781e-02, -7.68037796e-01,\n",
              "        -5.12791157e-01,  7.03778088e-01, -6.20413572e-03,\n",
              "        -7.35840261e-01,  1.26278937e-01, -3.58198643e-01,\n",
              "        -2.66682714e-01,  2.33263031e-01,  3.47863048e-01,\n",
              "        -2.09502682e-01, -2.70532519e-01,  1.41287623e-02,\n",
              "         8.59786093e-01,  9.21734989e-01,  6.56452596e-01,\n",
              "        -5.61921895e-01,  2.95114458e-01, -8.44119191e-01,\n",
              "        -2.70317882e-01, -2.97392788e-03,  1.39767155e-01,\n",
              "         6.81434572e-02,  9.80938494e-01,  3.05201113e-01,\n",
              "        -4.87424508e-02, -8.54879081e-01, -9.61525381e-01,\n",
              "        -3.40270028e-02, -7.97254980e-01,  2.11570468e-02,\n",
              "        -4.86237258e-01,  5.25774509e-02,  6.08194947e-01,\n",
              "        -1.28800243e-01,  2.09340900e-01, -9.61517096e-01,\n",
              "        -6.68338776e-01,  1.91929206e-01, -1.13421179e-01,\n",
              "         2.41986454e-01, -9.58955064e-02,  1.37118893e-02,\n",
              "        -2.27978259e-01, -3.41757327e-01,  7.22844779e-01,\n",
              "         7.39265323e-01,  4.83173966e-01, -5.31844497e-01,\n",
              "         7.03667343e-01, -1.77819014e-01,  7.69865751e-01,\n",
              "        -4.07417238e-01,  9.22388792e-01, -1.34905934e-01,\n",
              "         3.44897360e-01, -8.54882479e-01,  4.44450080e-01,\n",
              "        -8.31748128e-01,  1.95156902e-01, -8.46904442e-02,\n",
              "        -6.69413865e-01, -2.77334243e-01,  2.35516280e-01,\n",
              "         1.75360769e-01,  7.77578473e-01, -2.96629339e-01,\n",
              "         9.83148873e-01, -1.17597423e-01, -8.90577734e-01,\n",
              "         9.37115848e-02,  8.31729844e-02, -9.55904484e-01,\n",
              "        -2.61755019e-01,  2.27863684e-01, -6.45830870e-01,\n",
              "        -1.91339001e-01, -2.10099429e-01, -8.94523859e-01,\n",
              "         7.83507228e-01,  2.74963733e-02,  9.58396256e-01,\n",
              "         1.88523084e-01, -8.03715289e-01, -1.89585581e-01,\n",
              "        -8.00720453e-01, -2.57286817e-01,  1.37634687e-02,\n",
              "         5.86316943e-01, -2.09001407e-01, -9.14763629e-01,\n",
              "         3.03723276e-01,  3.69081080e-01,  2.32708603e-01,\n",
              "         5.56209683e-01,  9.82058108e-01,  9.89278913e-01,\n",
              "         9.40122187e-01,  7.83998013e-01,  8.02498221e-01,\n",
              "        -5.28637707e-01, -8.32527652e-02,  9.99632001e-01,\n",
              "        -1.99505776e-01, -9.99128878e-01, -8.78294647e-01,\n",
              "        -4.75710154e-01,  2.25826755e-01, -9.99975026e-01,\n",
              "        -2.14803275e-02,  6.86972737e-02, -8.45661461e-01,\n",
              "        -4.38658893e-01,  9.45182204e-01,  9.60342526e-01,\n",
              "        -9.99910116e-01,  7.55790353e-01,  8.85257959e-01,\n",
              "        -3.12887222e-01,  1.38682202e-01,  1.75151881e-02,\n",
              "         9.34909821e-01,  2.43718684e-01,  2.23771393e-01,\n",
              "        -3.99753228e-02,  2.10190937e-01,  1.72873735e-01,\n",
              "        -7.21186578e-01,  4.63626236e-01,  4.68464673e-01,\n",
              "         1.25068739e-01,  5.68857975e-02, -4.81618255e-01,\n",
              "        -8.60779047e-01, -3.43238175e-01, -1.23260289e-01,\n",
              "        -3.48160654e-01, -9.05414462e-01,  5.31391893e-03,\n",
              "        -3.42670977e-01,  4.90179300e-01, -1.57642644e-03,\n",
              "         3.17711383e-02, -6.63433373e-01,  1.05888024e-01,\n",
              "        -6.62541986e-01,  2.28223622e-01,  3.85624409e-01,\n",
              "        -8.69750261e-01, -4.68842626e-01, -2.23282814e-01,\n",
              "        -4.38635319e-01,  3.88608575e-01, -8.90622854e-01,\n",
              "         9.35678184e-01, -2.40472034e-01, -2.77928859e-01,\n",
              "         9.99944389e-01, -3.41955394e-01, -7.70353019e-01,\n",
              "         1.66718647e-01,  4.14998494e-02, -2.62185019e-02,\n",
              "         9.99846578e-01,  2.15615854e-01, -9.42698181e-01,\n",
              "        -2.52623230e-01, -2.80181374e-02, -2.65500307e-01,\n",
              "        -1.16498604e-01,  9.89864767e-01, -8.19348767e-02,\n",
              "         3.91906053e-01,  5.48289597e-01,  9.11557257e-01,\n",
              "        -9.61254060e-01,  3.02903354e-05, -8.23026419e-01,\n",
              "        -9.19989347e-01,  9.27457809e-01,  8.74515414e-01,\n",
              "        -4.94717285e-02, -4.69823807e-01,  1.34552438e-02,\n",
              "         2.38749832e-01,  1.42865211e-01, -9.27564979e-01,\n",
              "         4.91486907e-01,  2.99332291e-01, -6.40325248e-02,\n",
              "         8.21103990e-01, -7.97088742e-01, -2.53255785e-01,\n",
              "         3.05012912e-01, -2.64868420e-02,  2.65379608e-01,\n",
              "        -4.14405972e-01,  2.84018040e-01, -1.18955709e-01,\n",
              "         1.21780047e-02, -1.71672106e-01,  1.94640100e-01,\n",
              "        -9.45607603e-01, -1.50069311e-01,  9.99844611e-01,\n",
              "         6.51656538e-02, -6.16243005e-01, -5.92498593e-02,\n",
              "         3.24359685e-02, -3.48848343e-01,  1.81669563e-01,\n",
              "         2.70156801e-01, -2.10832208e-01, -7.18057215e-01,\n",
              "        -2.25577846e-01, -8.56356978e-01, -9.49268699e-01,\n",
              "         6.76109016e-01,  1.72875494e-01, -1.26074433e-01,\n",
              "         9.86276865e-01,  1.26073539e-01,  4.60284241e-02,\n",
              "        -1.43629119e-01,  3.76103558e-02, -6.84117228e-02,\n",
              "         5.02648354e-01, -5.34930646e-01,  9.17494893e-01,\n",
              "        -1.35026559e-01,  2.35816747e-01,  7.51147687e-01,\n",
              "         3.76339108e-01, -1.58582136e-01, -4.92263317e-01,\n",
              "         1.53147187e-02, -8.08701754e-01,  1.01418160e-01,\n",
              "        -8.99161756e-01,  9.11437929e-01, -4.36452687e-01,\n",
              "         1.36482537e-01,  5.09163737e-02, -3.07010055e-01,\n",
              "         9.99910951e-01,  2.93395907e-01,  4.42912072e-01,\n",
              "        -4.99043643e-01,  7.62613416e-01, -5.50272286e-01,\n",
              "        -5.51401377e-01, -2.46138453e-01,  7.60558173e-02,\n",
              "         4.83317763e-01, -7.58831352e-02,  1.39115393e-01,\n",
              "        -9.27418590e-01, -4.05550271e-01, -3.16642344e-01,\n",
              "        -9.41766322e-01, -9.68864083e-01,  5.03707767e-01,\n",
              "         6.01130068e-01, -5.93521595e-02,  3.33281085e-02,\n",
              "        -4.46002871e-01, -4.34535086e-01,  5.53478114e-02,\n",
              "        -8.87925476e-02, -8.90050232e-01,  5.91310918e-01,\n",
              "        -1.26893610e-01,  3.34148169e-01, -1.55161202e-01,\n",
              "         2.75232494e-01, -5.15158057e-01,  8.19547474e-01,\n",
              "         5.54468811e-01,  2.37472475e-01, -3.38204652e-02,\n",
              "        -6.75975502e-01,  6.18630886e-01, -6.54811680e-01,\n",
              "         3.73395264e-01, -4.35037278e-02,  9.99968171e-01,\n",
              "        -1.67473510e-01, -3.14291924e-01,  5.54332852e-01,\n",
              "         5.71873546e-01,  1.18409260e-03,  4.95408215e-02,\n",
              "        -3.83177280e-01,  4.56103273e-02,  4.88402486e-01,\n",
              "         5.14207125e-01, -6.94008410e-01, -1.24175653e-01,\n",
              "         2.67397583e-01, -5.77638507e-01, -5.12040019e-01,\n",
              "         6.44984126e-01, -6.27670065e-02,  2.15177070e-02,\n",
              "         6.35890141e-02, -2.93106344e-02,  9.94260728e-01,\n",
              "        -1.20256534e-02, -6.26767799e-02, -3.35089594e-01,\n",
              "         1.42385796e-01, -1.78101912e-01, -4.46418226e-01,\n",
              "         9.99518931e-01,  2.46961042e-01, -2.94683665e-01,\n",
              "        -9.67229068e-01,  4.06585813e-01, -8.22206736e-01,\n",
              "         9.73353088e-01,  6.95527196e-01, -7.62623489e-01,\n",
              "         2.97502995e-01,  2.49431282e-01, -4.98326235e-02,\n",
              "         5.94067693e-01, -6.90308660e-02, -1.77186891e-01,\n",
              "         3.53026651e-02,  5.81332706e-02,  9.07829762e-01,\n",
              "        -2.93327332e-01, -9.11568642e-01, -4.30490643e-01,\n",
              "         1.63951755e-01, -9.04157460e-01,  5.30568779e-01,\n",
              "        -3.21962446e-01,  6.62974268e-03, -1.66918531e-01,\n",
              "         3.73078167e-01,  7.14192331e-01, -7.90546089e-02,\n",
              "        -9.49292302e-01, -9.79645364e-03, -5.87976985e-02,\n",
              "         9.10730958e-01,  3.83146480e-02, -2.36383781e-01,\n",
              "        -8.20473015e-01, -3.89099926e-01, -1.74251184e-01,\n",
              "         4.46885258e-01, -8.98651421e-01,  9.24079597e-01,\n",
              "        -9.57416892e-01,  2.11923212e-01,  9.99312937e-01,\n",
              "         1.95458025e-01, -6.57400191e-01,  7.59341866e-02,\n",
              "        -2.17354953e-01,  1.30798832e-01,  2.64493912e-01,\n",
              "         4.18090999e-01, -9.13053691e-01, -1.75681144e-01,\n",
              "        -2.15979405e-02,  1.66695878e-01, -5.74147068e-02,\n",
              "         4.24125552e-01,  4.95436698e-01,  8.27123374e-02,\n",
              "        -1.83425233e-01, -4.16369468e-01,  2.38397140e-02,\n",
              "         2.59284943e-01,  5.17905116e-01, -2.26058066e-01,\n",
              "        -2.01518331e-02,  2.29715891e-02, -8.09181556e-02,\n",
              "        -8.38755667e-01, -6.22150116e-02, -1.07157789e-01,\n",
              "        -8.78179789e-01,  5.76268613e-01, -9.99950290e-01,\n",
              "        -4.23849106e-01, -5.96362233e-01, -1.16449662e-01,\n",
              "         7.15603173e-01,  5.68004837e-03, -2.05522180e-01,\n",
              "        -5.54940581e-01,  4.11236942e-01,  7.82236040e-01,\n",
              "         6.15934372e-01, -1.64104048e-02,  2.16385260e-01,\n",
              "        -5.20750344e-01,  5.06236926e-02,  3.43424603e-02,\n",
              "         1.57024264e-01,  2.56050289e-01,  6.04854226e-01,\n",
              "        -6.48415387e-02,  9.99974191e-01, -1.98382735e-02,\n",
              "        -1.26200929e-01, -9.33380187e-01,  1.52939886e-01,\n",
              "        -6.06814846e-02,  9.94934022e-01, -7.96938539e-01,\n",
              "        -8.86098802e-01,  1.24401145e-01, -2.90080726e-01,\n",
              "        -6.70863032e-01,  1.10585563e-01, -9.28633213e-02,\n",
              "        -4.99459624e-01,  1.95519164e-01,  9.09083366e-01,\n",
              "         7.66303003e-01, -3.08665842e-01,  1.00631982e-01,\n",
              "        -1.66611090e-01, -2.75781631e-01, -3.66752706e-02,\n",
              "        -4.55538720e-01,  9.67796028e-01,  3.42627257e-01,\n",
              "         7.57475615e-01,  5.23168623e-01,  2.32721075e-01,\n",
              "         9.06093717e-01,  3.32980826e-02,  4.15342748e-01,\n",
              "         4.69196634e-03,  9.99503553e-01,  1.18651442e-01,\n",
              "        -8.49400282e-01,  4.20897096e-01, -9.61208522e-01,\n",
              "        -6.96967617e-02, -8.99236321e-01,  1.49085388e-01,\n",
              "        -5.51155470e-02,  7.64419079e-01, -1.65530816e-01,\n",
              "         8.86499822e-01,  5.38429737e-01,  9.80030093e-03,\n",
              "         1.34429276e-01,  6.08944356e-01,  2.22243622e-01,\n",
              "        -8.55021298e-01, -9.61262941e-01, -9.66819584e-01,\n",
              "         1.35673925e-01, -3.28003466e-01,  1.75778866e-02,\n",
              "         1.89986497e-01,  1.25444457e-01,  2.31083155e-01,\n",
              "         2.49679402e-01, -9.99151170e-01,  8.65468562e-01,\n",
              "         2.57481903e-01, -4.54986334e-01,  9.12244976e-01,\n",
              "         1.55036509e-01,  4.64428999e-02,  1.83011308e-01,\n",
              "        -9.61706996e-01, -9.24584866e-01, -2.08539546e-01,\n",
              "        -1.70182049e-01,  6.14784837e-01,  3.41512680e-01,\n",
              "         7.47181118e-01,  2.02495828e-01, -3.91560018e-01,\n",
              "        -4.79165837e-02,  4.23092544e-01, -2.50145257e-01,\n",
              "        -9.78324652e-01,  2.69863784e-01,  3.57037425e-01,\n",
              "        -9.01376843e-01,  8.99236262e-01, -4.57536280e-01,\n",
              "        -6.95425645e-02,  6.40110195e-01,  1.68247536e-01,\n",
              "         8.81823421e-01,  6.52403235e-01,  3.48077834e-01,\n",
              "         6.26784414e-02,  3.32206428e-01,  8.06356192e-01,\n",
              "         8.81764770e-01,  9.61602747e-01,  3.10616165e-01,\n",
              "         5.93588531e-01,  4.01653379e-01,  2.46652111e-01,\n",
              "         2.47158244e-01, -8.80048931e-01, -1.18942419e-03,\n",
              "        -2.03212842e-01,  1.47778437e-01,  7.61958435e-02,\n",
              "        -5.21922745e-02, -9.21388686e-01,  1.01366445e-01,\n",
              "         1.63663011e-02,  3.12988788e-01, -2.00224355e-01,\n",
              "         1.97574273e-01, -3.02012295e-01, -1.04971759e-01,\n",
              "        -5.36961019e-01, -3.52112979e-01,  4.07730579e-01,\n",
              "         1.05686188e-01,  8.46849918e-01,  5.20722521e-03,\n",
              "        -2.36677239e-03, -3.62969071e-01, -4.79579903e-02,\n",
              "         4.34873343e-01, -8.69833767e-01,  8.57041001e-01,\n",
              "         6.59032986e-02,  5.12683034e-01, -4.99645323e-01,\n",
              "        -1.09138153e-01,  5.12152493e-01, -4.14683729e-01,\n",
              "        -2.17782229e-01, -1.54307619e-01, -5.46726227e-01,\n",
              "         7.20170677e-01,  4.06466238e-02, -2.99664676e-01,\n",
              "        -2.56077945e-01,  5.35955548e-01,  1.40493020e-01,\n",
              "         7.55867481e-01,  3.90021533e-01,  1.98473543e-01,\n",
              "         5.43790385e-02, -1.47024885e-01,  1.42857090e-01,\n",
              "        -5.26258051e-02, -9.99215066e-01,  2.39698991e-01,\n",
              "         1.77003965e-01, -3.68247181e-01,  1.68134943e-01,\n",
              "        -3.96602035e-01,  1.04682483e-01, -9.41351414e-01,\n",
              "         8.64107162e-03, -2.62564898e-01, -3.15287143e-01,\n",
              "        -4.20447320e-01, -2.46491998e-01,  2.62420803e-01,\n",
              "         3.56326342e-01,  7.85434525e-03,  7.98451185e-01,\n",
              "         2.42418170e-01,  6.08030498e-01,  3.27132404e-01,\n",
              "         2.44652182e-01, -4.73344684e-01,  8.17586899e-01]], dtype=float32)>"
            ]
          },
          "metadata": {},
          "execution_count": 53
        }
      ]
    },
    {
      "cell_type": "code",
      "source": [
        "text_preprocessed = bert_preprocess_model(text_test2)\n",
        "text_preprocessed.keys()"
      ],
      "metadata": {
        "colab": {
          "base_uri": "https://localhost:8080/"
        },
        "id": "M9_PnEh0GIqq",
        "outputId": "36442a7c-190f-498d-ee1c-7941c246691b"
      },
      "execution_count": 55,
      "outputs": [
        {
          "output_type": "execute_result",
          "data": {
            "text/plain": [
              "dict_keys(['input_word_ids', 'input_mask', 'input_type_ids'])"
            ]
          },
          "metadata": {},
          "execution_count": 55
        }
      ]
    },
    {
      "cell_type": "code",
      "source": [
        "bert_model = hub.KerasLayer(encoder_url)"
      ],
      "metadata": {
        "id": "PwkAwFkVGItf"
      },
      "execution_count": 56,
      "outputs": []
    },
    {
      "cell_type": "code",
      "source": [
        "bert_results = bert_model(text_preprocessed)"
      ],
      "metadata": {
        "id": "CDFbrs7WGIwK"
      },
      "execution_count": 40,
      "outputs": []
    },
    {
      "cell_type": "code",
      "source": [
        "bert_results.keys()"
      ],
      "metadata": {
        "colab": {
          "base_uri": "https://localhost:8080/"
        },
        "id": "zK706lIcNUiw",
        "outputId": "bba42391-0018-4dfb-fb13-09f5eb1045ee"
      },
      "execution_count": 60,
      "outputs": [
        {
          "output_type": "execute_result",
          "data": {
            "text/plain": [
              "dict_keys(['encoder_outputs', 'sequence_output', 'default', 'pooled_output'])"
            ]
          },
          "metadata": {},
          "execution_count": 60
        }
      ]
    },
    {
      "cell_type": "code",
      "source": [
        "output2=bert_results['pooled_output']"
      ],
      "metadata": {
        "id": "nHfMALjrNUkf"
      },
      "execution_count": 61,
      "outputs": []
    },
    {
      "cell_type": "code",
      "source": [
        "output2"
      ],
      "metadata": {
        "colab": {
          "base_uri": "https://localhost:8080/"
        },
        "id": "eMhymIqbNUn1",
        "outputId": "59305eaa-a07e-49bb-abbd-aa04c2025c5f"
      },
      "execution_count": 62,
      "outputs": [
        {
          "output_type": "execute_result",
          "data": {
            "text/plain": [
              "<tf.Tensor: shape=(1, 768), dtype=float32, numpy=\n",
              "array([[-7.91773856e-01, -2.14119077e-01,  4.97695595e-01,\n",
              "         4.73431855e-01, -1.80652604e-01, -8.33085328e-02,\n",
              "         8.14969480e-01,  1.44600794e-01,  2.04916850e-01,\n",
              "        -9.99239922e-01,  1.36825800e-01,  8.29992257e-03,\n",
              "         9.51741636e-01, -3.63365024e-01,  8.72413754e-01,\n",
              "        -4.07976508e-01, -3.00642606e-02, -4.13878888e-01,\n",
              "         2.43135676e-01, -6.50724053e-01,  4.46718216e-01,\n",
              "         7.56984234e-01,  5.95490754e-01,  1.58233672e-01,\n",
              "         2.40729600e-01,  1.85460433e-01, -5.00944316e-01,\n",
              "         8.72952342e-01,  9.05975044e-01,  5.36843657e-01,\n",
              "        -5.62124133e-01,  9.55324247e-02, -9.55684185e-01,\n",
              "        -8.73648971e-02,  5.06408036e-01, -9.52129483e-01,\n",
              "         6.01504557e-02, -6.85674369e-01,  6.50393963e-02,\n",
              "         2.19804868e-02, -8.37849021e-01,  1.31664723e-01,\n",
              "         9.86527085e-01, -3.81034732e-01, -1.99163467e-01,\n",
              "        -2.51670986e-01, -9.98163998e-01,  1.07079983e-01,\n",
              "        -7.86918521e-01, -3.92053932e-01, -2.68120587e-01,\n",
              "        -5.12088954e-01,  6.53307363e-02,  2.76707053e-01,\n",
              "         2.41417721e-01,  4.82246876e-01, -1.84257239e-01,\n",
              "         4.68178727e-02, -9.91877262e-03, -4.41179603e-01,\n",
              "        -5.07516086e-01,  1.02841288e-01,  1.62792489e-01,\n",
              "        -8.47222328e-01, -3.39589715e-01, -5.59102237e-01,\n",
              "        -2.83391289e-02, -1.42712012e-01,  1.49695724e-02,\n",
              "        -2.84497254e-02,  7.38820195e-01,  1.03922173e-01,\n",
              "         3.35900754e-01, -7.16029108e-01, -4.88623232e-01,\n",
              "         8.83271173e-02, -3.07956725e-01,  9.99954462e-01,\n",
              "        -2.31576174e-01, -9.41488445e-01, -3.41893017e-01,\n",
              "        -3.37110400e-01,  2.20049977e-01,  5.78710437e-01,\n",
              "        -5.52775025e-01, -9.99730170e-01,  2.54279017e-01,\n",
              "         1.05413739e-02, -9.72616136e-01,  1.20836951e-01,\n",
              "         2.95918971e-01, -1.20467767e-01, -5.45695722e-01,\n",
              "         2.10033596e-01, -9.94436294e-02,  3.56071466e-03,\n",
              "        -1.32602617e-01,  3.40034395e-01, -2.59194002e-02,\n",
              "         1.29423678e-01, -1.11821599e-01, -1.12267822e-01,\n",
              "         1.03173167e-01, -1.74657807e-01,  3.85762565e-02,\n",
              "        -2.45006636e-01, -2.99907714e-01,  2.50575304e-01,\n",
              "        -2.96539158e-01,  4.77084935e-01,  2.06439286e-01,\n",
              "        -1.62503704e-01,  1.80190951e-01, -9.17238593e-01,\n",
              "         5.03255785e-01, -1.13711350e-01, -9.48558033e-01,\n",
              "        -2.93137521e-01, -9.65898037e-01,  5.34106016e-01,\n",
              "         1.15475826e-01, -8.80904049e-02,  9.13192391e-01,\n",
              "         6.06826127e-01,  1.57537803e-01,  7.97774196e-02,\n",
              "         4.32729155e-01, -9.99979913e-01, -2.08415106e-01,\n",
              "         8.68638046e-03,  2.37645119e-01,  1.09877856e-02,\n",
              "        -9.34372127e-01, -8.98838937e-01,  4.07036245e-01,\n",
              "         9.15152133e-01, -1.30110113e-02,  9.81194317e-01,\n",
              "        -1.13565169e-01,  8.55104566e-01,  1.80822045e-01,\n",
              "        -4.81309509e-03, -2.84859508e-01, -2.79501170e-01,\n",
              "         1.19626887e-01,  2.14574322e-01, -5.36996841e-01,\n",
              "         1.36196718e-01,  2.09289849e-01, -1.83881089e-01,\n",
              "         1.13874473e-01, -1.21151663e-01,  3.47136378e-01,\n",
              "        -8.84506583e-01, -3.06717068e-01,  8.86797667e-01,\n",
              "         2.39825606e-01,  4.77077901e-01,  6.17826223e-01,\n",
              "        -9.92898121e-02, -1.93388030e-01,  7.09312439e-01,\n",
              "         1.31837338e-01,  2.20941380e-01,  6.98425248e-02,\n",
              "         2.26201192e-01, -2.52427220e-01,  2.92800158e-01,\n",
              "        -6.77988052e-01,  2.59352803e-01,  2.63723463e-01,\n",
              "        -8.87747779e-02,  4.29656237e-01, -9.41664994e-01,\n",
              "        -1.54309109e-01,  3.28170061e-01,  9.61236298e-01,\n",
              "         6.09754205e-01,  7.18221664e-02, -8.97162184e-02,\n",
              "        -9.26781148e-02,  1.00710571e-01, -8.82935584e-01,\n",
              "         9.35062408e-01, -8.31905976e-02,  1.64564341e-01,\n",
              "         4.57009733e-01, -2.10077781e-02, -7.68037796e-01,\n",
              "        -5.12791157e-01,  7.03778088e-01, -6.20413572e-03,\n",
              "        -7.35840261e-01,  1.26278937e-01, -3.58198643e-01,\n",
              "        -2.66682714e-01,  2.33263031e-01,  3.47863048e-01,\n",
              "        -2.09502682e-01, -2.70532519e-01,  1.41287623e-02,\n",
              "         8.59786093e-01,  9.21734989e-01,  6.56452596e-01,\n",
              "        -5.61921895e-01,  2.95114458e-01, -8.44119191e-01,\n",
              "        -2.70317882e-01, -2.97392788e-03,  1.39767155e-01,\n",
              "         6.81434572e-02,  9.80938494e-01,  3.05201113e-01,\n",
              "        -4.87424508e-02, -8.54879081e-01, -9.61525381e-01,\n",
              "        -3.40270028e-02, -7.97254980e-01,  2.11570468e-02,\n",
              "        -4.86237258e-01,  5.25774509e-02,  6.08194947e-01,\n",
              "        -1.28800243e-01,  2.09340900e-01, -9.61517096e-01,\n",
              "        -6.68338776e-01,  1.91929206e-01, -1.13421179e-01,\n",
              "         2.41986454e-01, -9.58955064e-02,  1.37118893e-02,\n",
              "        -2.27978259e-01, -3.41757327e-01,  7.22844779e-01,\n",
              "         7.39265323e-01,  4.83173966e-01, -5.31844497e-01,\n",
              "         7.03667343e-01, -1.77819014e-01,  7.69865751e-01,\n",
              "        -4.07417238e-01,  9.22388792e-01, -1.34905934e-01,\n",
              "         3.44897360e-01, -8.54882479e-01,  4.44450080e-01,\n",
              "        -8.31748128e-01,  1.95156902e-01, -8.46904442e-02,\n",
              "        -6.69413865e-01, -2.77334243e-01,  2.35516280e-01,\n",
              "         1.75360769e-01,  7.77578473e-01, -2.96629339e-01,\n",
              "         9.83148873e-01, -1.17597423e-01, -8.90577734e-01,\n",
              "         9.37115848e-02,  8.31729844e-02, -9.55904484e-01,\n",
              "        -2.61755019e-01,  2.27863684e-01, -6.45830870e-01,\n",
              "        -1.91339001e-01, -2.10099429e-01, -8.94523859e-01,\n",
              "         7.83507228e-01,  2.74963733e-02,  9.58396256e-01,\n",
              "         1.88523084e-01, -8.03715289e-01, -1.89585581e-01,\n",
              "        -8.00720453e-01, -2.57286817e-01,  1.37634687e-02,\n",
              "         5.86316943e-01, -2.09001407e-01, -9.14763629e-01,\n",
              "         3.03723276e-01,  3.69081080e-01,  2.32708603e-01,\n",
              "         5.56209683e-01,  9.82058108e-01,  9.89278913e-01,\n",
              "         9.40122187e-01,  7.83998013e-01,  8.02498221e-01,\n",
              "        -5.28637707e-01, -8.32527652e-02,  9.99632001e-01,\n",
              "        -1.99505776e-01, -9.99128878e-01, -8.78294647e-01,\n",
              "        -4.75710154e-01,  2.25826755e-01, -9.99975026e-01,\n",
              "        -2.14803275e-02,  6.86972737e-02, -8.45661461e-01,\n",
              "        -4.38658893e-01,  9.45182204e-01,  9.60342526e-01,\n",
              "        -9.99910116e-01,  7.55790353e-01,  8.85257959e-01,\n",
              "        -3.12887222e-01,  1.38682202e-01,  1.75151881e-02,\n",
              "         9.34909821e-01,  2.43718684e-01,  2.23771393e-01,\n",
              "        -3.99753228e-02,  2.10190937e-01,  1.72873735e-01,\n",
              "        -7.21186578e-01,  4.63626236e-01,  4.68464673e-01,\n",
              "         1.25068739e-01,  5.68857975e-02, -4.81618255e-01,\n",
              "        -8.60779047e-01, -3.43238175e-01, -1.23260289e-01,\n",
              "        -3.48160654e-01, -9.05414462e-01,  5.31391893e-03,\n",
              "        -3.42670977e-01,  4.90179300e-01, -1.57642644e-03,\n",
              "         3.17711383e-02, -6.63433373e-01,  1.05888024e-01,\n",
              "        -6.62541986e-01,  2.28223622e-01,  3.85624409e-01,\n",
              "        -8.69750261e-01, -4.68842626e-01, -2.23282814e-01,\n",
              "        -4.38635319e-01,  3.88608575e-01, -8.90622854e-01,\n",
              "         9.35678184e-01, -2.40472034e-01, -2.77928859e-01,\n",
              "         9.99944389e-01, -3.41955394e-01, -7.70353019e-01,\n",
              "         1.66718647e-01,  4.14998494e-02, -2.62185019e-02,\n",
              "         9.99846578e-01,  2.15615854e-01, -9.42698181e-01,\n",
              "        -2.52623230e-01, -2.80181374e-02, -2.65500307e-01,\n",
              "        -1.16498604e-01,  9.89864767e-01, -8.19348767e-02,\n",
              "         3.91906053e-01,  5.48289597e-01,  9.11557257e-01,\n",
              "        -9.61254060e-01,  3.02903354e-05, -8.23026419e-01,\n",
              "        -9.19989347e-01,  9.27457809e-01,  8.74515414e-01,\n",
              "        -4.94717285e-02, -4.69823807e-01,  1.34552438e-02,\n",
              "         2.38749832e-01,  1.42865211e-01, -9.27564979e-01,\n",
              "         4.91486907e-01,  2.99332291e-01, -6.40325248e-02,\n",
              "         8.21103990e-01, -7.97088742e-01, -2.53255785e-01,\n",
              "         3.05012912e-01, -2.64868420e-02,  2.65379608e-01,\n",
              "        -4.14405972e-01,  2.84018040e-01, -1.18955709e-01,\n",
              "         1.21780047e-02, -1.71672106e-01,  1.94640100e-01,\n",
              "        -9.45607603e-01, -1.50069311e-01,  9.99844611e-01,\n",
              "         6.51656538e-02, -6.16243005e-01, -5.92498593e-02,\n",
              "         3.24359685e-02, -3.48848343e-01,  1.81669563e-01,\n",
              "         2.70156801e-01, -2.10832208e-01, -7.18057215e-01,\n",
              "        -2.25577846e-01, -8.56356978e-01, -9.49268699e-01,\n",
              "         6.76109016e-01,  1.72875494e-01, -1.26074433e-01,\n",
              "         9.86276865e-01,  1.26073539e-01,  4.60284241e-02,\n",
              "        -1.43629119e-01,  3.76103558e-02, -6.84117228e-02,\n",
              "         5.02648354e-01, -5.34930646e-01,  9.17494893e-01,\n",
              "        -1.35026559e-01,  2.35816747e-01,  7.51147687e-01,\n",
              "         3.76339108e-01, -1.58582136e-01, -4.92263317e-01,\n",
              "         1.53147187e-02, -8.08701754e-01,  1.01418160e-01,\n",
              "        -8.99161756e-01,  9.11437929e-01, -4.36452687e-01,\n",
              "         1.36482537e-01,  5.09163737e-02, -3.07010055e-01,\n",
              "         9.99910951e-01,  2.93395907e-01,  4.42912072e-01,\n",
              "        -4.99043643e-01,  7.62613416e-01, -5.50272286e-01,\n",
              "        -5.51401377e-01, -2.46138453e-01,  7.60558173e-02,\n",
              "         4.83317763e-01, -7.58831352e-02,  1.39115393e-01,\n",
              "        -9.27418590e-01, -4.05550271e-01, -3.16642344e-01,\n",
              "        -9.41766322e-01, -9.68864083e-01,  5.03707767e-01,\n",
              "         6.01130068e-01, -5.93521595e-02,  3.33281085e-02,\n",
              "        -4.46002871e-01, -4.34535086e-01,  5.53478114e-02,\n",
              "        -8.87925476e-02, -8.90050232e-01,  5.91310918e-01,\n",
              "        -1.26893610e-01,  3.34148169e-01, -1.55161202e-01,\n",
              "         2.75232494e-01, -5.15158057e-01,  8.19547474e-01,\n",
              "         5.54468811e-01,  2.37472475e-01, -3.38204652e-02,\n",
              "        -6.75975502e-01,  6.18630886e-01, -6.54811680e-01,\n",
              "         3.73395264e-01, -4.35037278e-02,  9.99968171e-01,\n",
              "        -1.67473510e-01, -3.14291924e-01,  5.54332852e-01,\n",
              "         5.71873546e-01,  1.18409260e-03,  4.95408215e-02,\n",
              "        -3.83177280e-01,  4.56103273e-02,  4.88402486e-01,\n",
              "         5.14207125e-01, -6.94008410e-01, -1.24175653e-01,\n",
              "         2.67397583e-01, -5.77638507e-01, -5.12040019e-01,\n",
              "         6.44984126e-01, -6.27670065e-02,  2.15177070e-02,\n",
              "         6.35890141e-02, -2.93106344e-02,  9.94260728e-01,\n",
              "        -1.20256534e-02, -6.26767799e-02, -3.35089594e-01,\n",
              "         1.42385796e-01, -1.78101912e-01, -4.46418226e-01,\n",
              "         9.99518931e-01,  2.46961042e-01, -2.94683665e-01,\n",
              "        -9.67229068e-01,  4.06585813e-01, -8.22206736e-01,\n",
              "         9.73353088e-01,  6.95527196e-01, -7.62623489e-01,\n",
              "         2.97502995e-01,  2.49431282e-01, -4.98326235e-02,\n",
              "         5.94067693e-01, -6.90308660e-02, -1.77186891e-01,\n",
              "         3.53026651e-02,  5.81332706e-02,  9.07829762e-01,\n",
              "        -2.93327332e-01, -9.11568642e-01, -4.30490643e-01,\n",
              "         1.63951755e-01, -9.04157460e-01,  5.30568779e-01,\n",
              "        -3.21962446e-01,  6.62974268e-03, -1.66918531e-01,\n",
              "         3.73078167e-01,  7.14192331e-01, -7.90546089e-02,\n",
              "        -9.49292302e-01, -9.79645364e-03, -5.87976985e-02,\n",
              "         9.10730958e-01,  3.83146480e-02, -2.36383781e-01,\n",
              "        -8.20473015e-01, -3.89099926e-01, -1.74251184e-01,\n",
              "         4.46885258e-01, -8.98651421e-01,  9.24079597e-01,\n",
              "        -9.57416892e-01,  2.11923212e-01,  9.99312937e-01,\n",
              "         1.95458025e-01, -6.57400191e-01,  7.59341866e-02,\n",
              "        -2.17354953e-01,  1.30798832e-01,  2.64493912e-01,\n",
              "         4.18090999e-01, -9.13053691e-01, -1.75681144e-01,\n",
              "        -2.15979405e-02,  1.66695878e-01, -5.74147068e-02,\n",
              "         4.24125552e-01,  4.95436698e-01,  8.27123374e-02,\n",
              "        -1.83425233e-01, -4.16369468e-01,  2.38397140e-02,\n",
              "         2.59284943e-01,  5.17905116e-01, -2.26058066e-01,\n",
              "        -2.01518331e-02,  2.29715891e-02, -8.09181556e-02,\n",
              "        -8.38755667e-01, -6.22150116e-02, -1.07157789e-01,\n",
              "        -8.78179789e-01,  5.76268613e-01, -9.99950290e-01,\n",
              "        -4.23849106e-01, -5.96362233e-01, -1.16449662e-01,\n",
              "         7.15603173e-01,  5.68004837e-03, -2.05522180e-01,\n",
              "        -5.54940581e-01,  4.11236942e-01,  7.82236040e-01,\n",
              "         6.15934372e-01, -1.64104048e-02,  2.16385260e-01,\n",
              "        -5.20750344e-01,  5.06236926e-02,  3.43424603e-02,\n",
              "         1.57024264e-01,  2.56050289e-01,  6.04854226e-01,\n",
              "        -6.48415387e-02,  9.99974191e-01, -1.98382735e-02,\n",
              "        -1.26200929e-01, -9.33380187e-01,  1.52939886e-01,\n",
              "        -6.06814846e-02,  9.94934022e-01, -7.96938539e-01,\n",
              "        -8.86098802e-01,  1.24401145e-01, -2.90080726e-01,\n",
              "        -6.70863032e-01,  1.10585563e-01, -9.28633213e-02,\n",
              "        -4.99459624e-01,  1.95519164e-01,  9.09083366e-01,\n",
              "         7.66303003e-01, -3.08665842e-01,  1.00631982e-01,\n",
              "        -1.66611090e-01, -2.75781631e-01, -3.66752706e-02,\n",
              "        -4.55538720e-01,  9.67796028e-01,  3.42627257e-01,\n",
              "         7.57475615e-01,  5.23168623e-01,  2.32721075e-01,\n",
              "         9.06093717e-01,  3.32980826e-02,  4.15342748e-01,\n",
              "         4.69196634e-03,  9.99503553e-01,  1.18651442e-01,\n",
              "        -8.49400282e-01,  4.20897096e-01, -9.61208522e-01,\n",
              "        -6.96967617e-02, -8.99236321e-01,  1.49085388e-01,\n",
              "        -5.51155470e-02,  7.64419079e-01, -1.65530816e-01,\n",
              "         8.86499822e-01,  5.38429737e-01,  9.80030093e-03,\n",
              "         1.34429276e-01,  6.08944356e-01,  2.22243622e-01,\n",
              "        -8.55021298e-01, -9.61262941e-01, -9.66819584e-01,\n",
              "         1.35673925e-01, -3.28003466e-01,  1.75778866e-02,\n",
              "         1.89986497e-01,  1.25444457e-01,  2.31083155e-01,\n",
              "         2.49679402e-01, -9.99151170e-01,  8.65468562e-01,\n",
              "         2.57481903e-01, -4.54986334e-01,  9.12244976e-01,\n",
              "         1.55036509e-01,  4.64428999e-02,  1.83011308e-01,\n",
              "        -9.61706996e-01, -9.24584866e-01, -2.08539546e-01,\n",
              "        -1.70182049e-01,  6.14784837e-01,  3.41512680e-01,\n",
              "         7.47181118e-01,  2.02495828e-01, -3.91560018e-01,\n",
              "        -4.79165837e-02,  4.23092544e-01, -2.50145257e-01,\n",
              "        -9.78324652e-01,  2.69863784e-01,  3.57037425e-01,\n",
              "        -9.01376843e-01,  8.99236262e-01, -4.57536280e-01,\n",
              "        -6.95425645e-02,  6.40110195e-01,  1.68247536e-01,\n",
              "         8.81823421e-01,  6.52403235e-01,  3.48077834e-01,\n",
              "         6.26784414e-02,  3.32206428e-01,  8.06356192e-01,\n",
              "         8.81764770e-01,  9.61602747e-01,  3.10616165e-01,\n",
              "         5.93588531e-01,  4.01653379e-01,  2.46652111e-01,\n",
              "         2.47158244e-01, -8.80048931e-01, -1.18942419e-03,\n",
              "        -2.03212842e-01,  1.47778437e-01,  7.61958435e-02,\n",
              "        -5.21922745e-02, -9.21388686e-01,  1.01366445e-01,\n",
              "         1.63663011e-02,  3.12988788e-01, -2.00224355e-01,\n",
              "         1.97574273e-01, -3.02012295e-01, -1.04971759e-01,\n",
              "        -5.36961019e-01, -3.52112979e-01,  4.07730579e-01,\n",
              "         1.05686188e-01,  8.46849918e-01,  5.20722521e-03,\n",
              "        -2.36677239e-03, -3.62969071e-01, -4.79579903e-02,\n",
              "         4.34873343e-01, -8.69833767e-01,  8.57041001e-01,\n",
              "         6.59032986e-02,  5.12683034e-01, -4.99645323e-01,\n",
              "        -1.09138153e-01,  5.12152493e-01, -4.14683729e-01,\n",
              "        -2.17782229e-01, -1.54307619e-01, -5.46726227e-01,\n",
              "         7.20170677e-01,  4.06466238e-02, -2.99664676e-01,\n",
              "        -2.56077945e-01,  5.35955548e-01,  1.40493020e-01,\n",
              "         7.55867481e-01,  3.90021533e-01,  1.98473543e-01,\n",
              "         5.43790385e-02, -1.47024885e-01,  1.42857090e-01,\n",
              "        -5.26258051e-02, -9.99215066e-01,  2.39698991e-01,\n",
              "         1.77003965e-01, -3.68247181e-01,  1.68134943e-01,\n",
              "        -3.96602035e-01,  1.04682483e-01, -9.41351414e-01,\n",
              "         8.64107162e-03, -2.62564898e-01, -3.15287143e-01,\n",
              "        -4.20447320e-01, -2.46491998e-01,  2.62420803e-01,\n",
              "         3.56326342e-01,  7.85434525e-03,  7.98451185e-01,\n",
              "         2.42418170e-01,  6.08030498e-01,  3.27132404e-01,\n",
              "         2.44652182e-01, -4.73344684e-01,  8.17586899e-01]], dtype=float32)>"
            ]
          },
          "metadata": {},
          "execution_count": 62
        }
      ]
    },
    {
      "cell_type": "code",
      "source": [
        "import numpy as np\n",
        "op1=np.array(output1).flatten()\n",
        "op2=np.array(output2).flatten()"
      ],
      "metadata": {
        "id": "d_3IdIFgPFvm"
      },
      "execution_count": 65,
      "outputs": []
    },
    {
      "cell_type": "code",
      "source": [
        "op1.shape"
      ],
      "metadata": {
        "colab": {
          "base_uri": "https://localhost:8080/"
        },
        "id": "eSwkVQjiPFx7",
        "outputId": "85b2213d-112b-45ff-be46-48660a97385f"
      },
      "execution_count": 67,
      "outputs": [
        {
          "output_type": "execute_result",
          "data": {
            "text/plain": [
              "(768,)"
            ]
          },
          "metadata": {},
          "execution_count": 67
        }
      ]
    },
    {
      "cell_type": "code",
      "source": [
        "op=np.concatenate((op1,op2),axis=0)"
      ],
      "metadata": {
        "id": "diMKNd1jPF1N"
      },
      "execution_count": 71,
      "outputs": []
    },
    {
      "cell_type": "code",
      "source": [
        "op.shape"
      ],
      "metadata": {
        "colab": {
          "base_uri": "https://localhost:8080/"
        },
        "id": "dz6c5QhKPF4X",
        "outputId": "6fee9f80-0a00-4954-9e22-81cdcbc434ba"
      },
      "execution_count": 72,
      "outputs": [
        {
          "output_type": "execute_result",
          "data": {
            "text/plain": [
              "(1536,)"
            ]
          },
          "metadata": {},
          "execution_count": 72
        }
      ]
    },
    {
      "cell_type": "code",
      "source": [
        ""
      ],
      "metadata": {
        "id": "qSSXfjVuPF7J"
      },
      "execution_count": null,
      "outputs": []
    },
    {
      "cell_type": "code",
      "source": [
        ""
      ],
      "metadata": {
        "id": "Ae-5VoKcNUqm"
      },
      "execution_count": null,
      "outputs": []
    },
    {
      "cell_type": "code",
      "source": [
        "text_test = ['nice movie indeed','I love python programming']"
      ],
      "metadata": {
        "id": "2tHhJqGrNUta"
      },
      "execution_count": 74,
      "outputs": []
    },
    {
      "cell_type": "code",
      "source": [
        "text_preprocessed = bert_preprocess_model(text_test)\n",
        "text_preprocessed.keys()"
      ],
      "metadata": {
        "colab": {
          "base_uri": "https://localhost:8080/"
        },
        "id": "ZF55iU-jEpAd",
        "outputId": "1d790f46-e00a-4964-e90f-c3a2df9dd516"
      },
      "execution_count": 76,
      "outputs": [
        {
          "output_type": "execute_result",
          "data": {
            "text/plain": [
              "dict_keys(['input_word_ids', 'input_mask', 'input_type_ids'])"
            ]
          },
          "metadata": {},
          "execution_count": 76
        }
      ]
    },
    {
      "cell_type": "code",
      "source": [
        "bert_model = hub.KerasLayer(encoder_url)"
      ],
      "metadata": {
        "id": "9dvgoe0c5ANr"
      },
      "execution_count": 77,
      "outputs": []
    },
    {
      "cell_type": "code",
      "source": [
        "bert_results = bert_model(text_preprocessed)"
      ],
      "metadata": {
        "id": "i7_3NJ835APW"
      },
      "execution_count": 78,
      "outputs": []
    },
    {
      "cell_type": "code",
      "source": [
        "bert_results.keys()"
      ],
      "metadata": {
        "colab": {
          "base_uri": "https://localhost:8080/"
        },
        "id": "1kq8H-v-5ATV",
        "outputId": "03c81a21-f016-4183-d65c-f309d68f362b"
      },
      "execution_count": 79,
      "outputs": [
        {
          "output_type": "execute_result",
          "data": {
            "text/plain": [
              "dict_keys(['pooled_output', 'encoder_outputs', 'default', 'sequence_output'])"
            ]
          },
          "metadata": {},
          "execution_count": 79
        }
      ]
    },
    {
      "cell_type": "code",
      "source": [
        "bert_results['sequence_output']"
      ],
      "metadata": {
        "colab": {
          "base_uri": "https://localhost:8080/"
        },
        "id": "Sb0dFTny59y3",
        "outputId": "b815967e-d516-4b89-96bf-e9db6c4ee049"
      },
      "execution_count": 80,
      "outputs": [
        {
          "output_type": "execute_result",
          "data": {
            "text/plain": [
              "<tf.Tensor: shape=(2, 128, 768), dtype=float32, numpy=\n",
              "array([[[ 0.07292038,  0.08567814,  0.14476836, ..., -0.09677076,\n",
              "          0.08722121,  0.07711097],\n",
              "        [ 0.17839414, -0.1900604 ,  0.5034941 , ..., -0.05869804,\n",
              "          0.32717115, -0.15578558],\n",
              "        [ 0.18701461, -0.43388778, -0.48875132, ..., -0.1550277 ,\n",
              "          0.00145141, -0.24470924],\n",
              "        ...,\n",
              "        [ 0.12083073,  0.12884289,  0.46453542, ...,  0.07375539,\n",
              "          0.17441973,  0.1652207 ],\n",
              "        [ 0.07967845, -0.01190667,  0.50225425, ...,  0.13777739,\n",
              "          0.21002203,  0.00624604],\n",
              "        [-0.07212675, -0.28303453,  0.59033334, ...,  0.47551906,\n",
              "          0.16668513, -0.08920348]],\n",
              "\n",
              "       [[-0.07900578,  0.36335123, -0.21101587, ..., -0.1718373 ,\n",
              "          0.1629976 ,  0.67242676],\n",
              "        [ 0.27883524,  0.43716323, -0.35764697, ..., -0.04463601,\n",
              "          0.3831522 ,  0.58879864],\n",
              "        [ 1.2037674 ,  1.0727016 ,  0.48408747, ...,  0.24921075,\n",
              "          0.40730911,  0.40481794],\n",
              "        ...,\n",
              "        [ 0.08630044,  0.19353878,  0.4754006 , ...,  0.18880187,\n",
              "         -0.06474118,  0.31318578],\n",
              "        [ 0.15887028,  0.2857266 ,  0.37340802, ...,  0.09309116,\n",
              "         -0.04969557,  0.38761112],\n",
              "        [-0.08079842, -0.095728  ,  0.268098  , ...,  0.1397967 ,\n",
              "         -0.06315844,  0.27288336]]], dtype=float32)>"
            ]
          },
          "metadata": {},
          "execution_count": 80
        }
      ]
    },
    {
      "cell_type": "code",
      "source": [
        "output3=bert_results['pooled_output']"
      ],
      "metadata": {
        "id": "c7uLXPli590h"
      },
      "execution_count": 81,
      "outputs": []
    },
    {
      "cell_type": "code",
      "source": [
        "output3"
      ],
      "metadata": {
        "colab": {
          "base_uri": "https://localhost:8080/"
        },
        "id": "hNz1O3DIRIy0",
        "outputId": "6ef86793-2d1a-416e-8dff-b9945b709ea3"
      },
      "execution_count": 82,
      "outputs": [
        {
          "output_type": "execute_result",
          "data": {
            "text/plain": [
              "<tf.Tensor: shape=(2, 768), dtype=float32, numpy=\n",
              "array([[-0.7917739 , -0.21411908,  0.4976955 , ...,  0.24465227,\n",
              "        -0.47334468,  0.81758684],\n",
              "       [-0.9171231 , -0.47935188, -0.7865697 , ..., -0.6175174 ,\n",
              "        -0.7102687 ,  0.921843  ]], dtype=float32)>"
            ]
          },
          "metadata": {},
          "execution_count": 82
        }
      ]
    },
    {
      "cell_type": "code",
      "source": [
        "op3=np.array(output3).flatten()"
      ],
      "metadata": {
        "id": "Mrdi90YzRtkr"
      },
      "execution_count": 83,
      "outputs": []
    },
    {
      "cell_type": "code",
      "source": [
        "op3.shape"
      ],
      "metadata": {
        "colab": {
          "base_uri": "https://localhost:8080/"
        },
        "id": "S6Y5MpvBRtnn",
        "outputId": "af05e523-a8a4-40c0-8e87-77a4b2453a60"
      },
      "execution_count": 84,
      "outputs": [
        {
          "output_type": "execute_result",
          "data": {
            "text/plain": [
              "(1536,)"
            ]
          },
          "metadata": {},
          "execution_count": 84
        }
      ]
    },
    {
      "cell_type": "code",
      "source": [
        "comparison = op == op3\n",
        "equal_arrays = comparison.all()\n",
        "  \n",
        "print(equal_arrays)"
      ],
      "metadata": {
        "colab": {
          "base_uri": "https://localhost:8080/"
        },
        "id": "n9Qo9dJ-RtqG",
        "outputId": "9fcfe608-c67c-4946-8e8f-da9ff88eda96"
      },
      "execution_count": 85,
      "outputs": [
        {
          "output_type": "stream",
          "name": "stdout",
          "text": [
            "False\n"
          ]
        }
      ]
    },
    {
      "cell_type": "code",
      "source": [
        ""
      ],
      "metadata": {
        "id": "ukhRGHVSRtsp"
      },
      "execution_count": null,
      "outputs": []
    }
  ]
}