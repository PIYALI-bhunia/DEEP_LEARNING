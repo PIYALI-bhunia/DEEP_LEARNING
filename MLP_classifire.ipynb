{
  "nbformat": 4,
  "nbformat_minor": 0,
  "metadata": {
    "colab": {
      "name": "MLP classifire.ipynb",
      "provenance": [],
      "collapsed_sections": [],
      "include_colab_link": true
    },
    "kernelspec": {
      "name": "python3",
      "display_name": "Python 3"
    },
    "language_info": {
      "name": "python"
    },
    "accelerator": "GPU"
  },
  "cells": [
    {
      "cell_type": "markdown",
      "metadata": {
        "id": "view-in-github",
        "colab_type": "text"
      },
      "source": [
        "<a href=\"https://colab.research.google.com/github/PIYALI-bhunia/DEEP_LEARNING/blob/main/MLP_classifire.ipynb\" target=\"_parent\"><img src=\"https://colab.research.google.com/assets/colab-badge.svg\" alt=\"Open In Colab\"/></a>"
      ]
    },
    {
      "cell_type": "code",
      "metadata": {
        "id": "U9TGTaTHjfaQ"
      },
      "source": [
        "import tensorflow as tf\n",
        "from tensorflow.keras import datasets, layers, models\n",
        "import numpy as np\n",
        "import pandas as pd\n",
        "import matplotlib.pyplot as plt\n",
        "import keras\n",
        "from keras.models import Sequential\n",
        "from keras.layers import Dense"
      ],
      "execution_count": 29,
      "outputs": []
    },
    {
      "cell_type": "code",
      "source": [
        "(X_train , y_train), (X_test, y_test) = datasets.cifar10.load_data()\n",
        "X_train.shape"
      ],
      "metadata": {
        "colab": {
          "base_uri": "https://localhost:8080/"
        },
        "id": "w3kSyw8mLTy1",
        "outputId": "0c5592e0-1bf5-4229-b622-28fb1b59937a"
      },
      "execution_count": 31,
      "outputs": [
        {
          "output_type": "execute_result",
          "data": {
            "text/plain": [
              "(50000, 32, 32, 3)"
            ]
          },
          "metadata": {},
          "execution_count": 31
        }
      ]
    },
    {
      "cell_type": "code",
      "source": [
        "X_test.shape"
      ],
      "metadata": {
        "colab": {
          "base_uri": "https://localhost:8080/"
        },
        "id": "TIdqhll8a5L0",
        "outputId": "dc830dbb-6411-4ae9-843a-3cfa0818e801"
      },
      "execution_count": null,
      "outputs": [
        {
          "output_type": "execute_result",
          "data": {
            "text/plain": [
              "(10000, 32, 32, 3)"
            ]
          },
          "metadata": {},
          "execution_count": 9
        }
      ]
    },
    {
      "cell_type": "code",
      "source": [
        "\n",
        "#plot the first image in the dataset\n",
        "plt.imshow(X_train[2])"
      ],
      "metadata": {
        "colab": {
          "base_uri": "https://localhost:8080/",
          "height": 284
        },
        "id": "05nR0ymsRwv3",
        "outputId": "36faad73-af44-4f60-bbd4-dc8c07377d57"
      },
      "execution_count": 32,
      "outputs": [
        {
          "output_type": "execute_result",
          "data": {
            "text/plain": [
              "<matplotlib.image.AxesImage at 0x7f1287d9a110>"
            ]
          },
          "metadata": {},
          "execution_count": 32
        },
        {
          "output_type": "display_data",
          "data": {
            "image/png": "[encoded data removed]",
            "text/plain": [
              "<Figure size 432x288 with 1 Axes>"
            ]
          },
          "metadata": {
            "needs_background": "light"
          }
        }
      ]
    },
    {
      "cell_type": "code",
      "source": [
        "X_train = X_train / 255\n",
        "X_test = X_test / 255"
      ],
      "metadata": {
        "id": "04yyFisadIIc"
      },
      "execution_count": 24,
      "outputs": []
    },
    {
      "cell_type": "code",
      "source": [
        "# # Initialising the ANN\n",
        "classifier = Sequential()\n",
        "\n",
        "# Adding the input layer and the first hidden layer\n",
        "classifier.add(layers.Flatten(input_shape= (32,32,3)))\n",
        "\n",
        "classifier.add(Dense(units= 512, kernel_initializer='he_uniform',activation='relu'))\n",
        "\n",
        "# Adding the second hidden layer\n",
        "classifier.add(Dense(units= 256, kernel_initializer='he_uniform',activation='relu'))\n",
        "# Adding the output layer\n",
        "classifier.add(Dense(units= 10, kernel_initializer='he_uniform', activation = 'softmax'))\n",
        "\n"
      ],
      "metadata": {
        "id": "fSa_2Zq2dzQP"
      },
      "execution_count": 25,
      "outputs": []
    },
    {
      "cell_type": "code",
      "metadata": {
        "id": "_oAwgx7elwFm",
        "colab": {
          "base_uri": "https://localhost:8080/"
        },
        "outputId": "92bb7bd0-ac3c-4d5f-b4ca-bd110124259e"
      },
      "source": [
        "classifier.compile(optimizer = 'adam', loss = 'sparse_categorical_crossentropy' , metrics = ['accuracy'])\n",
        "classifier.summary()"
      ],
      "execution_count": null,
      "outputs": [
        {
          "output_type": "stream",
          "name": "stdout",
          "text": [
            "Model: \"sequential\"\n",
            "_________________________________________________________________\n",
            " Layer (type)                Output Shape              Param #   \n",
            "=================================================================\n",
            " flatten (Flatten)           (None, 3072)              0         \n",
            "                                                                 \n",
            " dense (Dense)               (None, 512)               1573376   \n",
            "                                                                 \n",
            " dense_1 (Dense)             (None, 256)               131328    \n",
            "                                                                 \n",
            " dense_2 (Dense)             (None, 10)                2570      \n",
            "                                                                 \n",
            "=================================================================\n",
            "Total params: 1,707,274\n",
            "Trainable params: 1,707,274\n",
            "Non-trainable params: 0\n",
            "_________________________________________________________________\n"
          ]
        }
      ]
    },
    {
      "cell_type": "code",
      "source": [
        "# Fitting the ANN to the Training set\n",
        "model_history = classifier.fit(X_train, y_train, validation_split=0.33, batch_size=32, epochs = 100)\n"
      ],
      "metadata": {
        "colab": {
          "base_uri": "https://localhost:8080/"
        },
        "id": "VERN8YuW21ib",
        "outputId": "2d455b82-fe86-432a-f143-0f205b5a3cd9"
      },
      "execution_count": null,
      "outputs": [
        {
          "output_type": "stream",
          "name": "stdout",
          "text": [
            "Epoch 1/100\n",
            "1047/1047 [==============================] - 8s 8ms/step - loss: 1.5571 - accuracy: 0.4433 - val_loss: 1.5935 - val_accuracy: 0.4315\n",
            "Epoch 2/100\n",
            "1047/1047 [==============================] - 7s 7ms/step - loss: 1.5158 - accuracy: 0.4552 - val_loss: 1.5247 - val_accuracy: 0.4534\n",
            "Epoch 3/100\n",
            "1047/1047 [==============================] - 7s 7ms/step - loss: 1.4856 - accuracy: 0.4686 - val_loss: 1.5163 - val_accuracy: 0.4662\n",
            "Epoch 4/100\n",
            "1047/1047 [==============================] - 7s 7ms/step - loss: 1.4582 - accuracy: 0.4780 - val_loss: 1.5569 - val_accuracy: 0.4481\n",
            "Epoch 5/100\n",
            "1047/1047 [==============================] - 6s 6ms/step - loss: 1.4368 - accuracy: 0.4869 - val_loss: 1.5271 - val_accuracy: 0.4548\n",
            "Epoch 6/100\n",
            "1047/1047 [==============================] - 6s 6ms/step - loss: 1.4152 - accuracy: 0.4935 - val_loss: 1.5341 - val_accuracy: 0.4604\n",
            "Epoch 7/100\n",
            "1047/1047 [==============================] - 7s 7ms/step - loss: 1.4025 - accuracy: 0.4965 - val_loss: 1.5278 - val_accuracy: 0.4667\n",
            "Epoch 8/100\n",
            "1047/1047 [==============================] - 7s 7ms/step - loss: 1.3804 - accuracy: 0.5050 - val_loss: 1.5512 - val_accuracy: 0.4524\n",
            "Epoch 9/100\n",
            "1047/1047 [==============================] - 7s 7ms/step - loss: 1.3620 - accuracy: 0.5123 - val_loss: 1.5214 - val_accuracy: 0.4646\n",
            "Epoch 10/100\n",
            "1047/1047 [==============================] - 7s 7ms/step - loss: 1.3481 - accuracy: 0.5157 - val_loss: 1.5031 - val_accuracy: 0.4812\n",
            "Epoch 11/100\n",
            "1047/1047 [==============================] - 6s 6ms/step - loss: 1.3402 - accuracy: 0.5227 - val_loss: 1.4947 - val_accuracy: 0.4775\n",
            "Epoch 12/100\n",
            "1047/1047 [==============================] - 7s 7ms/step - loss: 1.3203 - accuracy: 0.5272 - val_loss: 1.4834 - val_accuracy: 0.4811\n",
            "Epoch 13/100\n",
            "1047/1047 [==============================] - 7s 7ms/step - loss: 1.3106 - accuracy: 0.5322 - val_loss: 1.4864 - val_accuracy: 0.4822\n",
            "Epoch 14/100\n",
            "1047/1047 [==============================] - 7s 7ms/step - loss: 1.2868 - accuracy: 0.5405 - val_loss: 1.4986 - val_accuracy: 0.4798\n",
            "Epoch 15/100\n",
            "1047/1047 [==============================] - 7s 7ms/step - loss: 1.2834 - accuracy: 0.5415 - val_loss: 1.5697 - val_accuracy: 0.4647\n",
            "Epoch 16/100\n",
            "1047/1047 [==============================] - 6s 6ms/step - loss: 1.2688 - accuracy: 0.5456 - val_loss: 1.5334 - val_accuracy: 0.4727\n",
            "Epoch 17/100\n",
            "1047/1047 [==============================] - 6s 6ms/step - loss: 1.2551 - accuracy: 0.5497 - val_loss: 1.5041 - val_accuracy: 0.4833\n",
            "Epoch 18/100\n",
            "1047/1047 [==============================] - 6s 6ms/step - loss: 1.2465 - accuracy: 0.5540 - val_loss: 1.5053 - val_accuracy: 0.4899\n",
            "Epoch 19/100\n",
            "1047/1047 [==============================] - 7s 7ms/step - loss: 1.2331 - accuracy: 0.5579 - val_loss: 1.5107 - val_accuracy: 0.4876\n",
            "Epoch 20/100\n",
            "1047/1047 [==============================] - 6s 6ms/step - loss: 1.2256 - accuracy: 0.5573 - val_loss: 1.4982 - val_accuracy: 0.4950\n",
            "Epoch 21/100\n",
            "1047/1047 [==============================] - 8s 8ms/step - loss: 1.2133 - accuracy: 0.5657 - val_loss: 1.5181 - val_accuracy: 0.4833\n",
            "Epoch 22/100\n",
            "1047/1047 [==============================] - 6s 6ms/step - loss: 1.2022 - accuracy: 0.5685 - val_loss: 1.5246 - val_accuracy: 0.4797\n",
            "Epoch 23/100\n",
            "1047/1047 [==============================] - 7s 7ms/step - loss: 1.1937 - accuracy: 0.5726 - val_loss: 1.5420 - val_accuracy: 0.4812\n",
            "Epoch 24/100\n",
            "1047/1047 [==============================] - 7s 7ms/step - loss: 1.1909 - accuracy: 0.5733 - val_loss: 1.5516 - val_accuracy: 0.4850\n",
            "Epoch 25/100\n",
            "1047/1047 [==============================] - 7s 7ms/step - loss: 1.1762 - accuracy: 0.5779 - val_loss: 1.6318 - val_accuracy: 0.4709\n",
            "Epoch 26/100\n",
            "1047/1047 [==============================] - 7s 7ms/step - loss: 1.1680 - accuracy: 0.5819 - val_loss: 1.5562 - val_accuracy: 0.4846\n",
            "Epoch 27/100\n",
            "1047/1047 [==============================] - 7s 7ms/step - loss: 1.1665 - accuracy: 0.5800 - val_loss: 1.5532 - val_accuracy: 0.4834\n",
            "Epoch 28/100\n",
            "1047/1047 [==============================] - 6s 6ms/step - loss: 1.1574 - accuracy: 0.5845 - val_loss: 1.5555 - val_accuracy: 0.4814\n",
            "Epoch 29/100\n",
            "1047/1047 [==============================] - 6s 6ms/step - loss: 1.1445 - accuracy: 0.5893 - val_loss: 1.5729 - val_accuracy: 0.4812\n",
            "Epoch 30/100\n",
            "1047/1047 [==============================] - 7s 7ms/step - loss: 1.1447 - accuracy: 0.5908 - val_loss: 1.5980 - val_accuracy: 0.4876\n",
            "Epoch 31/100\n",
            "1047/1047 [==============================] - 7s 7ms/step - loss: 1.1339 - accuracy: 0.5939 - val_loss: 1.5811 - val_accuracy: 0.4898\n",
            "Epoch 32/100\n",
            "1047/1047 [==============================] - 8s 7ms/step - loss: 1.1216 - accuracy: 0.5982 - val_loss: 1.6044 - val_accuracy: 0.4839\n",
            "Epoch 33/100\n",
            "1047/1047 [==============================] - 8s 7ms/step - loss: 1.1201 - accuracy: 0.5967 - val_loss: 1.6444 - val_accuracy: 0.4722\n",
            "Epoch 34/100\n",
            "1047/1047 [==============================] - 6s 6ms/step - loss: 1.1069 - accuracy: 0.6021 - val_loss: 1.6725 - val_accuracy: 0.4683\n",
            "Epoch 35/100\n",
            "1047/1047 [==============================] - 8s 7ms/step - loss: 1.1110 - accuracy: 0.5985 - val_loss: 1.6106 - val_accuracy: 0.4806\n",
            "Epoch 36/100\n",
            "1047/1047 [==============================] - 8s 7ms/step - loss: 1.0958 - accuracy: 0.6055 - val_loss: 1.6446 - val_accuracy: 0.4808\n",
            "Epoch 37/100\n",
            "1047/1047 [==============================] - 8s 7ms/step - loss: 1.0850 - accuracy: 0.6132 - val_loss: 1.6643 - val_accuracy: 0.4658\n",
            "Epoch 38/100\n",
            "1047/1047 [==============================] - 6s 6ms/step - loss: 1.0874 - accuracy: 0.6114 - val_loss: 1.6574 - val_accuracy: 0.4812\n",
            "Epoch 39/100\n",
            "1047/1047 [==============================] - 6s 6ms/step - loss: 1.0773 - accuracy: 0.6099 - val_loss: 1.6259 - val_accuracy: 0.4895\n",
            "Epoch 40/100\n",
            "1047/1047 [==============================] - 7s 7ms/step - loss: 1.0685 - accuracy: 0.6166 - val_loss: 1.6400 - val_accuracy: 0.4787\n",
            "Epoch 41/100\n",
            "1047/1047 [==============================] - 6s 6ms/step - loss: 1.0684 - accuracy: 0.6145 - val_loss: 1.6798 - val_accuracy: 0.4763\n",
            "Epoch 42/100\n",
            "1047/1047 [==============================] - 6s 6ms/step - loss: 1.0698 - accuracy: 0.6159 - val_loss: 1.6681 - val_accuracy: 0.4790\n",
            "Epoch 43/100\n",
            "1047/1047 [==============================] - 7s 7ms/step - loss: 1.0540 - accuracy: 0.6228 - val_loss: 1.7149 - val_accuracy: 0.4750\n",
            "Epoch 44/100\n",
            "1047/1047 [==============================] - 6s 6ms/step - loss: 1.0467 - accuracy: 0.6245 - val_loss: 1.7034 - val_accuracy: 0.4757\n",
            "Epoch 45/100\n",
            "1047/1047 [==============================] - 7s 7ms/step - loss: 1.0440 - accuracy: 0.6238 - val_loss: 1.7412 - val_accuracy: 0.4755\n",
            "Epoch 46/100\n",
            "1047/1047 [==============================] - 8s 7ms/step - loss: 1.0394 - accuracy: 0.6261 - val_loss: 1.6976 - val_accuracy: 0.4701\n",
            "Epoch 47/100\n",
            "1047/1047 [==============================] - 7s 7ms/step - loss: 1.0341 - accuracy: 0.6294 - val_loss: 1.6797 - val_accuracy: 0.4805\n",
            "Epoch 48/100\n",
            "1047/1047 [==============================] - 6s 6ms/step - loss: 1.0244 - accuracy: 0.6316 - val_loss: 1.6982 - val_accuracy: 0.4708\n",
            "Epoch 49/100\n",
            "1047/1047 [==============================] - 6s 6ms/step - loss: 1.0216 - accuracy: 0.6333 - val_loss: 1.6982 - val_accuracy: 0.4772\n",
            "Epoch 50/100\n",
            "1047/1047 [==============================] - 7s 7ms/step - loss: 1.0198 - accuracy: 0.6305 - val_loss: 1.7322 - val_accuracy: 0.4794\n",
            "Epoch 51/100\n",
            "1047/1047 [==============================] - 8s 7ms/step - loss: 1.0147 - accuracy: 0.6364 - val_loss: 1.7446 - val_accuracy: 0.4823\n",
            "Epoch 52/100\n",
            "1047/1047 [==============================] - 6s 6ms/step - loss: 1.0098 - accuracy: 0.6373 - val_loss: 1.7665 - val_accuracy: 0.4697\n",
            "Epoch 53/100\n",
            "1047/1047 [==============================] - 6s 6ms/step - loss: 1.0081 - accuracy: 0.6379 - val_loss: 1.7512 - val_accuracy: 0.4764\n",
            "Epoch 54/100\n",
            "1047/1047 [==============================] - 8s 7ms/step - loss: 0.9983 - accuracy: 0.6385 - val_loss: 1.8336 - val_accuracy: 0.4702\n",
            "Epoch 55/100\n",
            "1047/1047 [==============================] - 8s 7ms/step - loss: 0.9886 - accuracy: 0.6442 - val_loss: 1.8118 - val_accuracy: 0.4705\n",
            "Epoch 56/100\n",
            "1047/1047 [==============================] - 8s 7ms/step - loss: 0.9961 - accuracy: 0.6406 - val_loss: 1.8618 - val_accuracy: 0.4678\n",
            "Epoch 57/100\n",
            "1047/1047 [==============================] - 8s 7ms/step - loss: 0.9900 - accuracy: 0.6418 - val_loss: 1.8179 - val_accuracy: 0.4709\n",
            "Epoch 58/100\n",
            "1047/1047 [==============================] - 8s 7ms/step - loss: 0.9715 - accuracy: 0.6524 - val_loss: 1.7925 - val_accuracy: 0.4796\n",
            "Epoch 59/100\n",
            "1047/1047 [==============================] - 6s 6ms/step - loss: 0.9831 - accuracy: 0.6448 - val_loss: 1.7326 - val_accuracy: 0.4695\n",
            "Epoch 60/100\n",
            "1047/1047 [==============================] - 8s 7ms/step - loss: 0.9734 - accuracy: 0.6483 - val_loss: 1.8497 - val_accuracy: 0.4598\n",
            "Epoch 61/100\n",
            "1047/1047 [==============================] - 6s 6ms/step - loss: 0.9744 - accuracy: 0.6479 - val_loss: 1.7948 - val_accuracy: 0.4737\n",
            "Epoch 62/100\n",
            "1047/1047 [==============================] - 6s 6ms/step - loss: 0.9584 - accuracy: 0.6553 - val_loss: 1.8184 - val_accuracy: 0.4740\n",
            "Epoch 63/100\n",
            "1047/1047 [==============================] - 6s 6ms/step - loss: 0.9654 - accuracy: 0.6518 - val_loss: 1.8839 - val_accuracy: 0.4756\n",
            "Epoch 64/100\n",
            "1047/1047 [==============================] - 6s 6ms/step - loss: 0.9543 - accuracy: 0.6586 - val_loss: 1.8212 - val_accuracy: 0.4834\n",
            "Epoch 65/100\n",
            "1047/1047 [==============================] - 8s 7ms/step - loss: 0.9573 - accuracy: 0.6528 - val_loss: 1.8545 - val_accuracy: 0.4760\n",
            "Epoch 66/100\n",
            "1047/1047 [==============================] - 8s 7ms/step - loss: 0.9521 - accuracy: 0.6592 - val_loss: 1.8648 - val_accuracy: 0.4766\n",
            "Epoch 67/100\n",
            "1047/1047 [==============================] - 6s 6ms/step - loss: 0.9463 - accuracy: 0.6581 - val_loss: 1.9227 - val_accuracy: 0.4729\n",
            "Epoch 68/100\n",
            "1047/1047 [==============================] - 7s 7ms/step - loss: 0.9480 - accuracy: 0.6590 - val_loss: 1.8961 - val_accuracy: 0.4720\n",
            "Epoch 69/100\n",
            "1047/1047 [==============================] - 6s 6ms/step - loss: 0.9348 - accuracy: 0.6614 - val_loss: 1.9524 - val_accuracy: 0.4591\n",
            "Epoch 70/100\n",
            "1047/1047 [==============================] - 6s 6ms/step - loss: 0.9264 - accuracy: 0.6637 - val_loss: 1.9266 - val_accuracy: 0.4755\n",
            "Epoch 71/100\n",
            "1047/1047 [==============================] - 6s 6ms/step - loss: 0.9337 - accuracy: 0.6631 - val_loss: 1.9843 - val_accuracy: 0.4719\n",
            "Epoch 72/100\n",
            "1047/1047 [==============================] - 6s 6ms/step - loss: 0.9195 - accuracy: 0.6663 - val_loss: 2.0101 - val_accuracy: 0.4678\n",
            "Epoch 73/100\n",
            "1047/1047 [==============================] - 6s 6ms/step - loss: 0.9200 - accuracy: 0.6680 - val_loss: 1.9181 - val_accuracy: 0.4790\n",
            "Epoch 74/100\n",
            "1047/1047 [==============================] - 6s 6ms/step - loss: 0.9215 - accuracy: 0.6676 - val_loss: 2.0054 - val_accuracy: 0.4715\n",
            "Epoch 75/100\n",
            "1047/1047 [==============================] - 8s 7ms/step - loss: 0.9190 - accuracy: 0.6693 - val_loss: 1.9598 - val_accuracy: 0.4646\n",
            "Epoch 76/100\n",
            "1047/1047 [==============================] - 7s 7ms/step - loss: 0.9144 - accuracy: 0.6693 - val_loss: 2.0603 - val_accuracy: 0.4645\n",
            "Epoch 77/100\n",
            "1047/1047 [==============================] - 6s 6ms/step - loss: 0.9096 - accuracy: 0.6731 - val_loss: 1.9655 - val_accuracy: 0.4715\n",
            "Epoch 78/100\n",
            "1047/1047 [==============================] - 6s 6ms/step - loss: 0.9038 - accuracy: 0.6740 - val_loss: 1.9246 - val_accuracy: 0.4716\n",
            "Epoch 79/100\n",
            "1047/1047 [==============================] - 7s 7ms/step - loss: 0.9079 - accuracy: 0.6756 - val_loss: 1.9857 - val_accuracy: 0.4693\n",
            "Epoch 80/100\n",
            "1047/1047 [==============================] - 6s 6ms/step - loss: 0.8989 - accuracy: 0.6739 - val_loss: 1.9964 - val_accuracy: 0.4635\n",
            "Epoch 81/100\n",
            "1047/1047 [==============================] - 7s 7ms/step - loss: 0.8944 - accuracy: 0.6778 - val_loss: 2.0597 - val_accuracy: 0.4664\n",
            "Epoch 82/100\n",
            "1047/1047 [==============================] - 6s 6ms/step - loss: 0.8954 - accuracy: 0.6757 - val_loss: 2.1020 - val_accuracy: 0.4589\n",
            "Epoch 83/100\n",
            "1047/1047 [==============================] - 8s 7ms/step - loss: 0.8829 - accuracy: 0.6787 - val_loss: 2.0198 - val_accuracy: 0.4675\n",
            "Epoch 84/100\n",
            "1047/1047 [==============================] - 8s 7ms/step - loss: 0.8841 - accuracy: 0.6818 - val_loss: 1.9963 - val_accuracy: 0.4727\n",
            "Epoch 85/100\n",
            "1047/1047 [==============================] - 7s 7ms/step - loss: 0.8853 - accuracy: 0.6756 - val_loss: 1.9550 - val_accuracy: 0.4710\n",
            "Epoch 86/100\n",
            "1047/1047 [==============================] - 6s 6ms/step - loss: 0.8783 - accuracy: 0.6826 - val_loss: 2.1473 - val_accuracy: 0.4607\n",
            "Epoch 87/100\n",
            "1047/1047 [==============================] - 7s 7ms/step - loss: 0.8846 - accuracy: 0.6822 - val_loss: 2.0348 - val_accuracy: 0.4733\n",
            "Epoch 88/100\n",
            "1047/1047 [==============================] - 8s 7ms/step - loss: 0.8733 - accuracy: 0.6861 - val_loss: 2.0532 - val_accuracy: 0.4576\n",
            "Epoch 89/100\n",
            "1047/1047 [==============================] - 7s 7ms/step - loss: 0.8768 - accuracy: 0.6822 - val_loss: 2.1005 - val_accuracy: 0.4659\n",
            "Epoch 90/100\n",
            "1047/1047 [==============================] - 6s 6ms/step - loss: 0.8570 - accuracy: 0.6883 - val_loss: 2.0286 - val_accuracy: 0.4703\n",
            "Epoch 91/100\n",
            "1047/1047 [==============================] - 7s 7ms/step - loss: 0.8725 - accuracy: 0.6839 - val_loss: 2.1067 - val_accuracy: 0.4727\n",
            "Epoch 92/100\n",
            "1047/1047 [==============================] - 6s 6ms/step - loss: 0.8711 - accuracy: 0.6852 - val_loss: 2.1372 - val_accuracy: 0.4671\n",
            "Epoch 93/100\n",
            "1047/1047 [==============================] - 6s 6ms/step - loss: 0.8597 - accuracy: 0.6917 - val_loss: 2.1702 - val_accuracy: 0.4662\n",
            "Epoch 94/100\n",
            "1047/1047 [==============================] - 7s 7ms/step - loss: 0.8562 - accuracy: 0.6928 - val_loss: 2.1955 - val_accuracy: 0.4578\n",
            "Epoch 95/100\n",
            "1047/1047 [==============================] - 6s 6ms/step - loss: 0.8532 - accuracy: 0.6896 - val_loss: 2.1438 - val_accuracy: 0.4690\n",
            "Epoch 96/100\n",
            "1047/1047 [==============================] - 7s 7ms/step - loss: 0.8453 - accuracy: 0.6953 - val_loss: 2.1379 - val_accuracy: 0.4685\n",
            "Epoch 97/100\n",
            "1047/1047 [==============================] - 6s 6ms/step - loss: 0.8503 - accuracy: 0.6917 - val_loss: 2.2111 - val_accuracy: 0.4630\n",
            "Epoch 98/100\n",
            "1047/1047 [==============================] - 6s 6ms/step - loss: 0.8485 - accuracy: 0.6930 - val_loss: 2.1540 - val_accuracy: 0.4664\n",
            "Epoch 99/100\n",
            "1047/1047 [==============================] - 7s 7ms/step - loss: 0.8470 - accuracy: 0.6921 - val_loss: 2.1929 - val_accuracy: 0.4554\n",
            "Epoch 100/100\n",
            "1047/1047 [==============================] - 6s 6ms/step - loss: 0.8329 - accuracy: 0.6985 - val_loss: 2.1122 - val_accuracy: 0.4661\n"
          ]
        }
      ]
    },
    {
      "cell_type": "code",
      "source": [
        "y_pred = classifier.predict(X_test)\n",
        "y_pred = [np.argmax(element) for element in y_pred]\n",
        "\n",
        "# Making the Confusion Matrix\n",
        "from sklearn.metrics import confusion_matrix\n",
        "from sklearn.metrics import accuracy_score\n",
        "print(accuracy_score(y_pred, y_test))\n",
        "cm = confusion_matrix(y_test, y_pred)\n",
        "print(cm)\n"
      ],
      "metadata": {
        "id": "IX9v0OIsGUab",
        "colab": {
          "base_uri": "https://localhost:8080/"
        },
        "outputId": "a397f833-3a72-4330-8a24-cb5b51864512"
      },
      "execution_count": null,
      "outputs": [
        {
          "output_type": "stream",
          "name": "stdout",
          "text": [
            "0.4652\n",
            "[[543  32  43  34  47  14  17  36 161  73]\n",
            " [ 55 493  27  27   9  15  21  37  87 229]\n",
            " [100  25 271  83 199  77  99  71  41  34]\n",
            " [ 44  22  88 277  91 178 123  75  48  54]\n",
            " [ 55  11  96  51 490  48 119  80  34  16]\n",
            " [ 43  15  83 191  90 335  94  79  36  34]\n",
            " [ 30  22  67  94 132  55 528  27  18  27]\n",
            " [ 49  21  54  67 112  66  39 499  25  68]\n",
            " [100  57  11  22  37  20  10  22 641  80]\n",
            " [ 61 151  14  27  16  15  18  49  74 575]]\n"
          ]
        }
      ]
    },
    {
      "cell_type": "code",
      "source": [
        "from sklearn.metrics import classification_report\n",
        "print(f\"{classification_report(y_test, y_pred)}\" )"
      ],
      "metadata": {
        "id": "JkIU0GHFMdN1",
        "colab": {
          "base_uri": "https://localhost:8080/"
        },
        "outputId": "9f4551aa-0283-4c76-c8b5-5ed4cd84ebee"
      },
      "execution_count": 20,
      "outputs": [
        {
          "output_type": "stream",
          "name": "stdout",
          "text": [
            "              precision    recall  f1-score   support\n",
            "\n",
            "           0       0.50      0.54      0.52      1000\n",
            "           1       0.58      0.49      0.53      1000\n",
            "           2       0.36      0.27      0.31      1000\n",
            "           3       0.32      0.28      0.30      1000\n",
            "           4       0.40      0.49      0.44      1000\n",
            "           5       0.41      0.34      0.37      1000\n",
            "           6       0.49      0.53      0.51      1000\n",
            "           7       0.51      0.50      0.51      1000\n",
            "           8       0.55      0.64      0.59      1000\n",
            "           9       0.48      0.57      0.53      1000\n",
            "\n",
            "    accuracy                           0.47     10000\n",
            "   macro avg       0.46      0.47      0.46     10000\n",
            "weighted avg       0.46      0.47      0.46     10000\n",
            "\n"
          ]
        }
      ]
    }
  ]
}